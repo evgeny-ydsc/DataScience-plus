{
 "cells": [
  {
   "cell_type": "markdown",
   "id": "9872b03e",
   "metadata": {},
   "source": [
    "# Appendix - comments legend"
   ]
  },
  {
   "cell_type": "markdown",
   "id": "d8cd7481",
   "metadata": {},
   "source": [
    "These icons and [tags] were used to simplify visualization and searching for conclusions, open questions and subtasks, not to forget to finish/check something important. It's convenient to copy a cell from here and paste it into the right place, adding details."
   ]
  },
  {
   "cell_type": "markdown",
   "id": "79330eae",
   "metadata": {},
   "source": [
    "👷🚩[todo] = this task is to be done"
   ]
  },
  {
   "cell_type": "markdown",
   "id": "961f81cb",
   "metadata": {},
   "source": [
    "👷✅ = the task has been done"
   ]
  },
  {
   "cell_type": "markdown",
   "id": "a85005e2",
   "metadata": {},
   "source": [
    "👷🚨[SOS] = need help"
   ]
  },
  {
   "cell_type": "markdown",
   "id": "498ec609",
   "metadata": {},
   "source": [
    "👷🔔[reminder] = some work to do or check later"
   ]
  },
  {
   "cell_type": "markdown",
   "id": "31db311d",
   "metadata": {},
   "source": [
    "⚠️[!] = important constraints or facts"
   ]
  },
  {
   "cell_type": "markdown",
   "id": "db6c154d",
   "metadata": {},
   "source": [
    "💡 [!]= something interesting"
   ]
  },
  {
   "cell_type": "markdown",
   "id": "757d06ef",
   "metadata": {},
   "source": [
    "🏭 [data transformation] this change should be done before training/testing/inference"
   ]
  },
  {
   "cell_type": "markdown",
   "id": "04c378b4",
   "metadata": {},
   "source": [
    "👷🚧🚧🚧🚧🚧 [in progress] = in progress right now"
   ]
  },
  {
   "cell_type": "markdown",
   "id": "9d697296",
   "metadata": {},
   "source": [
    "🚧⬇️🚧⬇️🚧⬇️🚧⬇️🚧⬇️🚧⬇️🚧⬇️🚧⬇️🚧⬇️🚧⬇️🚧"
   ]
  },
  {
   "cell_type": "markdown",
   "id": "c9bc61c7",
   "metadata": {},
   "source": [
    "➡️ some code to be reworked ⬅️"
   ]
  },
  {
   "cell_type": "markdown",
   "id": "cc29f214",
   "metadata": {},
   "source": [
    "🚧⬆️🚧⬆️🚧⬆️🚧⬆️🚧⬆️🚧⬆️🚧⬆️🚧⬆️🚧⬆️🚧⬆️🚧"
   ]
  }
 ],
 "metadata": {
  "ExecuteTimeLog": [
   {
    "duration": 4905,
    "start_time": "2024-12-20T06:16:27.583Z"
   },
   {
    "duration": 6426,
    "start_time": "2024-12-20T06:16:32.490Z"
   },
   {
    "duration": 17,
    "start_time": "2024-12-20T06:16:38.917Z"
   },
   {
    "duration": 114,
    "start_time": "2024-12-20T06:16:38.935Z"
   },
   {
    "duration": 68,
    "start_time": "2024-12-20T06:16:39.051Z"
   },
   {
    "duration": 95,
    "start_time": "2024-12-20T06:16:39.121Z"
   },
   {
    "duration": 10,
    "start_time": "2024-12-20T06:16:39.217Z"
   },
   {
    "duration": 8,
    "start_time": "2024-12-20T06:16:39.233Z"
   },
   {
    "duration": 8,
    "start_time": "2024-12-20T06:16:39.242Z"
   },
   {
    "duration": 35,
    "start_time": "2024-12-20T06:16:39.252Z"
   },
   {
    "duration": 81,
    "start_time": "2024-12-20T06:16:39.289Z"
   },
   {
    "duration": 17,
    "start_time": "2024-12-20T06:16:39.371Z"
   },
   {
    "duration": 7,
    "start_time": "2024-12-20T06:16:39.389Z"
   },
   {
    "duration": 36,
    "start_time": "2024-12-20T06:16:39.397Z"
   },
   {
    "duration": 4,
    "start_time": "2024-12-20T06:16:39.435Z"
   },
   {
    "duration": 22,
    "start_time": "2024-12-20T06:16:39.441Z"
   },
   {
    "duration": 24,
    "start_time": "2024-12-20T06:16:39.464Z"
   },
   {
    "duration": 4055,
    "start_time": "2024-12-20T06:16:39.521Z"
   },
   {
    "duration": 16,
    "start_time": "2024-12-20T06:16:43.577Z"
   },
   {
    "duration": 892,
    "start_time": "2024-12-20T06:16:43.594Z"
   },
   {
    "duration": 6,
    "start_time": "2024-12-20T06:16:44.487Z"
   },
   {
    "duration": 10,
    "start_time": "2024-12-20T06:16:44.494Z"
   },
   {
    "duration": 29,
    "start_time": "2024-12-20T06:16:44.506Z"
   },
   {
    "duration": 22068,
    "start_time": "2024-12-20T06:16:44.537Z"
   },
   {
    "duration": 50,
    "start_time": "2024-12-20T06:17:06.606Z"
   },
   {
    "duration": 3,
    "start_time": "2024-12-20T06:17:20.181Z"
   },
   {
    "duration": 21113,
    "start_time": "2024-12-20T06:19:52.566Z"
   },
   {
    "duration": 36,
    "start_time": "2024-12-20T06:21:17.528Z"
   },
   {
    "duration": 22941,
    "start_time": "2024-12-20T06:22:17.972Z"
   },
   {
    "duration": 141,
    "start_time": "2024-12-20T06:26:40.068Z"
   },
   {
    "duration": 16,
    "start_time": "2024-12-20T06:27:55.092Z"
   },
   {
    "duration": 22,
    "start_time": "2024-12-20T06:36:51.115Z"
   },
   {
    "duration": 5101,
    "start_time": "2024-12-20T07:41:43.718Z"
   },
   {
    "duration": 14,
    "start_time": "2024-12-20T07:41:48.823Z"
   },
   {
    "duration": 19,
    "start_time": "2024-12-20T07:41:48.842Z"
   },
   {
    "duration": 107,
    "start_time": "2024-12-20T07:41:48.863Z"
   },
   {
    "duration": 82,
    "start_time": "2024-12-20T07:41:48.972Z"
   },
   {
    "duration": 92,
    "start_time": "2024-12-20T07:41:49.055Z"
   },
   {
    "duration": 8,
    "start_time": "2024-12-20T07:41:49.149Z"
   },
   {
    "duration": 11,
    "start_time": "2024-12-20T07:41:49.159Z"
   },
   {
    "duration": 10,
    "start_time": "2024-12-20T07:41:49.171Z"
   },
   {
    "duration": 7,
    "start_time": "2024-12-20T07:41:49.185Z"
   },
   {
    "duration": 54,
    "start_time": "2024-12-20T07:41:49.193Z"
   },
   {
    "duration": 10,
    "start_time": "2024-12-20T07:41:49.249Z"
   },
   {
    "duration": 8,
    "start_time": "2024-12-20T07:41:49.261Z"
   },
   {
    "duration": 63,
    "start_time": "2024-12-20T07:41:49.270Z"
   },
   {
    "duration": 5,
    "start_time": "2024-12-20T07:41:49.335Z"
   },
   {
    "duration": 21,
    "start_time": "2024-12-20T07:41:49.341Z"
   },
   {
    "duration": 70,
    "start_time": "2024-12-20T07:41:49.364Z"
   },
   {
    "duration": 4302,
    "start_time": "2024-12-20T07:41:49.436Z"
   },
   {
    "duration": 14,
    "start_time": "2024-12-20T07:41:53.740Z"
   },
   {
    "duration": 918,
    "start_time": "2024-12-20T07:41:53.755Z"
   },
   {
    "duration": 5,
    "start_time": "2024-12-20T07:41:54.675Z"
   },
   {
    "duration": 6,
    "start_time": "2024-12-20T07:41:54.682Z"
   },
   {
    "duration": 20,
    "start_time": "2024-12-20T07:41:54.689Z"
   },
   {
    "duration": 22785,
    "start_time": "2024-12-20T07:41:54.710Z"
   },
   {
    "duration": 45,
    "start_time": "2024-12-20T07:42:17.496Z"
   },
   {
    "duration": 2,
    "start_time": "2024-12-20T07:42:17.543Z"
   },
   {
    "duration": 42,
    "start_time": "2024-12-20T07:42:17.547Z"
   },
   {
    "duration": 5,
    "start_time": "2024-12-20T07:42:17.592Z"
   },
   {
    "duration": 99,
    "start_time": "2024-12-20T07:42:17.598Z"
   },
   {
    "duration": 68,
    "start_time": "2024-12-20T07:42:17.698Z"
   },
   {
    "duration": 111,
    "start_time": "2024-12-20T07:42:17.767Z"
   },
   {
    "duration": 6,
    "start_time": "2024-12-20T07:42:17.879Z"
   },
   {
    "duration": 10,
    "start_time": "2024-12-20T07:42:17.887Z"
   },
   {
    "duration": 48,
    "start_time": "2024-12-20T07:42:17.898Z"
   },
   {
    "duration": 7,
    "start_time": "2024-12-20T07:42:17.947Z"
   },
   {
    "duration": 23,
    "start_time": "2024-12-20T07:42:17.956Z"
   },
   {
    "duration": 7,
    "start_time": "2024-12-20T07:42:17.980Z"
   },
   {
    "duration": 21,
    "start_time": "2024-12-20T07:42:17.988Z"
   },
   {
    "duration": 27,
    "start_time": "2024-12-20T07:42:18.011Z"
   },
   {
    "duration": 5,
    "start_time": "2024-12-20T07:42:18.040Z"
   },
   {
    "duration": 29,
    "start_time": "2024-12-20T07:42:18.047Z"
   },
   {
    "duration": 53,
    "start_time": "2024-12-20T07:42:18.077Z"
   },
   {
    "duration": 4239,
    "start_time": "2024-12-20T07:42:18.133Z"
   },
   {
    "duration": 19,
    "start_time": "2024-12-20T07:42:22.374Z"
   },
   {
    "duration": 900,
    "start_time": "2024-12-20T07:42:22.396Z"
   },
   {
    "duration": 13,
    "start_time": "2024-12-20T07:42:23.298Z"
   },
   {
    "duration": 22,
    "start_time": "2024-12-20T07:42:23.322Z"
   },
   {
    "duration": 9,
    "start_time": "2024-12-20T07:42:23.345Z"
   },
   {
    "duration": 9,
    "start_time": "2024-12-20T07:42:23.356Z"
   },
   {
    "duration": 152,
    "start_time": "2024-12-20T07:42:23.367Z"
   },
   {
    "duration": 42,
    "start_time": "2024-12-20T07:42:23.520Z"
   },
   {
    "duration": 3,
    "start_time": "2024-12-20T07:42:23.564Z"
   },
   {
    "duration": 376,
    "start_time": "2024-12-20T07:42:23.568Z"
   },
   {
    "duration": 5046,
    "start_time": "2024-12-20T08:53:22.873Z"
   },
   {
    "duration": 12,
    "start_time": "2024-12-20T08:53:27.922Z"
   },
   {
    "duration": 46,
    "start_time": "2024-12-20T08:53:27.936Z"
   },
   {
    "duration": 105,
    "start_time": "2024-12-20T08:53:27.984Z"
   },
   {
    "duration": 77,
    "start_time": "2024-12-20T08:53:28.090Z"
   },
   {
    "duration": 80,
    "start_time": "2024-12-20T08:53:28.169Z"
   },
   {
    "duration": 7,
    "start_time": "2024-12-20T08:53:28.251Z"
   },
   {
    "duration": 28,
    "start_time": "2024-12-20T08:53:28.260Z"
   },
   {
    "duration": 13,
    "start_time": "2024-12-20T08:53:28.292Z"
   },
   {
    "duration": 11,
    "start_time": "2024-12-20T08:53:28.308Z"
   },
   {
    "duration": 37,
    "start_time": "2024-12-20T08:53:28.320Z"
   },
   {
    "duration": 7,
    "start_time": "2024-12-20T08:53:28.359Z"
   },
   {
    "duration": 24,
    "start_time": "2024-12-20T08:53:28.368Z"
   },
   {
    "duration": 51,
    "start_time": "2024-12-20T08:53:28.393Z"
   },
   {
    "duration": 5,
    "start_time": "2024-12-20T08:53:28.445Z"
   },
   {
    "duration": 29,
    "start_time": "2024-12-20T08:53:28.452Z"
   },
   {
    "duration": 62,
    "start_time": "2024-12-20T08:53:28.483Z"
   },
   {
    "duration": 4320,
    "start_time": "2024-12-20T08:53:28.547Z"
   },
   {
    "duration": 15,
    "start_time": "2024-12-20T08:53:32.869Z"
   },
   {
    "duration": 1044,
    "start_time": "2024-12-20T08:53:32.886Z"
   },
   {
    "duration": 7,
    "start_time": "2024-12-20T08:53:33.933Z"
   },
   {
    "duration": 74,
    "start_time": "2024-12-20T08:53:33.942Z"
   },
   {
    "duration": 30,
    "start_time": "2024-12-20T08:53:34.017Z"
   },
   {
    "duration": 22695,
    "start_time": "2024-12-20T08:53:34.048Z"
   },
   {
    "duration": 34,
    "start_time": "2024-12-20T08:53:56.745Z"
   },
   {
    "duration": 15,
    "start_time": "2024-12-20T08:53:56.781Z"
   },
   {
    "duration": 42,
    "start_time": "2024-12-20T08:53:56.798Z"
   },
   {
    "duration": 3,
    "start_time": "2024-12-20T08:53:56.844Z"
   },
   {
    "duration": 97,
    "start_time": "2024-12-20T08:53:56.848Z"
   },
   {
    "duration": 83,
    "start_time": "2024-12-20T08:53:56.947Z"
   },
   {
    "duration": 78,
    "start_time": "2024-12-20T08:53:57.034Z"
   },
   {
    "duration": 6,
    "start_time": "2024-12-20T08:53:57.114Z"
   },
   {
    "duration": 18,
    "start_time": "2024-12-20T08:53:57.122Z"
   },
   {
    "duration": 8,
    "start_time": "2024-12-20T08:53:57.141Z"
   },
   {
    "duration": 12,
    "start_time": "2024-12-20T08:53:57.151Z"
   },
   {
    "duration": 19,
    "start_time": "2024-12-20T08:53:57.164Z"
   },
   {
    "duration": 7,
    "start_time": "2024-12-20T08:53:57.184Z"
   },
   {
    "duration": 44,
    "start_time": "2024-12-20T08:53:57.193Z"
   },
   {
    "duration": 24,
    "start_time": "2024-12-20T08:53:57.239Z"
   },
   {
    "duration": 4,
    "start_time": "2024-12-20T08:53:57.265Z"
   },
   {
    "duration": 58,
    "start_time": "2024-12-20T08:53:57.270Z"
   },
   {
    "duration": 9,
    "start_time": "2024-12-20T08:53:57.330Z"
   },
   {
    "duration": 4222,
    "start_time": "2024-12-20T08:53:57.341Z"
   },
   {
    "duration": 13,
    "start_time": "2024-12-20T08:54:01.565Z"
   },
   {
    "duration": 932,
    "start_time": "2024-12-20T08:54:01.579Z"
   },
   {
    "duration": 16,
    "start_time": "2024-12-20T08:54:02.513Z"
   },
   {
    "duration": 21,
    "start_time": "2024-12-20T08:54:02.530Z"
   },
   {
    "duration": 6,
    "start_time": "2024-12-20T08:54:02.553Z"
   },
   {
    "duration": 29,
    "start_time": "2024-12-20T08:54:02.560Z"
   },
   {
    "duration": 201,
    "start_time": "2024-12-20T08:54:02.590Z"
   },
   {
    "duration": 41,
    "start_time": "2024-12-20T08:54:02.793Z"
   },
   {
    "duration": 8,
    "start_time": "2024-12-20T08:54:02.836Z"
   },
   {
    "duration": 277,
    "start_time": "2024-12-20T08:54:02.845Z"
   },
   {
    "duration": 47,
    "start_time": "2024-12-20T08:54:03.123Z"
   },
   {
    "duration": 34,
    "start_time": "2024-12-20T08:54:03.172Z"
   },
   {
    "duration": 24,
    "start_time": "2024-12-20T08:54:03.221Z"
   },
   {
    "duration": 46,
    "start_time": "2024-12-20T08:54:03.246Z"
   },
   {
    "duration": 6,
    "start_time": "2024-12-20T08:54:03.294Z"
   },
   {
    "duration": 16682,
    "start_time": "2024-12-20T08:54:03.302Z"
   },
   {
    "duration": 4,
    "start_time": "2024-12-20T08:54:19.986Z"
   },
   {
    "duration": 195,
    "start_time": "2024-12-20T08:54:19.992Z"
   },
   {
    "duration": 16157,
    "start_time": "2024-12-20T08:54:20.189Z"
   },
   {
    "duration": 5078,
    "start_time": "2024-12-20T08:57:12.180Z"
   },
   {
    "duration": 7,
    "start_time": "2024-12-20T08:57:17.260Z"
   },
   {
    "duration": 43,
    "start_time": "2024-12-20T08:57:17.269Z"
   },
   {
    "duration": 134,
    "start_time": "2024-12-20T08:57:17.314Z"
   },
   {
    "duration": 90,
    "start_time": "2024-12-20T08:57:17.449Z"
   },
   {
    "duration": 95,
    "start_time": "2024-12-20T08:57:17.540Z"
   },
   {
    "duration": 7,
    "start_time": "2024-12-20T08:57:17.637Z"
   },
   {
    "duration": 35,
    "start_time": "2024-12-20T08:57:17.645Z"
   },
   {
    "duration": 9,
    "start_time": "2024-12-20T08:57:17.682Z"
   },
   {
    "duration": 6,
    "start_time": "2024-12-20T08:57:17.694Z"
   },
   {
    "duration": 30,
    "start_time": "2024-12-20T08:57:17.702Z"
   },
   {
    "duration": 8,
    "start_time": "2024-12-20T08:57:17.737Z"
   },
   {
    "duration": 10,
    "start_time": "2024-12-20T08:57:17.746Z"
   },
   {
    "duration": 22,
    "start_time": "2024-12-20T08:57:17.758Z"
   },
   {
    "duration": 5,
    "start_time": "2024-12-20T08:57:17.782Z"
   },
   {
    "duration": 63,
    "start_time": "2024-12-20T08:57:17.789Z"
   },
   {
    "duration": 27,
    "start_time": "2024-12-20T08:57:17.853Z"
   },
   {
    "duration": 4259,
    "start_time": "2024-12-20T08:57:17.882Z"
   },
   {
    "duration": 16,
    "start_time": "2024-12-20T08:57:22.143Z"
   },
   {
    "duration": 952,
    "start_time": "2024-12-20T08:57:22.160Z"
   },
   {
    "duration": 12,
    "start_time": "2024-12-20T08:57:23.125Z"
   },
   {
    "duration": 30,
    "start_time": "2024-12-20T08:57:23.138Z"
   },
   {
    "duration": 26,
    "start_time": "2024-12-20T08:57:23.170Z"
   },
   {
    "duration": 22662,
    "start_time": "2024-12-20T08:57:23.197Z"
   },
   {
    "duration": 33,
    "start_time": "2024-12-20T08:57:45.860Z"
   },
   {
    "duration": 18,
    "start_time": "2024-12-20T08:57:45.894Z"
   },
   {
    "duration": 24,
    "start_time": "2024-12-20T08:57:45.914Z"
   },
   {
    "duration": 2,
    "start_time": "2024-12-20T08:57:45.944Z"
   },
   {
    "duration": 137,
    "start_time": "2024-12-20T08:57:45.948Z"
   },
   {
    "duration": 82,
    "start_time": "2024-12-20T08:57:46.086Z"
   },
   {
    "duration": 79,
    "start_time": "2024-12-20T08:57:46.169Z"
   },
   {
    "duration": 7,
    "start_time": "2024-12-20T08:57:46.249Z"
   },
   {
    "duration": 16,
    "start_time": "2024-12-20T08:57:46.257Z"
   },
   {
    "duration": 28,
    "start_time": "2024-12-20T08:57:46.274Z"
   },
   {
    "duration": 11,
    "start_time": "2024-12-20T08:57:46.304Z"
   },
   {
    "duration": 21,
    "start_time": "2024-12-20T08:57:46.317Z"
   },
   {
    "duration": 7,
    "start_time": "2024-12-20T08:57:46.340Z"
   },
   {
    "duration": 7,
    "start_time": "2024-12-20T08:57:46.348Z"
   },
   {
    "duration": 23,
    "start_time": "2024-12-20T08:57:46.357Z"
   },
   {
    "duration": 9,
    "start_time": "2024-12-20T08:57:46.422Z"
   },
   {
    "duration": 32,
    "start_time": "2024-12-20T08:57:46.433Z"
   },
   {
    "duration": 7,
    "start_time": "2024-12-20T08:57:46.466Z"
   },
   {
    "duration": 4181,
    "start_time": "2024-12-20T08:57:46.474Z"
   },
   {
    "duration": 14,
    "start_time": "2024-12-20T08:57:50.657Z"
   },
   {
    "duration": 915,
    "start_time": "2024-12-20T08:57:50.673Z"
   },
   {
    "duration": 10,
    "start_time": "2024-12-20T08:57:51.589Z"
   },
   {
    "duration": 25,
    "start_time": "2024-12-20T08:57:51.601Z"
   },
   {
    "duration": 29,
    "start_time": "2024-12-20T08:57:51.633Z"
   },
   {
    "duration": 14,
    "start_time": "2024-12-20T08:57:51.663Z"
   },
   {
    "duration": 172,
    "start_time": "2024-12-20T08:57:51.679Z"
   },
   {
    "duration": 33,
    "start_time": "2024-12-20T08:57:51.853Z"
   },
   {
    "duration": 58,
    "start_time": "2024-12-20T08:57:51.887Z"
   },
   {
    "duration": 366,
    "start_time": "2024-12-20T08:57:51.947Z"
   },
   {
    "duration": 56,
    "start_time": "2024-12-20T08:57:52.315Z"
   },
   {
    "duration": 54,
    "start_time": "2024-12-20T08:57:52.373Z"
   },
   {
    "duration": 26,
    "start_time": "2024-12-20T08:57:52.429Z"
   },
   {
    "duration": 20,
    "start_time": "2024-12-20T08:57:52.458Z"
   },
   {
    "duration": 5,
    "start_time": "2024-12-20T08:57:52.480Z"
   },
   {
    "duration": 13882,
    "start_time": "2024-12-20T08:57:52.487Z"
   },
   {
    "duration": 5,
    "start_time": "2024-12-20T08:58:06.370Z"
   },
   {
    "duration": 104,
    "start_time": "2024-12-20T08:58:06.376Z"
   },
   {
    "duration": 16753,
    "start_time": "2024-12-20T08:58:06.482Z"
   },
   {
    "duration": 3,
    "start_time": "2024-12-20T19:49:04.515Z"
   },
   {
    "duration": 4,
    "start_time": "2024-12-20T19:49:12.914Z"
   },
   {
    "duration": 7297,
    "start_time": "2024-12-25T06:00:59.784Z"
   },
   {
    "duration": 2900,
    "start_time": "2024-12-25T06:01:36.144Z"
   },
   {
    "duration": 6384,
    "start_time": "2024-12-25T08:52:56.799Z"
   },
   {
    "duration": 5362,
    "start_time": "2024-12-25T08:53:03.186Z"
   },
   {
    "duration": 3,
    "start_time": "2024-12-25T08:53:08.550Z"
   },
   {
    "duration": 55,
    "start_time": "2024-12-25T08:53:08.555Z"
   },
   {
    "duration": 200,
    "start_time": "2024-12-25T08:53:08.612Z"
   },
   {
    "duration": 122,
    "start_time": "2024-12-25T08:53:08.813Z"
   },
   {
    "duration": 132,
    "start_time": "2024-12-25T08:53:08.937Z"
   },
   {
    "duration": 6,
    "start_time": "2024-12-25T08:53:09.071Z"
   },
   {
    "duration": 24,
    "start_time": "2024-12-25T08:53:09.079Z"
   },
   {
    "duration": 12,
    "start_time": "2024-12-25T08:53:09.105Z"
   },
   {
    "duration": 9,
    "start_time": "2024-12-25T08:53:09.119Z"
   },
   {
    "duration": 22,
    "start_time": "2024-12-25T08:53:09.129Z"
   },
   {
    "duration": 8,
    "start_time": "2024-12-25T08:53:09.152Z"
   },
   {
    "duration": 20,
    "start_time": "2024-12-25T08:53:09.161Z"
   },
   {
    "duration": 49,
    "start_time": "2024-12-25T08:53:09.183Z"
   },
   {
    "duration": 4,
    "start_time": "2024-12-25T08:53:09.234Z"
   },
   {
    "duration": 27,
    "start_time": "2024-12-25T08:53:09.239Z"
   },
   {
    "duration": 69,
    "start_time": "2024-12-25T08:53:09.267Z"
   },
   {
    "duration": 15,
    "start_time": "2024-12-25T08:53:09.338Z"
   },
   {
    "duration": 51,
    "start_time": "2024-12-25T08:53:09.355Z"
   },
   {
    "duration": 5026,
    "start_time": "2024-12-25T08:53:09.407Z"
   },
   {
    "duration": 24532,
    "start_time": "2024-12-25T08:53:14.435Z"
   },
   {
    "duration": 24733,
    "start_time": "2024-12-25T08:53:38.968Z"
   },
   {
    "duration": 458,
    "start_time": "2024-12-25T08:54:03.702Z"
   },
   {
    "duration": 2566,
    "start_time": "2024-12-25T08:54:04.162Z"
   },
   {
    "duration": 761,
    "start_time": "2024-12-25T08:54:06.730Z"
   },
   {
    "duration": 3742,
    "start_time": "2024-12-25T08:54:07.492Z"
   },
   {
    "duration": 5,
    "start_time": "2024-12-25T08:54:11.237Z"
   },
   {
    "duration": 29,
    "start_time": "2024-12-25T08:54:11.244Z"
   },
   {
    "duration": 9,
    "start_time": "2024-12-25T08:54:11.275Z"
   },
   {
    "duration": 5137,
    "start_time": "2024-12-25T09:14:41.151Z"
   },
   {
    "duration": 6,
    "start_time": "2024-12-25T09:14:46.291Z"
   },
   {
    "duration": 45,
    "start_time": "2024-12-25T09:14:46.299Z"
   },
   {
    "duration": 11,
    "start_time": "2024-12-25T09:14:46.347Z"
   },
   {
    "duration": 105,
    "start_time": "2024-12-25T09:14:46.360Z"
   },
   {
    "duration": 78,
    "start_time": "2024-12-25T09:14:46.466Z"
   },
   {
    "duration": 81,
    "start_time": "2024-12-25T09:14:46.545Z"
   },
   {
    "duration": 7,
    "start_time": "2024-12-25T09:14:46.627Z"
   },
   {
    "duration": 31,
    "start_time": "2024-12-25T09:14:46.635Z"
   },
   {
    "duration": 31,
    "start_time": "2024-12-25T09:14:46.668Z"
   },
   {
    "duration": 29,
    "start_time": "2024-12-25T09:14:46.700Z"
   },
   {
    "duration": 50,
    "start_time": "2024-12-25T09:14:46.731Z"
   },
   {
    "duration": 11,
    "start_time": "2024-12-25T09:14:46.783Z"
   },
   {
    "duration": 30,
    "start_time": "2024-12-25T09:14:46.796Z"
   },
   {
    "duration": 41,
    "start_time": "2024-12-25T09:14:46.827Z"
   },
   {
    "duration": 5,
    "start_time": "2024-12-25T09:14:46.869Z"
   },
   {
    "duration": 32,
    "start_time": "2024-12-25T09:14:46.875Z"
   },
   {
    "duration": 37,
    "start_time": "2024-12-25T09:14:46.908Z"
   },
   {
    "duration": 21,
    "start_time": "2024-12-25T09:14:46.947Z"
   },
   {
    "duration": 24,
    "start_time": "2024-12-25T09:14:46.970Z"
   },
   {
    "duration": 5865,
    "start_time": "2024-12-25T09:14:46.995Z"
   },
   {
    "duration": 26150,
    "start_time": "2024-12-25T09:14:52.862Z"
   },
   {
    "duration": 24735,
    "start_time": "2024-12-25T09:15:19.014Z"
   },
   {
    "duration": 420,
    "start_time": "2024-12-25T09:15:43.750Z"
   },
   {
    "duration": 2570,
    "start_time": "2024-12-25T09:15:44.172Z"
   },
   {
    "duration": 735,
    "start_time": "2024-12-25T09:15:46.744Z"
   },
   {
    "duration": 3755,
    "start_time": "2024-12-25T09:15:47.480Z"
   },
   {
    "duration": 5,
    "start_time": "2024-12-25T09:15:51.239Z"
   },
   {
    "duration": 49,
    "start_time": "2024-12-25T09:15:51.246Z"
   },
   {
    "duration": 56,
    "start_time": "2024-12-25T09:15:51.297Z"
   },
   {
    "duration": 20,
    "start_time": "2024-12-25T09:15:51.354Z"
   },
   {
    "duration": 12,
    "start_time": "2024-12-25T09:15:51.375Z"
   },
   {
    "duration": 4,
    "start_time": "2024-12-25T09:15:51.389Z"
   },
   {
    "duration": 20,
    "start_time": "2024-12-25T09:15:51.394Z"
   },
   {
    "duration": 24034,
    "start_time": "2024-12-25T09:15:51.415Z"
   },
   {
    "duration": 15,
    "start_time": "2024-12-25T09:16:15.451Z"
   },
   {
    "duration": 56,
    "start_time": "2024-12-25T09:16:15.467Z"
   },
   {
    "duration": 5,
    "start_time": "2024-12-25T09:16:15.525Z"
   },
   {
    "duration": 59,
    "start_time": "2024-12-25T09:16:15.531Z"
   },
   {
    "duration": 54,
    "start_time": "2024-12-25T09:16:15.592Z"
   },
   {
    "duration": 166,
    "start_time": "2024-12-25T09:16:15.647Z"
   },
   {
    "duration": 80,
    "start_time": "2024-12-25T09:16:15.814Z"
   },
   {
    "duration": 168,
    "start_time": "2024-12-25T09:16:15.896Z"
   },
   {
    "duration": 7,
    "start_time": "2024-12-25T09:16:16.065Z"
   },
   {
    "duration": 13,
    "start_time": "2024-12-25T09:16:16.073Z"
   },
   {
    "duration": 9,
    "start_time": "2024-12-25T09:16:16.087Z"
   },
   {
    "duration": 19,
    "start_time": "2024-12-25T09:16:16.097Z"
   },
   {
    "duration": 31,
    "start_time": "2024-12-25T09:16:16.117Z"
   },
   {
    "duration": 6,
    "start_time": "2024-12-25T09:16:16.151Z"
   },
   {
    "duration": 6,
    "start_time": "2024-12-25T09:16:16.159Z"
   },
   {
    "duration": 27,
    "start_time": "2024-12-25T09:16:16.166Z"
   },
   {
    "duration": 29,
    "start_time": "2024-12-25T09:16:16.195Z"
   },
   {
    "duration": 40,
    "start_time": "2024-12-25T09:16:16.226Z"
   },
   {
    "duration": 3,
    "start_time": "2024-12-25T09:16:16.267Z"
   },
   {
    "duration": 96,
    "start_time": "2024-12-25T09:16:16.271Z"
   },
   {
    "duration": 6421,
    "start_time": "2024-12-25T09:16:16.369Z"
   },
   {
    "duration": 330,
    "start_time": "2024-12-25T09:16:22.792Z"
   },
   {
    "duration": 334,
    "start_time": "2024-12-25T09:16:23.124Z"
   },
   {
    "duration": 16,
    "start_time": "2024-12-25T09:16:23.459Z"
   },
   {
    "duration": 720,
    "start_time": "2024-12-25T09:16:23.477Z"
   },
   {
    "duration": 5,
    "start_time": "2024-12-25T09:16:24.199Z"
   },
   {
    "duration": 25,
    "start_time": "2024-12-25T09:16:24.206Z"
   },
   {
    "duration": 17,
    "start_time": "2024-12-25T09:16:24.233Z"
   },
   {
    "duration": 39,
    "start_time": "2024-12-25T09:16:24.252Z"
   },
   {
    "duration": 334,
    "start_time": "2024-12-25T09:16:24.293Z"
   },
   {
    "duration": 303,
    "start_time": "2024-12-25T09:16:24.629Z"
   },
   {
    "duration": 800,
    "start_time": "2024-12-25T09:16:24.934Z"
   },
   {
    "duration": 305,
    "start_time": "2024-12-25T09:19:33.293Z"
   },
   {
    "duration": 280,
    "start_time": "2024-12-25T09:25:01.132Z"
   },
   {
    "duration": 298,
    "start_time": "2024-12-25T09:26:25.788Z"
   }
  ],
  "kernelspec": {
   "display_name": "practicum",
   "language": "python",
   "name": "python3"
  },
  "language_info": {
   "codemirror_mode": {
    "name": "ipython",
    "version": 3
   },
   "file_extension": ".py",
   "mimetype": "text/x-python",
   "name": "python",
   "nbconvert_exporter": "python",
   "pygments_lexer": "ipython3",
   "version": "3.9.21"
  },
  "toc": {
   "base_numbering": 1,
   "nav_menu": {},
   "number_sections": true,
   "sideBar": true,
   "skip_h1_title": true,
   "title_cell": "Table of Contents",
   "title_sidebar": "Contents",
   "toc_cell": false,
   "toc_position": {
    "height": "calc(100% - 180px)",
    "left": "10px",
    "top": "150px",
    "width": "291px"
   },
   "toc_section_display": true,
   "toc_window_display": false
  }
 },
 "nbformat": 4,
 "nbformat_minor": 5
}
