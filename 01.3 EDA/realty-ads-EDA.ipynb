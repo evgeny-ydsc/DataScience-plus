{
 "cells": [
  {
   "cell_type": "markdown",
   "metadata": {
    "id": "-VFbjcb3Awb7"
   },
   "source": [
    "# Исследование объявлений о продаже квартир\n",
    "\n",
    "В вашем распоряжении данные сервиса Яндекс Недвижимость — архив объявлений о продаже квартир в Санкт-Петербурге и соседних населённых пунктах за несколько лет. Вам нужно научиться определять рыночную стоимость объектов недвижимости. Для этого проведите исследовательский анализ данных и установите параметры, влияющие на цену объектов. Это позволит построить автоматизированную систему: она отследит аномалии и мошенническую деятельность.\n",
    "\n",
    "По каждой квартире на продажу доступны два вида данных. Первые вписаны пользователем, вторые — получены автоматически на основе картографических данных. Например, расстояние до центра, аэропорта и других объектов — эти данные автоматически получены из геосервисов. Количество парков и водоёмов также заполняется без участия пользователя."
   ]
  },
  {
   "cell_type": "markdown",
   "metadata": {
    "id": "aeFLH07FAwb9"
   },
   "source": [
    "### Откройте файл с данными и изучите общую информацию"
   ]
  },
  {
   "cell_type": "code",
   "execution_count": 1,
   "metadata": {},
   "outputs": [],
   "source": [
    "import pandas as pd\n",
    "import numpy as np\n",
    "import os.path\n",
    "import matplotlib.pyplot as plt"
   ]
  },
  {
   "cell_type": "code",
   "execution_count": 2,
   "metadata": {
    "id": "7MZxY65pAwb9",
    "scrolled": false
   },
   "outputs": [
    {
     "name": "stdout",
     "output_type": "stream",
     "text": [
      "<class 'pandas.core.frame.DataFrame'>\n",
      "RangeIndex: 23699 entries, 0 to 23698\n",
      "Data columns (total 22 columns):\n",
      " #   Column                Non-Null Count  Dtype  \n",
      "---  ------                --------------  -----  \n",
      " 0   total_images          23699 non-null  int64  \n",
      " 1   last_price            23699 non-null  float64\n",
      " 2   total_area            23699 non-null  float64\n",
      " 3   first_day_exposition  23699 non-null  object \n",
      " 4   rooms                 23699 non-null  int64  \n",
      " 5   ceiling_height        14504 non-null  float64\n",
      " 6   floors_total          23613 non-null  float64\n",
      " 7   living_area           21796 non-null  float64\n",
      " 8   floor                 23699 non-null  int64  \n",
      " 9   is_apartment          2775 non-null   object \n",
      " 10  studio                23699 non-null  bool   \n",
      " 11  open_plan             23699 non-null  bool   \n",
      " 12  kitchen_area          21421 non-null  float64\n",
      " 13  balcony               12180 non-null  float64\n",
      " 14  locality_name         23650 non-null  object \n",
      " 15  airports_nearest      18157 non-null  float64\n",
      " 16  cityCenters_nearest   18180 non-null  float64\n",
      " 17  parks_around3000      18181 non-null  float64\n",
      " 18  parks_nearest         8079 non-null   float64\n",
      " 19  ponds_around3000      18181 non-null  float64\n",
      " 20  ponds_nearest         9110 non-null   float64\n",
      " 21  days_exposition       20518 non-null  float64\n",
      "dtypes: bool(2), float64(14), int64(3), object(3)\n",
      "memory usage: 3.7+ MB\n"
     ]
    },
    {
     "data": {
      "text/plain": [
       "None"
      ]
     },
     "metadata": {},
     "output_type": "display_data"
    },
    {
     "data": {
      "text/html": [
       "<div>\n",
       "<style scoped>\n",
       "    .dataframe tbody tr th:only-of-type {\n",
       "        vertical-align: middle;\n",
       "    }\n",
       "\n",
       "    .dataframe tbody tr th {\n",
       "        vertical-align: top;\n",
       "    }\n",
       "\n",
       "    .dataframe thead th {\n",
       "        text-align: right;\n",
       "    }\n",
       "</style>\n",
       "<table border=\"1\" class=\"dataframe\">\n",
       "  <thead>\n",
       "    <tr style=\"text-align: right;\">\n",
       "      <th></th>\n",
       "      <th>total_images</th>\n",
       "      <th>last_price</th>\n",
       "      <th>total_area</th>\n",
       "      <th>first_day_exposition</th>\n",
       "      <th>rooms</th>\n",
       "      <th>ceiling_height</th>\n",
       "      <th>floors_total</th>\n",
       "      <th>living_area</th>\n",
       "      <th>floor</th>\n",
       "      <th>is_apartment</th>\n",
       "      <th>...</th>\n",
       "      <th>kitchen_area</th>\n",
       "      <th>balcony</th>\n",
       "      <th>locality_name</th>\n",
       "      <th>airports_nearest</th>\n",
       "      <th>cityCenters_nearest</th>\n",
       "      <th>parks_around3000</th>\n",
       "      <th>parks_nearest</th>\n",
       "      <th>ponds_around3000</th>\n",
       "      <th>ponds_nearest</th>\n",
       "      <th>days_exposition</th>\n",
       "    </tr>\n",
       "  </thead>\n",
       "  <tbody>\n",
       "    <tr>\n",
       "      <th>0</th>\n",
       "      <td>20</td>\n",
       "      <td>13000000.0</td>\n",
       "      <td>108.0</td>\n",
       "      <td>2019-03-07T00:00:00</td>\n",
       "      <td>3</td>\n",
       "      <td>2.70</td>\n",
       "      <td>16.0</td>\n",
       "      <td>51.0</td>\n",
       "      <td>8</td>\n",
       "      <td>NaN</td>\n",
       "      <td>...</td>\n",
       "      <td>25.0</td>\n",
       "      <td>NaN</td>\n",
       "      <td>Санкт-Петербург</td>\n",
       "      <td>18863.0</td>\n",
       "      <td>16028.0</td>\n",
       "      <td>1.0</td>\n",
       "      <td>482.0</td>\n",
       "      <td>2.0</td>\n",
       "      <td>755.0</td>\n",
       "      <td>NaN</td>\n",
       "    </tr>\n",
       "    <tr>\n",
       "      <th>1</th>\n",
       "      <td>7</td>\n",
       "      <td>3350000.0</td>\n",
       "      <td>40.4</td>\n",
       "      <td>2018-12-04T00:00:00</td>\n",
       "      <td>1</td>\n",
       "      <td>NaN</td>\n",
       "      <td>11.0</td>\n",
       "      <td>18.6</td>\n",
       "      <td>1</td>\n",
       "      <td>NaN</td>\n",
       "      <td>...</td>\n",
       "      <td>11.0</td>\n",
       "      <td>2.0</td>\n",
       "      <td>посёлок Шушары</td>\n",
       "      <td>12817.0</td>\n",
       "      <td>18603.0</td>\n",
       "      <td>0.0</td>\n",
       "      <td>NaN</td>\n",
       "      <td>0.0</td>\n",
       "      <td>NaN</td>\n",
       "      <td>81.0</td>\n",
       "    </tr>\n",
       "    <tr>\n",
       "      <th>2</th>\n",
       "      <td>10</td>\n",
       "      <td>5196000.0</td>\n",
       "      <td>56.0</td>\n",
       "      <td>2015-08-20T00:00:00</td>\n",
       "      <td>2</td>\n",
       "      <td>NaN</td>\n",
       "      <td>5.0</td>\n",
       "      <td>34.3</td>\n",
       "      <td>4</td>\n",
       "      <td>NaN</td>\n",
       "      <td>...</td>\n",
       "      <td>8.3</td>\n",
       "      <td>0.0</td>\n",
       "      <td>Санкт-Петербург</td>\n",
       "      <td>21741.0</td>\n",
       "      <td>13933.0</td>\n",
       "      <td>1.0</td>\n",
       "      <td>90.0</td>\n",
       "      <td>2.0</td>\n",
       "      <td>574.0</td>\n",
       "      <td>558.0</td>\n",
       "    </tr>\n",
       "    <tr>\n",
       "      <th>3</th>\n",
       "      <td>0</td>\n",
       "      <td>64900000.0</td>\n",
       "      <td>159.0</td>\n",
       "      <td>2015-07-24T00:00:00</td>\n",
       "      <td>3</td>\n",
       "      <td>NaN</td>\n",
       "      <td>14.0</td>\n",
       "      <td>NaN</td>\n",
       "      <td>9</td>\n",
       "      <td>NaN</td>\n",
       "      <td>...</td>\n",
       "      <td>NaN</td>\n",
       "      <td>0.0</td>\n",
       "      <td>Санкт-Петербург</td>\n",
       "      <td>28098.0</td>\n",
       "      <td>6800.0</td>\n",
       "      <td>2.0</td>\n",
       "      <td>84.0</td>\n",
       "      <td>3.0</td>\n",
       "      <td>234.0</td>\n",
       "      <td>424.0</td>\n",
       "    </tr>\n",
       "    <tr>\n",
       "      <th>4</th>\n",
       "      <td>2</td>\n",
       "      <td>10000000.0</td>\n",
       "      <td>100.0</td>\n",
       "      <td>2018-06-19T00:00:00</td>\n",
       "      <td>2</td>\n",
       "      <td>3.03</td>\n",
       "      <td>14.0</td>\n",
       "      <td>32.0</td>\n",
       "      <td>13</td>\n",
       "      <td>NaN</td>\n",
       "      <td>...</td>\n",
       "      <td>41.0</td>\n",
       "      <td>NaN</td>\n",
       "      <td>Санкт-Петербург</td>\n",
       "      <td>31856.0</td>\n",
       "      <td>8098.0</td>\n",
       "      <td>2.0</td>\n",
       "      <td>112.0</td>\n",
       "      <td>1.0</td>\n",
       "      <td>48.0</td>\n",
       "      <td>121.0</td>\n",
       "    </tr>\n",
       "  </tbody>\n",
       "</table>\n",
       "<p>5 rows × 22 columns</p>\n",
       "</div>"
      ],
      "text/plain": [
       "   total_images  last_price  total_area first_day_exposition  rooms  \\\n",
       "0            20  13000000.0       108.0  2019-03-07T00:00:00      3   \n",
       "1             7   3350000.0        40.4  2018-12-04T00:00:00      1   \n",
       "2            10   5196000.0        56.0  2015-08-20T00:00:00      2   \n",
       "3             0  64900000.0       159.0  2015-07-24T00:00:00      3   \n",
       "4             2  10000000.0       100.0  2018-06-19T00:00:00      2   \n",
       "\n",
       "   ceiling_height  floors_total  living_area  floor is_apartment  ...  \\\n",
       "0            2.70          16.0         51.0      8          NaN  ...   \n",
       "1             NaN          11.0         18.6      1          NaN  ...   \n",
       "2             NaN           5.0         34.3      4          NaN  ...   \n",
       "3             NaN          14.0          NaN      9          NaN  ...   \n",
       "4            3.03          14.0         32.0     13          NaN  ...   \n",
       "\n",
       "   kitchen_area  balcony    locality_name  airports_nearest  \\\n",
       "0          25.0      NaN  Санкт-Петербург           18863.0   \n",
       "1          11.0      2.0   посёлок Шушары           12817.0   \n",
       "2           8.3      0.0  Санкт-Петербург           21741.0   \n",
       "3           NaN      0.0  Санкт-Петербург           28098.0   \n",
       "4          41.0      NaN  Санкт-Петербург           31856.0   \n",
       "\n",
       "  cityCenters_nearest  parks_around3000  parks_nearest  ponds_around3000  \\\n",
       "0             16028.0               1.0          482.0               2.0   \n",
       "1             18603.0               0.0            NaN               0.0   \n",
       "2             13933.0               1.0           90.0               2.0   \n",
       "3              6800.0               2.0           84.0               3.0   \n",
       "4              8098.0               2.0          112.0               1.0   \n",
       "\n",
       "   ponds_nearest  days_exposition  \n",
       "0          755.0              NaN  \n",
       "1            NaN             81.0  \n",
       "2          574.0            558.0  \n",
       "3          234.0            424.0  \n",
       "4           48.0            121.0  \n",
       "\n",
       "[5 rows x 22 columns]"
      ]
     },
     "metadata": {},
     "output_type": "display_data"
    },
    {
     "data": {
      "image/png": "[encoded data removed]",
      "text/plain": [
       "<Figure size 720x1080 with 20 Axes>"
      ]
     },
     "metadata": {
      "needs_background": "light"
     },
     "output_type": "display_data"
    }
   ],
   "source": [
    "# Проект делаю локально в VSCode\n",
    "csv_path = 'real_estate_data.csv'\n",
    "if not os.path.exists(csv_path):\n",
    "    csv_path = '/datasets/' + csv_path\n",
    "\n",
    "data = pd.read_csv(csv_path, sep='\\t')\n",
    "display(data.info())\n",
    "display(data.head())\n",
    "data.hist( figsize=(10, 15));"
   ]
  },
  {
   "cell_type": "markdown",
   "metadata": {},
   "source": [
    "Данные загрузились корректно после замены разделителя на табуляцию.\n",
    "Размер датасета более 20 тыс - кажется, это достаточный размер для изучения (но точных методов оценки этого я не помню - недеюсь, мы ещё будем их проходить.).\n",
    "\n",
    "Некоторые гистограммы слишком скучены вокруг одного значения. Нужно будет рассмореть более узкий их range и удалить их рассмотрения в случае если распределение совсем мало (то есть оно не варьируется и ничего не решает)."
   ]
  },
  {
   "cell_type": "markdown",
   "metadata": {
    "id": "-O5NtivEAwb9"
   },
   "source": [
    "### Выполните предобработку данных"
   ]
  },
  {
   "cell_type": "markdown",
   "metadata": {},
   "source": [
    "#### Рассмотрим типы данных в каждом столбце"
   ]
  },
  {
   "cell_type": "code",
   "execution_count": 3,
   "metadata": {},
   "outputs": [
    {
     "data": {
      "text/plain": [
       "is_apartment            0.882906\n",
       "parks_nearest           0.659100\n",
       "ponds_nearest           0.615596\n",
       "balcony                 0.486054\n",
       "ceiling_height          0.387991\n",
       "airports_nearest        0.233850\n",
       "cityCenters_nearest     0.232879\n",
       "ponds_around3000        0.232837\n",
       "parks_around3000        0.232837\n",
       "days_exposition         0.134225\n",
       "kitchen_area            0.096122\n",
       "living_area             0.080299\n",
       "floors_total            0.003629\n",
       "locality_name           0.002068\n",
       "total_images            0.000000\n",
       "last_price              0.000000\n",
       "studio                  0.000000\n",
       "floor                   0.000000\n",
       "rooms                   0.000000\n",
       "first_day_exposition    0.000000\n",
       "total_area              0.000000\n",
       "open_plan               0.000000\n",
       "dtype: float64"
      ]
     },
     "execution_count": 3,
     "metadata": {},
     "output_type": "execute_result"
    }
   ],
   "source": [
    "(data.isna().sum()/len(data)).sort_values(ascending=False)"
   ]
  },
  {
   "cell_type": "markdown",
   "metadata": {},
   "source": [
    "Рассмотрим пропущенные данные."
   ]
  },
  {
   "cell_type": "code",
   "execution_count": 4,
   "metadata": {},
   "outputs": [],
   "source": [
    "def describe_field(data, field_name):\n",
    "    display (f\"amount of NaN is {data[field_name].isna().sum()}, {(data[field_name].isna().sum() / len(data) * 100).astype('int')}%\")\n",
    "    display(data[field_name].describe())"
   ]
  },
  {
   "cell_type": "code",
   "execution_count": 5,
   "metadata": {},
   "outputs": [
    {
     "data": {
      "text/plain": [
       "False    2725\n",
       "True       50\n",
       "Name: is_apartment, dtype: int64"
      ]
     },
     "metadata": {},
     "output_type": "display_data"
    },
    {
     "data": {
      "text/plain": [
       "'amount of NaN is 20924, 88%'"
      ]
     },
     "metadata": {},
     "output_type": "display_data"
    },
    {
     "data": {
      "text/plain": [
       "count      2775\n",
       "unique        2\n",
       "top       False\n",
       "freq       2725\n",
       "Name: is_apartment, dtype: object"
      ]
     },
     "metadata": {},
     "output_type": "display_data"
    }
   ],
   "source": [
    "display((data['is_apartment'].value_counts()))\n",
    "describe_field(data, 'is_apartment')"
   ]
  },
  {
   "cell_type": "markdown",
   "metadata": {},
   "source": [
    "Апартаменты это или квартира - важный признак в плане налогов и последующей возможной перепродажи.\n",
    "\n",
    "С одной стороны люди, не интересовавшиеся раньше апартами могут вообще не знать, что это такое и не придать значение этому полю. То есть можно было бы по умолчанию считать, что NaN - это квартира.\n",
    "\n",
    "С другой стороны апартаменты могут быть менее желательным вариантом для покупателя, и продавцы могут сознательно выдавать апарты за квартиры \"забыв\" поставить галку. И тогда можно было бы предложить по умолчанию ставить апарты.\n",
    "\n",
    "Это поле - довольно \"чувствительное\" по значению. И доля неопределённости слишком велика (20924/23699=88%) - в 88% случаев мы не знаем, человек хитрит, не понимает о чём его спрашивают, или не заметил. Поэтому я бы это поле предложил далее не учитывать (сделав его в будущих версиях сервиса его обязательным для заполнения и с пояснением для заполняющего).\n"
   ]
  },
  {
   "cell_type": "code",
   "execution_count": 6,
   "metadata": {},
   "outputs": [],
   "source": [
    "data['is_apartment'] = data['is_apartment'].fillna (False)"
   ]
  },
  {
   "cell_type": "code",
   "execution_count": 7,
   "metadata": {},
   "outputs": [
    {
     "data": {
      "text/plain": [
       "'amount of NaN is 15620, 65%'"
      ]
     },
     "metadata": {},
     "output_type": "display_data"
    },
    {
     "data": {
      "text/plain": [
       "count    8079.000000\n",
       "mean      490.804555\n",
       "std       342.317995\n",
       "min         1.000000\n",
       "25%       288.000000\n",
       "50%       455.000000\n",
       "75%       612.000000\n",
       "max      3190.000000\n",
       "Name: parks_nearest, dtype: float64"
      ]
     },
     "metadata": {},
     "output_type": "display_data"
    }
   ],
   "source": [
    "describe_field (data, 'parks_nearest')"
   ]
  },
  {
   "cell_type": "markdown",
   "metadata": {},
   "source": [
    "15620/23699 значений пустые. В то же время наличие парка - конкурентное преимущество, и продавец вряд ли захотел бы его скрывать. Вероятно парка радом нет. Исходя из максимальной указанной удалённости в 3км - заменим NaN на 30 км (и перепроверим число пустых). Это стоит сделать, чтобы можно было рассчитывать корреляции между значениями."
   ]
  },
  {
   "cell_type": "code",
   "execution_count": 8,
   "metadata": {},
   "outputs": [],
   "source": [
    "far_far_away = 30000\n",
    "\n",
    "data['parks_nearest'] = data['parks_nearest'].fillna (far_far_away)\n"
   ]
  },
  {
   "cell_type": "markdown",
   "metadata": {},
   "source": [
    "сделаем то же с прудами"
   ]
  },
  {
   "cell_type": "code",
   "execution_count": 9,
   "metadata": {},
   "outputs": [
    {
     "data": {
      "text/plain": [
       "'amount of NaN is 14589, 61%'"
      ]
     },
     "metadata": {},
     "output_type": "display_data"
    },
    {
     "data": {
      "text/plain": [
       "count    9110.000000\n",
       "mean      517.980900\n",
       "std       277.720643\n",
       "min        13.000000\n",
       "25%       294.000000\n",
       "50%       502.000000\n",
       "75%       729.000000\n",
       "max      1344.000000\n",
       "Name: ponds_nearest, dtype: float64"
      ]
     },
     "metadata": {},
     "output_type": "display_data"
    }
   ],
   "source": [
    "describe_field (data, 'ponds_nearest')"
   ]
  },
  {
   "cell_type": "code",
   "execution_count": 10,
   "metadata": {},
   "outputs": [],
   "source": [
    "data['ponds_nearest'] = data['ponds_nearest'].fillna (far_far_away)"
   ]
  },
  {
   "cell_type": "markdown",
   "metadata": {},
   "source": [
    "Пропуски балконов переделаем в отсутствие балконов"
   ]
  },
  {
   "cell_type": "code",
   "execution_count": 11,
   "metadata": {},
   "outputs": [
    {
     "data": {
      "text/plain": [
       "0"
      ]
     },
     "metadata": {},
     "output_type": "display_data"
    }
   ],
   "source": [
    "data['balcony'] = data['balcony'].fillna(0)\n",
    "display(data['balcony'].isna().sum())\n"
   ]
  },
  {
   "cell_type": "code",
   "execution_count": 12,
   "metadata": {},
   "outputs": [
    {
     "data": {
      "text/plain": [
       "'amount of NaN is 9195, 38%'"
      ]
     },
     "metadata": {},
     "output_type": "display_data"
    },
    {
     "data": {
      "text/plain": [
       "count    14504.000000\n",
       "mean         2.771499\n",
       "std          1.261056\n",
       "min          1.000000\n",
       "25%          2.520000\n",
       "50%          2.650000\n",
       "75%          2.800000\n",
       "max        100.000000\n",
       "Name: ceiling_height, dtype: float64"
      ]
     },
     "metadata": {},
     "output_type": "display_data"
    }
   ],
   "source": [
    "#высота потолков (м)\n",
    "describe_field (data, 'ceiling_height')"
   ]
  },
  {
   "cell_type": "markdown",
   "metadata": {},
   "source": [
    "Высоту потолков заменим медианой (она равноценна среднему при отсутствии всплесков, но всё же надёжнее, наверное использовать медиану?). Те, у кого она больше среднего постараются это указать, им невыгодно это умалчивать."
   ]
  },
  {
   "cell_type": "markdown",
   "metadata": {},
   "source": [
    "Не понятно, что делать с квартирами высотой 1 м? Таких квартир не бывает. Как мниимум, пока отдельно это отметим."
   ]
  },
  {
   "cell_type": "code",
   "execution_count": 13,
   "metadata": {},
   "outputs": [],
   "source": [
    "data['ceiling_height'] = data['ceiling_height'].fillna(data['ceiling_height'].median())"
   ]
  },
  {
   "cell_type": "code",
   "execution_count": 14,
   "metadata": {},
   "outputs": [
    {
     "data": {
      "text/plain": [
       "'amount of NaN is 5542, 23%'"
      ]
     },
     "metadata": {},
     "output_type": "display_data"
    },
    {
     "data": {
      "text/plain": [
       "count    18157.000000\n",
       "mean     28793.672193\n",
       "std      12630.880622\n",
       "min          0.000000\n",
       "25%      18585.000000\n",
       "50%      26726.000000\n",
       "75%      37273.000000\n",
       "max      84869.000000\n",
       "Name: airports_nearest, dtype: float64"
      ]
     },
     "metadata": {},
     "output_type": "display_data"
    }
   ],
   "source": [
    "#расстояние до ближайшего аэропорта в метрах (м)\n",
    "describe_field (data, 'airports_nearest')"
   ]
  },
  {
   "cell_type": "markdown",
   "metadata": {},
   "source": [
    "если не указал - значит далеко, заменим пропуски 100 км (чуть больше, чем максимум)"
   ]
  },
  {
   "cell_type": "code",
   "execution_count": 15,
   "metadata": {},
   "outputs": [],
   "source": [
    "data['airports_nearest'] = data['airports_nearest'].fillna (100000)"
   ]
  },
  {
   "cell_type": "code",
   "execution_count": 16,
   "metadata": {},
   "outputs": [
    {
     "data": {
      "text/plain": [
       "'amount of NaN is 5519, 23%'"
      ]
     },
     "metadata": {},
     "output_type": "display_data"
    },
    {
     "data": {
      "text/plain": [
       "count    18180.000000\n",
       "mean     14191.277833\n",
       "std       8608.386210\n",
       "min        181.000000\n",
       "25%       9238.000000\n",
       "50%      13098.500000\n",
       "75%      16293.000000\n",
       "max      65968.000000\n",
       "Name: cityCenters_nearest, dtype: float64"
      ]
     },
     "metadata": {},
     "output_type": "display_data"
    }
   ],
   "source": [
    "#расстояние до центра города (м)\n",
    "describe_field (data, 'cityCenters_nearest')"
   ]
  },
  {
   "cell_type": "markdown",
   "metadata": {},
   "source": [
    "Это крайне важный показатель. При этом, он должен заполняться автоматически. В этом месте пишу багу разработчикам - почему есть пропуски?\n",
    "\n",
    "Заполнять его средним нельзя, кажется. Подгонять такой важный параметр кажется неправильным - пусть уж лучше вылезут NaN в рассчётах. Пожалуйста, поправьте меня, если неправ.\n",
    "\n",
    "Удалять 23% данных тоже кажется неверным.\n",
    "\n",
    "Хм. Почему в фичах нет расстояния до ближайшего метро? Это же \"архив объявлений о продаже квартир в Санкт-Петербурге и соседних населённых пунктах за несколько лет\". Также пишу багу продакт-менеджеру. Это тоже довольно важный параметр, который должен рассчитываться автоматически (для Питера, не для области)."
   ]
  },
  {
   "cell_type": "code",
   "execution_count": 17,
   "metadata": {},
   "outputs": [
    {
     "data": {
      "text/plain": [
       "'amount of NaN is 5518, 23%'"
      ]
     },
     "metadata": {},
     "output_type": "display_data"
    },
    {
     "data": {
      "text/plain": [
       "count    18181.000000\n",
       "mean         0.770255\n",
       "std          0.938346\n",
       "min          0.000000\n",
       "25%          0.000000\n",
       "50%          1.000000\n",
       "75%          1.000000\n",
       "max          3.000000\n",
       "Name: ponds_around3000, dtype: float64"
      ]
     },
     "metadata": {},
     "output_type": "display_data"
    },
    {
     "data": {
      "text/plain": [
       "'amount of NaN is 5518, 23%'"
      ]
     },
     "metadata": {},
     "output_type": "display_data"
    },
    {
     "data": {
      "text/plain": [
       "count    18181.000000\n",
       "mean         0.611408\n",
       "std          0.802074\n",
       "min          0.000000\n",
       "25%          0.000000\n",
       "50%          0.000000\n",
       "75%          1.000000\n",
       "max          3.000000\n",
       "Name: parks_around3000, dtype: float64"
      ]
     },
     "metadata": {},
     "output_type": "display_data"
    }
   ],
   "source": [
    "#число водоёмов в радиусе 3 км\n",
    "describe_field (data, 'ponds_around3000')\n",
    "describe_field (data, 'parks_around3000')"
   ]
  },
  {
   "cell_type": "markdown",
   "metadata": {},
   "source": [
    "Эти почему-то хочется заполнить медианой, т. к. не так важны по сравнению с метрами до пруда/парка."
   ]
  },
  {
   "cell_type": "code",
   "execution_count": 19,
   "metadata": {},
   "outputs": [
    {
     "data": {
      "text/plain": [
       "'amount of NaN is 3181, 13%'"
      ]
     },
     "metadata": {},
     "output_type": "display_data"
    },
    {
     "data": {
      "text/plain": [
       "count    20518.000000\n",
       "mean       180.888634\n",
       "std        219.727988\n",
       "min          1.000000\n",
       "25%         45.000000\n",
       "50%         95.000000\n",
       "75%        232.000000\n",
       "max       1580.000000\n",
       "Name: days_exposition, dtype: float64"
      ]
     },
     "metadata": {},
     "output_type": "display_data"
    }
   ],
   "source": [
    "#сколько дней было размещено объявление (от публикации до снятия)\n",
    "describe_field (data, 'days_exposition')"
   ]
  },
  {
   "cell_type": "markdown",
   "metadata": {},
   "source": [
    "Это тоже должно заполняться автоматически. Пишу багу разработчикам - почему пропуски? Заполняю медианой."
   ]
  },
  {
   "cell_type": "code",
   "execution_count": 21,
   "metadata": {},
   "outputs": [
    {
     "data": {
      "text/plain": [
       "'amount of NaN is 2278, 9%'"
      ]
     },
     "metadata": {},
     "output_type": "display_data"
    },
    {
     "data": {
      "text/plain": [
       "count    21421.000000\n",
       "mean        10.569807\n",
       "std          5.905438\n",
       "min          1.300000\n",
       "25%          7.000000\n",
       "50%          9.100000\n",
       "75%         12.000000\n",
       "max        112.000000\n",
       "Name: kitchen_area, dtype: float64"
      ]
     },
     "metadata": {},
     "output_type": "display_data"
    }
   ],
   "source": [
    "describe_field (data, 'kitchen_area')"
   ]
  },
  {
   "cell_type": "markdown",
   "metadata": {},
   "source": [
    "Скорее всего те, кто не указал - скрывают малую кухню. Я бы указал квартиль Q1. Но презумция невиновности, поэтому использую медиану."
   ]
  },
  {
   "cell_type": "code",
   "execution_count": 22,
   "metadata": {},
   "outputs": [],
   "source": [
    "\n",
    "kitchen_per_total_avg = (data[~data['kitchen_area'].isna()]['kitchen_area'] / data[~data['kitchen_area'].isna()]['total_area']).median()\n",
    "\n",
    "data.loc[data['kitchen_area'].isna(), 'kitchen_area'] = data[data['kitchen_area'].isna()]['total_area']*kitchen_per_total_avg"
   ]
  },
  {
   "cell_type": "code",
   "execution_count": 23,
   "metadata": {},
   "outputs": [
    {
     "data": {
      "text/plain": [
       "'жилая площадь:'"
      ]
     },
     "metadata": {},
     "output_type": "display_data"
    },
    {
     "data": {
      "text/plain": [
       "'amount of NaN is 1903, 8%'"
      ]
     },
     "metadata": {},
     "output_type": "display_data"
    },
    {
     "data": {
      "text/plain": [
       "count    21796.000000\n",
       "mean        34.457852\n",
       "std         22.030445\n",
       "min          2.000000\n",
       "25%         18.600000\n",
       "50%         30.000000\n",
       "75%         42.300000\n",
       "max        409.700000\n",
       "Name: living_area, dtype: float64"
      ]
     },
     "metadata": {},
     "output_type": "display_data"
    },
    {
     "data": {
      "text/plain": [
       "'общая площадь:'"
      ]
     },
     "metadata": {},
     "output_type": "display_data"
    },
    {
     "data": {
      "text/plain": [
       "'amount of NaN is 0, 0%'"
      ]
     },
     "metadata": {},
     "output_type": "display_data"
    },
    {
     "data": {
      "text/plain": [
       "count    23699.000000\n",
       "mean        60.348651\n",
       "std         35.654083\n",
       "min         12.000000\n",
       "25%         40.000000\n",
       "50%         52.000000\n",
       "75%         69.900000\n",
       "max        900.000000\n",
       "Name: total_area, dtype: float64"
      ]
     },
     "metadata": {},
     "output_type": "display_data"
    }
   ],
   "source": [
    "display(\"жилая площадь:\")\n",
    "describe_field (data, 'living_area')\n",
    "display(\"общая площадь:\")\n",
    "describe_field (data, 'total_area')"
   ]
  },
  {
   "cell_type": "markdown",
   "metadata": {},
   "source": [
    "Очень важный показатель. Стоило бы сделать обязательным при заполнении.\n",
    "\n",
    "При этом общая площадь всегда указана. Рассчитаем средний коэффициент для тех значений, для которых и жилая и общая заполнена.\n",
    "\n",
    "Затем пустые жилые вычислим из общих с учётом вычисленного коэффициента."
   ]
  },
  {
   "cell_type": "code",
   "execution_count": 24,
   "metadata": {},
   "outputs": [],
   "source": [
    "living_per_total_avg = (data[~data['living_area'].isna()]['living_area'] / data[~data['living_area'].isna()]['total_area']).median()\n",
    "\n",
    "data.loc[data['living_area'].isna(), 'living_area'] = data[data['living_area'].isna()]['total_area']*living_per_total_avg"
   ]
  },
  {
   "cell_type": "code",
   "execution_count": 25,
   "metadata": {},
   "outputs": [
    {
     "data": {
      "text/plain": [
       "'amount of NaN is 86, 0%'"
      ]
     },
     "metadata": {},
     "output_type": "display_data"
    },
    {
     "data": {
      "text/plain": [
       "count    23613.000000\n",
       "mean        10.673824\n",
       "std          6.597173\n",
       "min          1.000000\n",
       "25%          5.000000\n",
       "50%          9.000000\n",
       "75%         16.000000\n",
       "max         60.000000\n",
       "Name: floors_total, dtype: float64"
      ]
     },
     "metadata": {},
     "output_type": "display_data"
    }
   ],
   "source": [
    "#всего этажей в доме\n",
    "describe_field (data, 'floors_total')"
   ]
  },
  {
   "cell_type": "markdown",
   "metadata": {},
   "source": [
    "Сранно, что нет поля \"последний\" этаж. Наверное его стоило бы вычислить. Но нужен последний этаж, а он не всегда есть. Можно было бы предположить, что раз не указали - то этаж последний (ну либо забыли указать). Буду пессимистом в данном случае и назначу последним - этаж квартиры."
   ]
  },
  {
   "cell_type": "code",
   "execution_count": 26,
   "metadata": {},
   "outputs": [],
   "source": [
    "data.loc[data['floors_total'].isna(), 'floors_total'] = data[data['floors_total'].isna()]['floor']"
   ]
  },
  {
   "cell_type": "code",
   "execution_count": 27,
   "metadata": {},
   "outputs": [],
   "source": [
    "#название населённого пункта\n",
    "data['locality_name'] = data['locality_name'].fillna('unknown_locality')"
   ]
  },
  {
   "cell_type": "code",
   "execution_count": 28,
   "metadata": {},
   "outputs": [
    {
     "data": {
      "text/plain": [
       "'amount of NaN is 5518, 23%'"
      ]
     },
     "metadata": {},
     "output_type": "display_data"
    },
    {
     "data": {
      "text/plain": [
       "count    18181.000000\n",
       "mean         0.770255\n",
       "std          0.938346\n",
       "min          0.000000\n",
       "25%          0.000000\n",
       "50%          1.000000\n",
       "75%          1.000000\n",
       "max          3.000000\n",
       "Name: ponds_around3000, dtype: float64"
      ]
     },
     "metadata": {},
     "output_type": "display_data"
    }
   ],
   "source": [
    "describe_field (data, 'ponds_around3000')"
   ]
  },
  {
   "cell_type": "code",
   "execution_count": 29,
   "metadata": {},
   "outputs": [],
   "source": [
    "data['ponds_around3000'] = data['ponds_around3000'].fillna(data['ponds_around3000'].median())"
   ]
  },
  {
   "cell_type": "code",
   "execution_count": 30,
   "metadata": {},
   "outputs": [
    {
     "data": {
      "text/plain": [
       "'amount of NaN is 5518, 23%'"
      ]
     },
     "metadata": {},
     "output_type": "display_data"
    },
    {
     "data": {
      "text/plain": [
       "count    18181.000000\n",
       "mean         0.611408\n",
       "std          0.802074\n",
       "min          0.000000\n",
       "25%          0.000000\n",
       "50%          0.000000\n",
       "75%          1.000000\n",
       "max          3.000000\n",
       "Name: parks_around3000, dtype: float64"
      ]
     },
     "metadata": {},
     "output_type": "display_data"
    }
   ],
   "source": [
    "describe_field (data, 'parks_around3000')"
   ]
  },
  {
   "cell_type": "code",
   "execution_count": 31,
   "metadata": {},
   "outputs": [],
   "source": [
    "data['parks_around3000'] = data['parks_around3000'].fillna(data['parks_around3000'].median())"
   ]
  },
  {
   "cell_type": "markdown",
   "metadata": {},
   "source": [
    "####\tРассмотрим типы данных в каждом столбце"
   ]
  },
  {
   "cell_type": "code",
   "execution_count": 32,
   "metadata": {},
   "outputs": [
    {
     "name": "stdout",
     "output_type": "stream",
     "text": [
      "<class 'pandas.core.frame.DataFrame'>\n",
      "RangeIndex: 23699 entries, 0 to 23698\n",
      "Data columns (total 22 columns):\n",
      " #   Column                Non-Null Count  Dtype  \n",
      "---  ------                --------------  -----  \n",
      " 0   total_images          23699 non-null  int64  \n",
      " 1   last_price            23699 non-null  float64\n",
      " 2   total_area            23699 non-null  float64\n",
      " 3   first_day_exposition  23699 non-null  object \n",
      " 4   rooms                 23699 non-null  int64  \n",
      " 5   ceiling_height        23699 non-null  float64\n",
      " 6   floors_total          23699 non-null  float64\n",
      " 7   living_area           23699 non-null  float64\n",
      " 8   floor                 23699 non-null  int64  \n",
      " 9   is_apartment          23699 non-null  bool   \n",
      " 10  studio                23699 non-null  bool   \n",
      " 11  open_plan             23699 non-null  bool   \n",
      " 12  kitchen_area          23699 non-null  float64\n",
      " 13  balcony               23699 non-null  float64\n",
      " 14  locality_name         23699 non-null  object \n",
      " 15  airports_nearest      23699 non-null  float64\n",
      " 16  cityCenters_nearest   18180 non-null  float64\n",
      " 17  parks_around3000      23699 non-null  float64\n",
      " 18  parks_nearest         23699 non-null  float64\n",
      " 19  ponds_around3000      23699 non-null  float64\n",
      " 20  ponds_nearest         23699 non-null  float64\n",
      " 21  days_exposition       20518 non-null  float64\n",
      "dtypes: bool(3), float64(14), int64(3), object(2)\n",
      "memory usage: 3.5+ MB\n"
     ]
    },
    {
     "data": {
      "text/html": [
       "<div>\n",
       "<style scoped>\n",
       "    .dataframe tbody tr th:only-of-type {\n",
       "        vertical-align: middle;\n",
       "    }\n",
       "\n",
       "    .dataframe tbody tr th {\n",
       "        vertical-align: top;\n",
       "    }\n",
       "\n",
       "    .dataframe thead th {\n",
       "        text-align: right;\n",
       "    }\n",
       "</style>\n",
       "<table border=\"1\" class=\"dataframe\">\n",
       "  <thead>\n",
       "    <tr style=\"text-align: right;\">\n",
       "      <th></th>\n",
       "      <th>total_images</th>\n",
       "      <th>last_price</th>\n",
       "      <th>total_area</th>\n",
       "      <th>first_day_exposition</th>\n",
       "      <th>rooms</th>\n",
       "      <th>ceiling_height</th>\n",
       "      <th>floors_total</th>\n",
       "      <th>living_area</th>\n",
       "      <th>floor</th>\n",
       "      <th>is_apartment</th>\n",
       "      <th>...</th>\n",
       "      <th>kitchen_area</th>\n",
       "      <th>balcony</th>\n",
       "      <th>locality_name</th>\n",
       "      <th>airports_nearest</th>\n",
       "      <th>cityCenters_nearest</th>\n",
       "      <th>parks_around3000</th>\n",
       "      <th>parks_nearest</th>\n",
       "      <th>ponds_around3000</th>\n",
       "      <th>ponds_nearest</th>\n",
       "      <th>days_exposition</th>\n",
       "    </tr>\n",
       "  </thead>\n",
       "  <tbody>\n",
       "    <tr>\n",
       "      <th>0</th>\n",
       "      <td>20</td>\n",
       "      <td>13000000.0</td>\n",
       "      <td>108.0</td>\n",
       "      <td>2019-03-07T00:00:00</td>\n",
       "      <td>3</td>\n",
       "      <td>2.70</td>\n",
       "      <td>16.0</td>\n",
       "      <td>51.000000</td>\n",
       "      <td>8</td>\n",
       "      <td>False</td>\n",
       "      <td>...</td>\n",
       "      <td>25.000000</td>\n",
       "      <td>0.0</td>\n",
       "      <td>Санкт-Петербург</td>\n",
       "      <td>18863.0</td>\n",
       "      <td>16028.0</td>\n",
       "      <td>1.0</td>\n",
       "      <td>482.0</td>\n",
       "      <td>2.0</td>\n",
       "      <td>755.0</td>\n",
       "      <td>NaN</td>\n",
       "    </tr>\n",
       "    <tr>\n",
       "      <th>1</th>\n",
       "      <td>7</td>\n",
       "      <td>3350000.0</td>\n",
       "      <td>40.4</td>\n",
       "      <td>2018-12-04T00:00:00</td>\n",
       "      <td>1</td>\n",
       "      <td>2.65</td>\n",
       "      <td>11.0</td>\n",
       "      <td>18.600000</td>\n",
       "      <td>1</td>\n",
       "      <td>False</td>\n",
       "      <td>...</td>\n",
       "      <td>11.000000</td>\n",
       "      <td>2.0</td>\n",
       "      <td>посёлок Шушары</td>\n",
       "      <td>12817.0</td>\n",
       "      <td>18603.0</td>\n",
       "      <td>0.0</td>\n",
       "      <td>30000.0</td>\n",
       "      <td>0.0</td>\n",
       "      <td>30000.0</td>\n",
       "      <td>81.0</td>\n",
       "    </tr>\n",
       "    <tr>\n",
       "      <th>2</th>\n",
       "      <td>10</td>\n",
       "      <td>5196000.0</td>\n",
       "      <td>56.0</td>\n",
       "      <td>2015-08-20T00:00:00</td>\n",
       "      <td>2</td>\n",
       "      <td>2.65</td>\n",
       "      <td>5.0</td>\n",
       "      <td>34.300000</td>\n",
       "      <td>4</td>\n",
       "      <td>False</td>\n",
       "      <td>...</td>\n",
       "      <td>8.300000</td>\n",
       "      <td>0.0</td>\n",
       "      <td>Санкт-Петербург</td>\n",
       "      <td>21741.0</td>\n",
       "      <td>13933.0</td>\n",
       "      <td>1.0</td>\n",
       "      <td>90.0</td>\n",
       "      <td>2.0</td>\n",
       "      <td>574.0</td>\n",
       "      <td>558.0</td>\n",
       "    </tr>\n",
       "    <tr>\n",
       "      <th>3</th>\n",
       "      <td>0</td>\n",
       "      <td>64900000.0</td>\n",
       "      <td>159.0</td>\n",
       "      <td>2015-07-24T00:00:00</td>\n",
       "      <td>3</td>\n",
       "      <td>2.65</td>\n",
       "      <td>14.0</td>\n",
       "      <td>90.289724</td>\n",
       "      <td>9</td>\n",
       "      <td>False</td>\n",
       "      <td>...</td>\n",
       "      <td>27.413793</td>\n",
       "      <td>0.0</td>\n",
       "      <td>Санкт-Петербург</td>\n",
       "      <td>28098.0</td>\n",
       "      <td>6800.0</td>\n",
       "      <td>2.0</td>\n",
       "      <td>84.0</td>\n",
       "      <td>3.0</td>\n",
       "      <td>234.0</td>\n",
       "      <td>424.0</td>\n",
       "    </tr>\n",
       "    <tr>\n",
       "      <th>4</th>\n",
       "      <td>2</td>\n",
       "      <td>10000000.0</td>\n",
       "      <td>100.0</td>\n",
       "      <td>2018-06-19T00:00:00</td>\n",
       "      <td>2</td>\n",
       "      <td>3.03</td>\n",
       "      <td>14.0</td>\n",
       "      <td>32.000000</td>\n",
       "      <td>13</td>\n",
       "      <td>False</td>\n",
       "      <td>...</td>\n",
       "      <td>41.000000</td>\n",
       "      <td>0.0</td>\n",
       "      <td>Санкт-Петербург</td>\n",
       "      <td>31856.0</td>\n",
       "      <td>8098.0</td>\n",
       "      <td>2.0</td>\n",
       "      <td>112.0</td>\n",
       "      <td>1.0</td>\n",
       "      <td>48.0</td>\n",
       "      <td>121.0</td>\n",
       "    </tr>\n",
       "  </tbody>\n",
       "</table>\n",
       "<p>5 rows × 22 columns</p>\n",
       "</div>"
      ],
      "text/plain": [
       "   total_images  last_price  total_area first_day_exposition  rooms  \\\n",
       "0            20  13000000.0       108.0  2019-03-07T00:00:00      3   \n",
       "1             7   3350000.0        40.4  2018-12-04T00:00:00      1   \n",
       "2            10   5196000.0        56.0  2015-08-20T00:00:00      2   \n",
       "3             0  64900000.0       159.0  2015-07-24T00:00:00      3   \n",
       "4             2  10000000.0       100.0  2018-06-19T00:00:00      2   \n",
       "\n",
       "   ceiling_height  floors_total  living_area  floor  is_apartment  ...  \\\n",
       "0            2.70          16.0    51.000000      8         False  ...   \n",
       "1            2.65          11.0    18.600000      1         False  ...   \n",
       "2            2.65           5.0    34.300000      4         False  ...   \n",
       "3            2.65          14.0    90.289724      9         False  ...   \n",
       "4            3.03          14.0    32.000000     13         False  ...   \n",
       "\n",
       "   kitchen_area  balcony    locality_name  airports_nearest  \\\n",
       "0     25.000000      0.0  Санкт-Петербург           18863.0   \n",
       "1     11.000000      2.0   посёлок Шушары           12817.0   \n",
       "2      8.300000      0.0  Санкт-Петербург           21741.0   \n",
       "3     27.413793      0.0  Санкт-Петербург           28098.0   \n",
       "4     41.000000      0.0  Санкт-Петербург           31856.0   \n",
       "\n",
       "  cityCenters_nearest  parks_around3000  parks_nearest  ponds_around3000  \\\n",
       "0             16028.0               1.0          482.0               2.0   \n",
       "1             18603.0               0.0        30000.0               0.0   \n",
       "2             13933.0               1.0           90.0               2.0   \n",
       "3              6800.0               2.0           84.0               3.0   \n",
       "4              8098.0               2.0          112.0               1.0   \n",
       "\n",
       "   ponds_nearest  days_exposition  \n",
       "0          755.0              NaN  \n",
       "1        30000.0             81.0  \n",
       "2          574.0            558.0  \n",
       "3          234.0            424.0  \n",
       "4           48.0            121.0  \n",
       "\n",
       "[5 rows x 22 columns]"
      ]
     },
     "execution_count": 32,
     "metadata": {},
     "output_type": "execute_result"
    }
   ],
   "source": [
    "data.info()\n",
    "data[~data.isna()].head()"
   ]
  },
  {
   "cell_type": "markdown",
   "metadata": {},
   "source": [
    "Следующие поля имеют неверный тип, он должен быть исправлен.\n",
    "- Поле first_day_exposition должно стать полем даты.\n",
    "- floors_total ->int64\n",
    "- is_apartment -> bool\n",
    "- parks_around3000, ponds_around3000  -> int64\n",
    "- days_exposition -> int64"
   ]
  },
  {
   "cell_type": "code",
   "execution_count": 33,
   "metadata": {},
   "outputs": [],
   "source": [
    "data['first_day_exposition'] = pd.to_datetime(data['first_day_exposition'], format='%Y-%m-%dT%H:%M:%S')\n",
    "data['floors_total'] = data['floors_total'].astype('int')\n",
    "data['is_apartment'] = data['is_apartment'].astype('bool')\n",
    "data['parks_around3000'] = data['parks_around3000'].astype('int')\n",
    "data['ponds_around3000'] = data['ponds_around3000'].astype('int')\n",
    "#data['days_exposition'] = data['days_exposition'].astype('int')\n",
    "data['locality_name'] = data['locality_name'].astype('string')\n"
   ]
  },
  {
   "cell_type": "markdown",
   "metadata": {},
   "source": [
    "проверим:"
   ]
  },
  {
   "cell_type": "code",
   "execution_count": 34,
   "metadata": {},
   "outputs": [
    {
     "name": "stdout",
     "output_type": "stream",
     "text": [
      "<class 'pandas.core.frame.DataFrame'>\n",
      "RangeIndex: 23699 entries, 0 to 23698\n",
      "Data columns (total 22 columns):\n",
      " #   Column                Non-Null Count  Dtype         \n",
      "---  ------                --------------  -----         \n",
      " 0   total_images          23699 non-null  int64         \n",
      " 1   last_price            23699 non-null  float64       \n",
      " 2   total_area            23699 non-null  float64       \n",
      " 3   first_day_exposition  23699 non-null  datetime64[ns]\n",
      " 4   rooms                 23699 non-null  int64         \n",
      " 5   ceiling_height        23699 non-null  float64       \n",
      " 6   floors_total          23699 non-null  int64         \n",
      " 7   living_area           23699 non-null  float64       \n",
      " 8   floor                 23699 non-null  int64         \n",
      " 9   is_apartment          23699 non-null  bool          \n",
      " 10  studio                23699 non-null  bool          \n",
      " 11  open_plan             23699 non-null  bool          \n",
      " 12  kitchen_area          23699 non-null  float64       \n",
      " 13  balcony               23699 non-null  float64       \n",
      " 14  locality_name         23699 non-null  string        \n",
      " 15  airports_nearest      23699 non-null  float64       \n",
      " 16  cityCenters_nearest   18180 non-null  float64       \n",
      " 17  parks_around3000      23699 non-null  int64         \n",
      " 18  parks_nearest         23699 non-null  float64       \n",
      " 19  ponds_around3000      23699 non-null  int64         \n",
      " 20  ponds_nearest         23699 non-null  float64       \n",
      " 21  days_exposition       20518 non-null  float64       \n",
      "dtypes: bool(3), datetime64[ns](1), float64(11), int64(6), string(1)\n",
      "memory usage: 3.5 MB\n"
     ]
    },
    {
     "data": {
      "text/html": [
       "<div>\n",
       "<style scoped>\n",
       "    .dataframe tbody tr th:only-of-type {\n",
       "        vertical-align: middle;\n",
       "    }\n",
       "\n",
       "    .dataframe tbody tr th {\n",
       "        vertical-align: top;\n",
       "    }\n",
       "\n",
       "    .dataframe thead th {\n",
       "        text-align: right;\n",
       "    }\n",
       "</style>\n",
       "<table border=\"1\" class=\"dataframe\">\n",
       "  <thead>\n",
       "    <tr style=\"text-align: right;\">\n",
       "      <th></th>\n",
       "      <th>total_images</th>\n",
       "      <th>last_price</th>\n",
       "      <th>total_area</th>\n",
       "      <th>first_day_exposition</th>\n",
       "      <th>rooms</th>\n",
       "      <th>ceiling_height</th>\n",
       "      <th>floors_total</th>\n",
       "      <th>living_area</th>\n",
       "      <th>floor</th>\n",
       "      <th>is_apartment</th>\n",
       "      <th>...</th>\n",
       "      <th>kitchen_area</th>\n",
       "      <th>balcony</th>\n",
       "      <th>locality_name</th>\n",
       "      <th>airports_nearest</th>\n",
       "      <th>cityCenters_nearest</th>\n",
       "      <th>parks_around3000</th>\n",
       "      <th>parks_nearest</th>\n",
       "      <th>ponds_around3000</th>\n",
       "      <th>ponds_nearest</th>\n",
       "      <th>days_exposition</th>\n",
       "    </tr>\n",
       "  </thead>\n",
       "  <tbody>\n",
       "    <tr>\n",
       "      <th>0</th>\n",
       "      <td>20</td>\n",
       "      <td>13000000.0</td>\n",
       "      <td>108.0</td>\n",
       "      <td>2019-03-07</td>\n",
       "      <td>3</td>\n",
       "      <td>2.70</td>\n",
       "      <td>16</td>\n",
       "      <td>51.000000</td>\n",
       "      <td>8</td>\n",
       "      <td>False</td>\n",
       "      <td>...</td>\n",
       "      <td>25.000000</td>\n",
       "      <td>0.0</td>\n",
       "      <td>Санкт-Петербург</td>\n",
       "      <td>18863.0</td>\n",
       "      <td>16028.0</td>\n",
       "      <td>1</td>\n",
       "      <td>482.0</td>\n",
       "      <td>2</td>\n",
       "      <td>755.0</td>\n",
       "      <td>NaN</td>\n",
       "    </tr>\n",
       "    <tr>\n",
       "      <th>1</th>\n",
       "      <td>7</td>\n",
       "      <td>3350000.0</td>\n",
       "      <td>40.4</td>\n",
       "      <td>2018-12-04</td>\n",
       "      <td>1</td>\n",
       "      <td>2.65</td>\n",
       "      <td>11</td>\n",
       "      <td>18.600000</td>\n",
       "      <td>1</td>\n",
       "      <td>False</td>\n",
       "      <td>...</td>\n",
       "      <td>11.000000</td>\n",
       "      <td>2.0</td>\n",
       "      <td>посёлок Шушары</td>\n",
       "      <td>12817.0</td>\n",
       "      <td>18603.0</td>\n",
       "      <td>0</td>\n",
       "      <td>30000.0</td>\n",
       "      <td>0</td>\n",
       "      <td>30000.0</td>\n",
       "      <td>81.0</td>\n",
       "    </tr>\n",
       "    <tr>\n",
       "      <th>2</th>\n",
       "      <td>10</td>\n",
       "      <td>5196000.0</td>\n",
       "      <td>56.0</td>\n",
       "      <td>2015-08-20</td>\n",
       "      <td>2</td>\n",
       "      <td>2.65</td>\n",
       "      <td>5</td>\n",
       "      <td>34.300000</td>\n",
       "      <td>4</td>\n",
       "      <td>False</td>\n",
       "      <td>...</td>\n",
       "      <td>8.300000</td>\n",
       "      <td>0.0</td>\n",
       "      <td>Санкт-Петербург</td>\n",
       "      <td>21741.0</td>\n",
       "      <td>13933.0</td>\n",
       "      <td>1</td>\n",
       "      <td>90.0</td>\n",
       "      <td>2</td>\n",
       "      <td>574.0</td>\n",
       "      <td>558.0</td>\n",
       "    </tr>\n",
       "    <tr>\n",
       "      <th>3</th>\n",
       "      <td>0</td>\n",
       "      <td>64900000.0</td>\n",
       "      <td>159.0</td>\n",
       "      <td>2015-07-24</td>\n",
       "      <td>3</td>\n",
       "      <td>2.65</td>\n",
       "      <td>14</td>\n",
       "      <td>90.289724</td>\n",
       "      <td>9</td>\n",
       "      <td>False</td>\n",
       "      <td>...</td>\n",
       "      <td>27.413793</td>\n",
       "      <td>0.0</td>\n",
       "      <td>Санкт-Петербург</td>\n",
       "      <td>28098.0</td>\n",
       "      <td>6800.0</td>\n",
       "      <td>2</td>\n",
       "      <td>84.0</td>\n",
       "      <td>3</td>\n",
       "      <td>234.0</td>\n",
       "      <td>424.0</td>\n",
       "    </tr>\n",
       "    <tr>\n",
       "      <th>4</th>\n",
       "      <td>2</td>\n",
       "      <td>10000000.0</td>\n",
       "      <td>100.0</td>\n",
       "      <td>2018-06-19</td>\n",
       "      <td>2</td>\n",
       "      <td>3.03</td>\n",
       "      <td>14</td>\n",
       "      <td>32.000000</td>\n",
       "      <td>13</td>\n",
       "      <td>False</td>\n",
       "      <td>...</td>\n",
       "      <td>41.000000</td>\n",
       "      <td>0.0</td>\n",
       "      <td>Санкт-Петербург</td>\n",
       "      <td>31856.0</td>\n",
       "      <td>8098.0</td>\n",
       "      <td>2</td>\n",
       "      <td>112.0</td>\n",
       "      <td>1</td>\n",
       "      <td>48.0</td>\n",
       "      <td>121.0</td>\n",
       "    </tr>\n",
       "  </tbody>\n",
       "</table>\n",
       "<p>5 rows × 22 columns</p>\n",
       "</div>"
      ],
      "text/plain": [
       "   total_images  last_price  total_area first_day_exposition  rooms  \\\n",
       "0            20  13000000.0       108.0           2019-03-07      3   \n",
       "1             7   3350000.0        40.4           2018-12-04      1   \n",
       "2            10   5196000.0        56.0           2015-08-20      2   \n",
       "3             0  64900000.0       159.0           2015-07-24      3   \n",
       "4             2  10000000.0       100.0           2018-06-19      2   \n",
       "\n",
       "   ceiling_height  floors_total  living_area  floor  is_apartment  ...  \\\n",
       "0            2.70            16    51.000000      8         False  ...   \n",
       "1            2.65            11    18.600000      1         False  ...   \n",
       "2            2.65             5    34.300000      4         False  ...   \n",
       "3            2.65            14    90.289724      9         False  ...   \n",
       "4            3.03            14    32.000000     13         False  ...   \n",
       "\n",
       "   kitchen_area  balcony    locality_name  airports_nearest  \\\n",
       "0     25.000000      0.0  Санкт-Петербург           18863.0   \n",
       "1     11.000000      2.0   посёлок Шушары           12817.0   \n",
       "2      8.300000      0.0  Санкт-Петербург           21741.0   \n",
       "3     27.413793      0.0  Санкт-Петербург           28098.0   \n",
       "4     41.000000      0.0  Санкт-Петербург           31856.0   \n",
       "\n",
       "  cityCenters_nearest  parks_around3000  parks_nearest  ponds_around3000  \\\n",
       "0             16028.0                 1          482.0                 2   \n",
       "1             18603.0                 0        30000.0                 0   \n",
       "2             13933.0                 1           90.0                 2   \n",
       "3              6800.0                 2           84.0                 3   \n",
       "4              8098.0                 2          112.0                 1   \n",
       "\n",
       "   ponds_nearest  days_exposition  \n",
       "0          755.0              NaN  \n",
       "1        30000.0             81.0  \n",
       "2          574.0            558.0  \n",
       "3          234.0            424.0  \n",
       "4           48.0            121.0  \n",
       "\n",
       "[5 rows x 22 columns]"
      ]
     },
     "execution_count": 34,
     "metadata": {},
     "output_type": "execute_result"
    }
   ],
   "source": [
    "data.info()\n",
    "data.head()"
   ]
  },
  {
   "cell_type": "markdown",
   "metadata": {},
   "source": [
    "Исправим явные и неявные дубликаты"
   ]
  },
  {
   "cell_type": "code",
   "execution_count": 35,
   "metadata": {},
   "outputs": [
    {
     "data": {
      "text/plain": [
       "0"
      ]
     },
     "metadata": {},
     "output_type": "display_data"
    },
    {
     "data": {
      "text/plain": [
       "<StringArray>\n",
       "[          'Санкт-Петербург',            'посёлок Шушары',\n",
       " 'городской посёлок Янино-1',         'посёлок Парголово',\n",
       "            'посёлок Мурино',                 'Ломоносов',\n",
       "                 'Сертолово',                  'Петергоф',\n",
       "                    'Пушкин',           'деревня Кудрово',\n",
       " ...\n",
       "   'деревня Большое Рейзино',   'деревня Малая Романовка',\n",
       "       'поселок Дружноселье',            'поселок Пчевжа',\n",
       "       'поселок Володарское',            'деревня Нижняя',\n",
       " 'коттеджный посёлок Лесное',         'деревня Тихковицы',\n",
       "    'деревня Борисова Грива',      'посёлок Дзержинского']\n",
       "Length: 365, dtype: string"
      ]
     },
     "metadata": {},
     "output_type": "display_data"
    }
   ],
   "source": [
    "display(data.duplicated().sum())\n",
    "display(data['locality_name'].unique())"
   ]
  },
  {
   "cell_type": "markdown",
   "metadata": {},
   "source": [
    "Сначала попробуем убрать лишние слова и отсортировать населённые пункты по алфавиту - так будет легче сравнивать."
   ]
  },
  {
   "cell_type": "code",
   "execution_count": 36,
   "metadata": {
    "id": "Z8eJek3IAwb-"
   },
   "outputs": [
    {
     "data": {
      "text/plain": [
       "<StringArray>\n",
       "[      'Агалатово', 'Александровская',      'Алексеевка',          'Аннино',\n",
       "             'Аро',        'Барышево',          'Батово',        'Бегуницы',\n",
       "       'Белогорка',      'Белоостров',\n",
       " ...\n",
       "        'Шугозеро',             'Шум',          'Шушары',         'Щеглово',\n",
       "            'Юкки',          'Ялгино',       'Яльгелево',       'Ям-Тесово',\n",
       "         'Янино-1',              <NA>]\n",
       "Length: 306, dtype: string"
      ]
     },
     "metadata": {},
     "output_type": "display_data"
    }
   ],
   "source": [
    "data['locality_name_tmp'] = (data[data['locality_name']!='unknown_locality']['locality_name']\n",
    "                         .str.replace('ё', 'е')\n",
    "                         .str.replace(r'^[^А-Я]+', '', case=True, regex=True)\n",
    ")\n",
    "display(data['locality_name_tmp'].sort_values().unique())"
   ]
  },
  {
   "cell_type": "markdown",
   "metadata": {},
   "source": [
    "В самих названиях дубликатов найти не удалось.\n",
    "\n",
    "Посмотрим, так же на слова перед названиями"
   ]
  },
  {
   "cell_type": "code",
   "execution_count": 37,
   "metadata": {},
   "outputs": [
    {
     "data": {
      "text/plain": [
       "<StringArray>\n",
       "[                                          '',\n",
       "                         'городской поселок ',\n",
       "                                   'деревня ',\n",
       "                        'коттеджный поселок ',\n",
       "                                   'поселок ',\n",
       "                   'поселок городского типа ',\n",
       "             'поселок городского типа имени ',\n",
       "       'поселок при железнодорожной станции ',\n",
       "                           'поселок станции ',\n",
       " 'садоводческое некоммерческое товарищество ',\n",
       "                      'садовое товарищество ',\n",
       "                                      'село ',\n",
       "                                         <NA>]\n",
       "Length: 13, dtype: string"
      ]
     },
     "execution_count": 37,
     "metadata": {},
     "output_type": "execute_result"
    }
   ],
   "source": [
    "data['locality_name_tmp'] = (data[data['locality_name']!='unknown_locality']['locality_name']\n",
    "                         .str.replace('ё', 'е')\n",
    "                         .str.replace(r'[А-Я].+', '', case=True, regex=True)\n",
    ")\n",
    "data['locality_name_tmp'].sort_values().unique()"
   ]
  },
  {
   "cell_type": "markdown",
   "metadata": {},
   "source": [
    "Обновим имена. Удалим временный столбец."
   ]
  },
  {
   "cell_type": "code",
   "execution_count": 38,
   "metadata": {},
   "outputs": [],
   "source": [
    "data['locality_name'] = data['locality_name'].str.replace('ё', 'е')"
   ]
  },
  {
   "cell_type": "code",
   "execution_count": 39,
   "metadata": {},
   "outputs": [],
   "source": [
    "data['locality_name'] = data['locality_name'].str.replace('садоводческое некоммерческое товарищество', 'садовое товарищество')"
   ]
  },
  {
   "cell_type": "code",
   "execution_count": 40,
   "metadata": {},
   "outputs": [],
   "source": [
    "data['locality_name'] = data['locality_name'].str.replace('поселок станции', 'поселок при железнодорожной станции')"
   ]
  },
  {
   "cell_type": "code",
   "execution_count": null,
   "metadata": {},
   "outputs": [],
   "source": [
    "village_duplicates = ['городской поселок', 'деревня', 'коттеджный поселок', 'поселок городского типа', 'поселок городского типа имени', 'поселок при железнодорожной станции', 'поселок станции']\n",
    "for s in village_duplicates:\n",
    "    data['locality_name'] = data['locality_name'].str.replace(s, 'поселок')\n"
   ]
  },
  {
   "cell_type": "code",
   "execution_count": 42,
   "metadata": {},
   "outputs": [],
   "source": [
    "data = data.drop('locality_name_tmp', axis=1)"
   ]
  },
  {
   "cell_type": "code",
   "execution_count": null,
   "metadata": {},
   "outputs": [
    {
     "data": {
      "text/plain": [
       "1611     поселок Рябово\n",
       "3930     поселок Рябово\n",
       "6465     поселок Рябово\n",
       "11118    поселок Рябово\n",
       "Name: locality_name, dtype: string"
      ]
     },
     "execution_count": 43,
     "metadata": {},
     "output_type": "execute_result"
    }
   ],
   "source": [
    "data.loc[data['locality_name'].str.contains('Рябово') & data['locality_name'].notna(), 'locality_name']"
   ]
  },
  {
   "cell_type": "code",
   "execution_count": 44,
   "metadata": {},
   "outputs": [
    {
     "data": {
      "text/html": [
       "<div>\n",
       "<style scoped>\n",
       "    .dataframe tbody tr th:only-of-type {\n",
       "        vertical-align: middle;\n",
       "    }\n",
       "\n",
       "    .dataframe tbody tr th {\n",
       "        vertical-align: top;\n",
       "    }\n",
       "\n",
       "    .dataframe thead th {\n",
       "        text-align: right;\n",
       "    }\n",
       "</style>\n",
       "<table border=\"1\" class=\"dataframe\">\n",
       "  <thead>\n",
       "    <tr style=\"text-align: right;\">\n",
       "      <th></th>\n",
       "      <th>total_images</th>\n",
       "      <th>last_price</th>\n",
       "      <th>total_area</th>\n",
       "      <th>first_day_exposition</th>\n",
       "      <th>rooms</th>\n",
       "      <th>ceiling_height</th>\n",
       "      <th>floors_total</th>\n",
       "      <th>living_area</th>\n",
       "      <th>floor</th>\n",
       "      <th>is_apartment</th>\n",
       "      <th>...</th>\n",
       "      <th>kitchen_area</th>\n",
       "      <th>balcony</th>\n",
       "      <th>locality_name</th>\n",
       "      <th>airports_nearest</th>\n",
       "      <th>cityCenters_nearest</th>\n",
       "      <th>parks_around3000</th>\n",
       "      <th>parks_nearest</th>\n",
       "      <th>ponds_around3000</th>\n",
       "      <th>ponds_nearest</th>\n",
       "      <th>days_exposition</th>\n",
       "    </tr>\n",
       "  </thead>\n",
       "  <tbody>\n",
       "    <tr>\n",
       "      <th>0</th>\n",
       "      <td>20</td>\n",
       "      <td>13000000.0</td>\n",
       "      <td>108.0</td>\n",
       "      <td>2019-03-07</td>\n",
       "      <td>3</td>\n",
       "      <td>2.70</td>\n",
       "      <td>16</td>\n",
       "      <td>51.000000</td>\n",
       "      <td>8</td>\n",
       "      <td>False</td>\n",
       "      <td>...</td>\n",
       "      <td>25.000000</td>\n",
       "      <td>0.0</td>\n",
       "      <td>Санкт-Петербург</td>\n",
       "      <td>18863.0</td>\n",
       "      <td>16028.0</td>\n",
       "      <td>1</td>\n",
       "      <td>482.0</td>\n",
       "      <td>2</td>\n",
       "      <td>755.0</td>\n",
       "      <td>NaN</td>\n",
       "    </tr>\n",
       "    <tr>\n",
       "      <th>1</th>\n",
       "      <td>7</td>\n",
       "      <td>3350000.0</td>\n",
       "      <td>40.4</td>\n",
       "      <td>2018-12-04</td>\n",
       "      <td>1</td>\n",
       "      <td>2.65</td>\n",
       "      <td>11</td>\n",
       "      <td>18.600000</td>\n",
       "      <td>1</td>\n",
       "      <td>False</td>\n",
       "      <td>...</td>\n",
       "      <td>11.000000</td>\n",
       "      <td>2.0</td>\n",
       "      <td>поселок Шушары</td>\n",
       "      <td>12817.0</td>\n",
       "      <td>18603.0</td>\n",
       "      <td>0</td>\n",
       "      <td>30000.0</td>\n",
       "      <td>0</td>\n",
       "      <td>30000.0</td>\n",
       "      <td>81.0</td>\n",
       "    </tr>\n",
       "    <tr>\n",
       "      <th>2</th>\n",
       "      <td>10</td>\n",
       "      <td>5196000.0</td>\n",
       "      <td>56.0</td>\n",
       "      <td>2015-08-20</td>\n",
       "      <td>2</td>\n",
       "      <td>2.65</td>\n",
       "      <td>5</td>\n",
       "      <td>34.300000</td>\n",
       "      <td>4</td>\n",
       "      <td>False</td>\n",
       "      <td>...</td>\n",
       "      <td>8.300000</td>\n",
       "      <td>0.0</td>\n",
       "      <td>Санкт-Петербург</td>\n",
       "      <td>21741.0</td>\n",
       "      <td>13933.0</td>\n",
       "      <td>1</td>\n",
       "      <td>90.0</td>\n",
       "      <td>2</td>\n",
       "      <td>574.0</td>\n",
       "      <td>558.0</td>\n",
       "    </tr>\n",
       "    <tr>\n",
       "      <th>3</th>\n",
       "      <td>0</td>\n",
       "      <td>64900000.0</td>\n",
       "      <td>159.0</td>\n",
       "      <td>2015-07-24</td>\n",
       "      <td>3</td>\n",
       "      <td>2.65</td>\n",
       "      <td>14</td>\n",
       "      <td>90.289724</td>\n",
       "      <td>9</td>\n",
       "      <td>False</td>\n",
       "      <td>...</td>\n",
       "      <td>27.413793</td>\n",
       "      <td>0.0</td>\n",
       "      <td>Санкт-Петербург</td>\n",
       "      <td>28098.0</td>\n",
       "      <td>6800.0</td>\n",
       "      <td>2</td>\n",
       "      <td>84.0</td>\n",
       "      <td>3</td>\n",
       "      <td>234.0</td>\n",
       "      <td>424.0</td>\n",
       "    </tr>\n",
       "    <tr>\n",
       "      <th>4</th>\n",
       "      <td>2</td>\n",
       "      <td>10000000.0</td>\n",
       "      <td>100.0</td>\n",
       "      <td>2018-06-19</td>\n",
       "      <td>2</td>\n",
       "      <td>3.03</td>\n",
       "      <td>14</td>\n",
       "      <td>32.000000</td>\n",
       "      <td>13</td>\n",
       "      <td>False</td>\n",
       "      <td>...</td>\n",
       "      <td>41.000000</td>\n",
       "      <td>0.0</td>\n",
       "      <td>Санкт-Петербург</td>\n",
       "      <td>31856.0</td>\n",
       "      <td>8098.0</td>\n",
       "      <td>2</td>\n",
       "      <td>112.0</td>\n",
       "      <td>1</td>\n",
       "      <td>48.0</td>\n",
       "      <td>121.0</td>\n",
       "    </tr>\n",
       "  </tbody>\n",
       "</table>\n",
       "<p>5 rows × 22 columns</p>\n",
       "</div>"
      ],
      "text/plain": [
       "   total_images  last_price  total_area first_day_exposition  rooms  \\\n",
       "0            20  13000000.0       108.0           2019-03-07      3   \n",
       "1             7   3350000.0        40.4           2018-12-04      1   \n",
       "2            10   5196000.0        56.0           2015-08-20      2   \n",
       "3             0  64900000.0       159.0           2015-07-24      3   \n",
       "4             2  10000000.0       100.0           2018-06-19      2   \n",
       "\n",
       "   ceiling_height  floors_total  living_area  floor  is_apartment  ...  \\\n",
       "0            2.70            16    51.000000      8         False  ...   \n",
       "1            2.65            11    18.600000      1         False  ...   \n",
       "2            2.65             5    34.300000      4         False  ...   \n",
       "3            2.65            14    90.289724      9         False  ...   \n",
       "4            3.03            14    32.000000     13         False  ...   \n",
       "\n",
       "   kitchen_area  balcony    locality_name  airports_nearest  \\\n",
       "0     25.000000      0.0  Санкт-Петербург           18863.0   \n",
       "1     11.000000      2.0   поселок Шушары           12817.0   \n",
       "2      8.300000      0.0  Санкт-Петербург           21741.0   \n",
       "3     27.413793      0.0  Санкт-Петербург           28098.0   \n",
       "4     41.000000      0.0  Санкт-Петербург           31856.0   \n",
       "\n",
       "  cityCenters_nearest  parks_around3000  parks_nearest  ponds_around3000  \\\n",
       "0             16028.0                 1          482.0                 2   \n",
       "1             18603.0                 0        30000.0                 0   \n",
       "2             13933.0                 1           90.0                 2   \n",
       "3              6800.0                 2           84.0                 3   \n",
       "4              8098.0                 2          112.0                 1   \n",
       "\n",
       "   ponds_nearest  days_exposition  \n",
       "0          755.0              NaN  \n",
       "1        30000.0             81.0  \n",
       "2          574.0            558.0  \n",
       "3          234.0            424.0  \n",
       "4           48.0            121.0  \n",
       "\n",
       "[5 rows x 22 columns]"
      ]
     },
     "metadata": {},
     "output_type": "display_data"
    },
    {
     "name": "stdout",
     "output_type": "stream",
     "text": [
      "<class 'pandas.core.frame.DataFrame'>\n",
      "RangeIndex: 23699 entries, 0 to 23698\n",
      "Data columns (total 22 columns):\n",
      " #   Column                Non-Null Count  Dtype         \n",
      "---  ------                --------------  -----         \n",
      " 0   total_images          23699 non-null  int64         \n",
      " 1   last_price            23699 non-null  float64       \n",
      " 2   total_area            23699 non-null  float64       \n",
      " 3   first_day_exposition  23699 non-null  datetime64[ns]\n",
      " 4   rooms                 23699 non-null  int64         \n",
      " 5   ceiling_height        23699 non-null  float64       \n",
      " 6   floors_total          23699 non-null  int64         \n",
      " 7   living_area           23699 non-null  float64       \n",
      " 8   floor                 23699 non-null  int64         \n",
      " 9   is_apartment          23699 non-null  bool          \n",
      " 10  studio                23699 non-null  bool          \n",
      " 11  open_plan             23699 non-null  bool          \n",
      " 12  kitchen_area          23699 non-null  float64       \n",
      " 13  balcony               23699 non-null  float64       \n",
      " 14  locality_name         23699 non-null  string        \n",
      " 15  airports_nearest      23699 non-null  float64       \n",
      " 16  cityCenters_nearest   18180 non-null  float64       \n",
      " 17  parks_around3000      23699 non-null  int64         \n",
      " 18  parks_nearest         23699 non-null  float64       \n",
      " 19  ponds_around3000      23699 non-null  int64         \n",
      " 20  ponds_nearest         23699 non-null  float64       \n",
      " 21  days_exposition       20518 non-null  float64       \n",
      "dtypes: bool(3), datetime64[ns](1), float64(11), int64(6), string(1)\n",
      "memory usage: 3.5 MB\n"
     ]
    },
    {
     "data": {
      "text/plain": [
       "None"
      ]
     },
     "metadata": {},
     "output_type": "display_data"
    },
    {
     "data": {
      "text/plain": [
       "'full duplicates: 0'"
      ]
     },
     "metadata": {},
     "output_type": "display_data"
    }
   ],
   "source": [
    "display(data.head())\n",
    "display(data.info())\n",
    "display(f\"full duplicates: {data.duplicated().sum()}\")"
   ]
  },
  {
   "cell_type": "markdown",
   "metadata": {},
   "source": [
    "#### Общий вывод по итогам предобработки.\n",
    "\n",
    "1. Оставлены пропуски days_exposition, т. к. они нормальны для ещё не проданных квартир\n",
    "1. Обработаны (заполнены) пропуски в следующих полях:\n",
    "    1. is_apartment\n",
    "    1. parks_nearest\n",
    "    1. ponds_nearest\n",
    "    1. balcony\n",
    "    1. ceiling_height\n",
    "    1. airports_nearest\n",
    "    1. kitchen_area (вычислено из общей площади, по типичной пропорции)\n",
    "    1. living_area (вычислено из общей площади, по типичной пропорции)\n",
    "    1. floors_total\n",
    "    1. locality_name\n",
    "    1. ponds_around3000\n",
    "    1. parks_around3000\n",
    "1. Следующие типы данных приведены к корректным \n",
    "    1. Поле first_day_exposition должно стать полем даты.\n",
    "    1. floors_total ->int64\n",
    "    1. is_apartment -> bool\n",
    "    1. parks_around3000, ponds_around3000  -> int64\n",
    "    1. days_exposition -> int64\n",
    "1. Количество записей в таблице не уменьшилось, т. к. полных дубликатов нет."
   ]
  },
  {
   "cell_type": "markdown",
   "metadata": {
    "id": "QCcvyY6YAwb-",
    "tags": [
     "parameters"
    ]
   },
   "source": [
    "### Добавьте в таблицу новые столбцы"
   ]
  },
  {
   "cell_type": "code",
   "execution_count": 45,
   "metadata": {},
   "outputs": [
    {
     "data": {
      "text/html": [
       "<div>\n",
       "<style scoped>\n",
       "    .dataframe tbody tr th:only-of-type {\n",
       "        vertical-align: middle;\n",
       "    }\n",
       "\n",
       "    .dataframe tbody tr th {\n",
       "        vertical-align: top;\n",
       "    }\n",
       "\n",
       "    .dataframe thead th {\n",
       "        text-align: right;\n",
       "    }\n",
       "</style>\n",
       "<table border=\"1\" class=\"dataframe\">\n",
       "  <thead>\n",
       "    <tr style=\"text-align: right;\">\n",
       "      <th></th>\n",
       "      <th>total_images</th>\n",
       "      <th>last_price</th>\n",
       "      <th>total_area</th>\n",
       "      <th>first_day_exposition</th>\n",
       "      <th>rooms</th>\n",
       "      <th>ceiling_height</th>\n",
       "      <th>floors_total</th>\n",
       "      <th>living_area</th>\n",
       "      <th>floor</th>\n",
       "      <th>is_apartment</th>\n",
       "      <th>...</th>\n",
       "      <th>ponds_around3000</th>\n",
       "      <th>ponds_nearest</th>\n",
       "      <th>days_exposition</th>\n",
       "      <th>last_price_m2</th>\n",
       "      <th>first_day_exposition_weekday</th>\n",
       "      <th>first_day_exposition_day</th>\n",
       "      <th>first_day_exposition_month</th>\n",
       "      <th>first_day_exposition_year</th>\n",
       "      <th>floor_type</th>\n",
       "      <th>cityCenters_nearest_km</th>\n",
       "    </tr>\n",
       "  </thead>\n",
       "  <tbody>\n",
       "    <tr>\n",
       "      <th>0</th>\n",
       "      <td>20</td>\n",
       "      <td>13000000.0</td>\n",
       "      <td>108.0</td>\n",
       "      <td>2019-03-07</td>\n",
       "      <td>3</td>\n",
       "      <td>2.70</td>\n",
       "      <td>16</td>\n",
       "      <td>51.000000</td>\n",
       "      <td>8</td>\n",
       "      <td>False</td>\n",
       "      <td>...</td>\n",
       "      <td>2</td>\n",
       "      <td>755.0</td>\n",
       "      <td>NaN</td>\n",
       "      <td>120370.37</td>\n",
       "      <td>3</td>\n",
       "      <td>7</td>\n",
       "      <td>3</td>\n",
       "      <td>2019</td>\n",
       "      <td>другой</td>\n",
       "      <td>16.0</td>\n",
       "    </tr>\n",
       "    <tr>\n",
       "      <th>1</th>\n",
       "      <td>7</td>\n",
       "      <td>3350000.0</td>\n",
       "      <td>40.4</td>\n",
       "      <td>2018-12-04</td>\n",
       "      <td>1</td>\n",
       "      <td>2.65</td>\n",
       "      <td>11</td>\n",
       "      <td>18.600000</td>\n",
       "      <td>1</td>\n",
       "      <td>False</td>\n",
       "      <td>...</td>\n",
       "      <td>0</td>\n",
       "      <td>30000.0</td>\n",
       "      <td>81.0</td>\n",
       "      <td>82920.79</td>\n",
       "      <td>1</td>\n",
       "      <td>4</td>\n",
       "      <td>12</td>\n",
       "      <td>2018</td>\n",
       "      <td>первый</td>\n",
       "      <td>19.0</td>\n",
       "    </tr>\n",
       "    <tr>\n",
       "      <th>2</th>\n",
       "      <td>10</td>\n",
       "      <td>5196000.0</td>\n",
       "      <td>56.0</td>\n",
       "      <td>2015-08-20</td>\n",
       "      <td>2</td>\n",
       "      <td>2.65</td>\n",
       "      <td>5</td>\n",
       "      <td>34.300000</td>\n",
       "      <td>4</td>\n",
       "      <td>False</td>\n",
       "      <td>...</td>\n",
       "      <td>2</td>\n",
       "      <td>574.0</td>\n",
       "      <td>558.0</td>\n",
       "      <td>92785.71</td>\n",
       "      <td>3</td>\n",
       "      <td>20</td>\n",
       "      <td>8</td>\n",
       "      <td>2015</td>\n",
       "      <td>другой</td>\n",
       "      <td>14.0</td>\n",
       "    </tr>\n",
       "    <tr>\n",
       "      <th>3</th>\n",
       "      <td>0</td>\n",
       "      <td>64900000.0</td>\n",
       "      <td>159.0</td>\n",
       "      <td>2015-07-24</td>\n",
       "      <td>3</td>\n",
       "      <td>2.65</td>\n",
       "      <td>14</td>\n",
       "      <td>90.289724</td>\n",
       "      <td>9</td>\n",
       "      <td>False</td>\n",
       "      <td>...</td>\n",
       "      <td>3</td>\n",
       "      <td>234.0</td>\n",
       "      <td>424.0</td>\n",
       "      <td>408176.10</td>\n",
       "      <td>4</td>\n",
       "      <td>24</td>\n",
       "      <td>7</td>\n",
       "      <td>2015</td>\n",
       "      <td>другой</td>\n",
       "      <td>7.0</td>\n",
       "    </tr>\n",
       "    <tr>\n",
       "      <th>4</th>\n",
       "      <td>2</td>\n",
       "      <td>10000000.0</td>\n",
       "      <td>100.0</td>\n",
       "      <td>2018-06-19</td>\n",
       "      <td>2</td>\n",
       "      <td>3.03</td>\n",
       "      <td>14</td>\n",
       "      <td>32.000000</td>\n",
       "      <td>13</td>\n",
       "      <td>False</td>\n",
       "      <td>...</td>\n",
       "      <td>1</td>\n",
       "      <td>48.0</td>\n",
       "      <td>121.0</td>\n",
       "      <td>100000.00</td>\n",
       "      <td>1</td>\n",
       "      <td>19</td>\n",
       "      <td>6</td>\n",
       "      <td>2018</td>\n",
       "      <td>другой</td>\n",
       "      <td>8.0</td>\n",
       "    </tr>\n",
       "  </tbody>\n",
       "</table>\n",
       "<p>5 rows × 29 columns</p>\n",
       "</div>"
      ],
      "text/plain": [
       "   total_images  last_price  total_area first_day_exposition  rooms  \\\n",
       "0            20  13000000.0       108.0           2019-03-07      3   \n",
       "1             7   3350000.0        40.4           2018-12-04      1   \n",
       "2            10   5196000.0        56.0           2015-08-20      2   \n",
       "3             0  64900000.0       159.0           2015-07-24      3   \n",
       "4             2  10000000.0       100.0           2018-06-19      2   \n",
       "\n",
       "   ceiling_height  floors_total  living_area  floor  is_apartment  ...  \\\n",
       "0            2.70            16    51.000000      8         False  ...   \n",
       "1            2.65            11    18.600000      1         False  ...   \n",
       "2            2.65             5    34.300000      4         False  ...   \n",
       "3            2.65            14    90.289724      9         False  ...   \n",
       "4            3.03            14    32.000000     13         False  ...   \n",
       "\n",
       "   ponds_around3000  ponds_nearest  days_exposition  last_price_m2  \\\n",
       "0                 2          755.0              NaN      120370.37   \n",
       "1                 0        30000.0             81.0       82920.79   \n",
       "2                 2          574.0            558.0       92785.71   \n",
       "3                 3          234.0            424.0      408176.10   \n",
       "4                 1           48.0            121.0      100000.00   \n",
       "\n",
       "  first_day_exposition_weekday  first_day_exposition_day  \\\n",
       "0                            3                         7   \n",
       "1                            1                         4   \n",
       "2                            3                        20   \n",
       "3                            4                        24   \n",
       "4                            1                        19   \n",
       "\n",
       "   first_day_exposition_month  first_day_exposition_year  floor_type  \\\n",
       "0                           3                       2019      другой   \n",
       "1                          12                       2018      первый   \n",
       "2                           8                       2015      другой   \n",
       "3                           7                       2015      другой   \n",
       "4                           6                       2018      другой   \n",
       "\n",
       "   cityCenters_nearest_km  \n",
       "0                    16.0  \n",
       "1                    19.0  \n",
       "2                    14.0  \n",
       "3                     7.0  \n",
       "4                     8.0  \n",
       "\n",
       "[5 rows x 29 columns]"
      ]
     },
     "execution_count": 45,
     "metadata": {},
     "output_type": "execute_result"
    }
   ],
   "source": [
    "data['last_price_m2'] = (data ['last_price']/data['total_area']).round(2)\n",
    "data['first_day_exposition_weekday'] = data['first_day_exposition'].dt.weekday\n",
    "data['first_day_exposition_day'] = data['first_day_exposition'].dt.day\n",
    "data['first_day_exposition_month'] = data['first_day_exposition'].dt.month\n",
    "data['first_day_exposition_year'] = data['first_day_exposition'].dt.year\n",
    "\n",
    "\n",
    "def floor_type (flat):\n",
    "    if flat['floor'] == 1: return \"первый\"\n",
    "    if flat['floor'] == flat['floors_total']: return \"последний\"\n",
    "    return 'другой'\n",
    "\n",
    "data['floor_type'] = data.apply(floor_type, axis=1)\n",
    "\n",
    "data['cityCenters_nearest_km'] = (data['cityCenters_nearest'] / 1000).round(0)\n",
    "\n",
    "data.head()"
   ]
  },
  {
   "cell_type": "markdown",
   "metadata": {},
   "source": [
    "Добавлены поля:\n",
    "1. стоимость m2\n",
    "1. день недели\n",
    "1. день месяца\n",
    "1. месяц\n",
    "1. год\n",
    "1. тип этажа (первый/последний/другое)\n",
    "1. расстояние до города в км\n"
   ]
  },
  {
   "cell_type": "markdown",
   "metadata": {
    "id": "pPyxrKWTAwb-"
   },
   "source": [
    "### Проведите исследовательский анализ данных"
   ]
  },
  {
   "cell_type": "code",
   "execution_count": 46,
   "metadata": {},
   "outputs": [
    {
     "data": {
      "text/plain": [
       "count    23699.000000\n",
       "mean        60.348651\n",
       "std         35.654083\n",
       "min         12.000000\n",
       "25%         40.000000\n",
       "50%         52.000000\n",
       "75%         69.900000\n",
       "max        900.000000\n",
       "Name: total_area, dtype: float64"
      ]
     },
     "metadata": {},
     "output_type": "display_data"
    }
   ],
   "source": [
    "import matplotlib.pyplot as plt\n",
    "\n",
    "display(data['total_area'].describe())"
   ]
  },
  {
   "cell_type": "markdown",
   "metadata": {},
   "source": [
    "Минимальное значение в 12 м2 для квартиры видится как очень редкое, но это можеть быть комната или часть квартиры, которые тоже вполне могут продавать. Максимальное значение в 900 м2 тоже видится, наверное, реальным для загородного дома."
   ]
  },
  {
   "cell_type": "code",
   "execution_count": 47,
   "metadata": {},
   "outputs": [
    {
     "data": {
      "image/png": "[encoded data removed]",
      "text/plain": [
       "<Figure size 432x288 with 1 Axes>"
      ]
     },
     "metadata": {
      "needs_background": "light"
     },
     "output_type": "display_data"
    }
   ],
   "source": [
    "plt.title('распределение: общая площадь')\n",
    "plt.ylabel(\"количество объявлений\")\n",
    "plt.xlabel(\"m2\")\n",
    "\n",
    "data['total_area'].hist(bins=30, range=(12,900));"
   ]
  },
  {
   "cell_type": "markdown",
   "metadata": {},
   "source": [
    "- комментарий: посмотрим на общую площадь\n",
    "- вид распределения данных: похоже на распределение Пуассона\n",
    "- основной диапазон, описательные статистики: сжато влево, 0-200\n",
    "- наличие аномалий: посмотрим на следующих графиках"
   ]
  },
  {
   "cell_type": "markdown",
   "metadata": {},
   "source": [
    " После 300м2 гистограмма сводится к погрешности, можно отрезать этот хвост:\n"
   ]
  },
  {
   "cell_type": "code",
   "execution_count": 48,
   "metadata": {},
   "outputs": [
    {
     "data": {
      "image/png": "[encoded data removed]",
      "text/plain": [
       "<Figure size 432x288 with 1 Axes>"
      ]
     },
     "metadata": {
      "needs_background": "light"
     },
     "output_type": "display_data"
    },
    {
     "data": {
      "image/png": "[encoded data removed]",
      "text/plain": [
       "<Figure size 432x288 with 1 Axes>"
      ]
     },
     "metadata": {
      "needs_background": "light"
     },
     "output_type": "display_data"
    }
   ],
   "source": [
    "plt.ylabel(\"количество объявлений\")\n",
    "plt.xlabel(\"m2\")\n",
    "plt.title('распределение: общая площадь')\n",
    "\n",
    "data['total_area'].hist(bins=50, range=(12,30));\n",
    "plt.show()\n",
    "\n",
    "plt.ylabel(\"количество объявлений\")\n",
    "plt.xlabel(\"m2\")\n",
    "plt.title('распределение: общая площадь')\n",
    "data['total_area'].hist(bins=50, range=(201,900));"
   ]
  },
  {
   "cell_type": "markdown",
   "metadata": {},
   "source": [
    "- комментарий: посмотрим на общую площадь по краям\n",
    "- вид распределения данных: на краях этого не понять\n",
    "- наличие аномалий: Оставим от 20 до 500, остальное удалим."
   ]
  },
  {
   "cell_type": "code",
   "execution_count": 49,
   "metadata": {},
   "outputs": [
    {
     "data": {
      "image/png": "[encoded data removed]",
      "text/plain": [
       "<Figure size 432x288 with 1 Axes>"
      ]
     },
     "metadata": {
      "needs_background": "light"
     },
     "output_type": "display_data"
    }
   ],
   "source": [
    "plt.ylabel(\"количество объявлений\")\n",
    "plt.xlabel(\"m2\")\n",
    "plt.title('распределение: общая площадь')\n",
    "data = data.drop( data[(data['total_area'] < 20) | (data['total_area'] > 300)].index )\n",
    "data['total_area'].hist(bins=30);"
   ]
  },
  {
   "cell_type": "markdown",
   "metadata": {},
   "source": [
    "- комментарий: график после отсечений\n",
    "- вид распределения данных: похоже на распределение Пуассна\n",
    "- основной диапазон, описательные статистики: 20-500\n",
    "- наличие аномалий: не заметно"
   ]
  },
  {
   "cell_type": "markdown",
   "metadata": {},
   "source": [
    "Рассмотрим жилую площадь."
   ]
  },
  {
   "cell_type": "code",
   "execution_count": 50,
   "metadata": {},
   "outputs": [
    {
     "data": {
      "text/plain": [
       "count    23611.000000\n",
       "mean        34.100925\n",
       "std         19.763216\n",
       "min          2.000000\n",
       "25%         19.000000\n",
       "50%         30.000000\n",
       "75%         42.000000\n",
       "max        250.000000\n",
       "Name: living_area, dtype: float64"
      ]
     },
     "metadata": {},
     "output_type": "display_data"
    }
   ],
   "source": [
    "display(data['living_area'].describe())"
   ]
  },
  {
   "cell_type": "code",
   "execution_count": 51,
   "metadata": {},
   "outputs": [
    {
     "data": {
      "image/png": "[encoded data removed]",
      "text/plain": [
       "<Figure size 432x288 with 1 Axes>"
      ]
     },
     "metadata": {
      "needs_background": "light"
     },
     "output_type": "display_data"
    }
   ],
   "source": [
    "plt.ylabel(\"количество объявлений\")\n",
    "plt.xlabel(\"m2\")\n",
    "plt.title('распределение: жилая площадь')\n",
    "data['living_area'].hist(bins=30, range=(2,250));"
   ]
  },
  {
   "cell_type": "markdown",
   "metadata": {},
   "source": [
    "- комментарий: посмотрим на жилую площадь\n",
    "- вид распределения данных: похоже на распределение Пуассона\n",
    "- основной диапазон, описательные статистики: сжато влево, 0-250\n",
    "- наличие аномалий: посмотрим на следующих графиках\n"
   ]
  },
  {
   "cell_type": "code",
   "execution_count": 52,
   "metadata": {},
   "outputs": [
    {
     "data": {
      "image/png": "[encoded data removed]",
      "text/plain": [
       "<Figure size 432x288 with 1 Axes>"
      ]
     },
     "metadata": {
      "needs_background": "light"
     },
     "output_type": "display_data"
    },
    {
     "data": {
      "image/png": "[encoded data removed]",
      "text/plain": [
       "<Figure size 432x288 with 1 Axes>"
      ]
     },
     "metadata": {
      "needs_background": "light"
     },
     "output_type": "display_data"
    }
   ],
   "source": [
    "plt.ylabel(\"количество объявлений\")\n",
    "plt.xlabel(\"m2\")\n",
    "plt.title('распределение: жилая площадь')\n",
    "data['total_area'].hist(bins=50, range=(2,20))\n",
    "plt.show()\n",
    "\n",
    "plt.ylabel(\"количество объявлений\")\n",
    "plt.xlabel(\"m2\")\n",
    "plt.title('распределение: жилая площадь')\n",
    "data['total_area'].hist(bins=50, range=(200,250));"
   ]
  },
  {
   "cell_type": "markdown",
   "metadata": {},
   "source": [
    "- комментарий: посмотрим на жилую площадь по краям\n",
    "- вид распределения данных: на краях этого не понять\n",
    "- наличие аномалий: Оставим от 20 до 200, остальное удалим."
   ]
  },
  {
   "cell_type": "code",
   "execution_count": 53,
   "metadata": {},
   "outputs": [
    {
     "data": {
      "image/png": "[encoded data removed]",
      "text/plain": [
       "<Figure size 432x288 with 1 Axes>"
      ]
     },
     "metadata": {
      "needs_background": "light"
     },
     "output_type": "display_data"
    }
   ],
   "source": [
    "plt.ylabel(\"количество объявлений\")\n",
    "plt.xlabel(\"m2\")\n",
    "plt.title('распределение: жилая площадь')\n",
    "\n",
    "data = data.drop( data[(data['living_area'] < 20) | (data['living_area'] > 200)].index )\n",
    "data['living_area'].hist(bins=30);"
   ]
  },
  {
   "cell_type": "markdown",
   "metadata": {},
   "source": [
    "- комментарий: график после отсечений\n",
    "- вид распределения данных: похоже на распределение Пуассона\n",
    "- основной диапазон, описательные статистики: 20-200\n",
    "- наличие аномалий: не заметно"
   ]
  },
  {
   "cell_type": "markdown",
   "metadata": {},
   "source": [
    "Кухни"
   ]
  },
  {
   "cell_type": "code",
   "execution_count": 54,
   "metadata": {},
   "outputs": [
    {
     "data": {
      "text/plain": [
       "count    17135.000000\n",
       "mean        10.950087\n",
       "std          6.218835\n",
       "min          2.000000\n",
       "25%          7.100000\n",
       "50%          9.482759\n",
       "75%         12.400000\n",
       "max        107.000000\n",
       "Name: kitchen_area, dtype: float64"
      ]
     },
     "metadata": {},
     "output_type": "display_data"
    }
   ],
   "source": [
    "display(data['kitchen_area'].describe())\n",
    " "
   ]
  },
  {
   "cell_type": "code",
   "execution_count": 55,
   "metadata": {},
   "outputs": [
    {
     "data": {
      "image/png": "[encoded data removed]",
      "text/plain": [
       "<Figure size 432x288 with 1 Axes>"
      ]
     },
     "metadata": {
      "needs_background": "light"
     },
     "output_type": "display_data"
    }
   ],
   "source": [
    "plt.ylabel(\"количество объявлений\")\n",
    "plt.xlabel(\"m2\")\n",
    "plt.title('распределение: площадь кухни')\n",
    "data['kitchen_area'].hist(bins=30);"
   ]
  },
  {
   "cell_type": "markdown",
   "metadata": {},
   "source": [
    "- комментарий: посмотрим на кухни\n",
    "- вид распределения данных: похоже на распределение Пуассона\n",
    "- основной диапазон, описательные статистики: сжато влево, 0-100\n",
    "- наличие аномалий: Удалим кухни после 40 м2. Маленькие кухни не будем трогать."
   ]
  },
  {
   "cell_type": "code",
   "execution_count": 56,
   "metadata": {},
   "outputs": [
    {
     "data": {
      "image/png": "[encoded data removed]",
      "text/plain": [
       "<Figure size 432x288 with 1 Axes>"
      ]
     },
     "metadata": {
      "needs_background": "light"
     },
     "output_type": "display_data"
    }
   ],
   "source": [
    "plt.ylabel(\"количество объявлений\")\n",
    "plt.xlabel(\"m2\")\n",
    "plt.title('распределение: площадь кухни')\n",
    "data = data.drop( data[data['kitchen_area'] > 40].index )\n",
    "data['kitchen_area'].hist(bins=30);"
   ]
  },
  {
   "cell_type": "markdown",
   "metadata": {},
   "source": [
    "- комментарий: график после отсечений\n",
    "- вид распределения данных: похоже на распределение Пуассона\n",
    "- основной диапазон, описательные статистики: 3-40\n",
    "- наличие аномалий: не заметно"
   ]
  },
  {
   "cell_type": "markdown",
   "metadata": {},
   "source": [
    "цена объекта"
   ]
  },
  {
   "cell_type": "code",
   "execution_count": 57,
   "metadata": {},
   "outputs": [
    {
     "data": {
      "text/plain": [
       "count    1.701700e+04\n",
       "mean     7.149470e+06\n",
       "std      8.257778e+06\n",
       "min      4.300000e+05\n",
       "25%      3.995000e+06\n",
       "50%      5.370000e+06\n",
       "75%      7.800000e+06\n",
       "max      3.300000e+08\n",
       "Name: last_price, dtype: float64"
      ]
     },
     "metadata": {},
     "output_type": "display_data"
    }
   ],
   "source": [
    "display(data['last_price'].describe())"
   ]
  },
  {
   "cell_type": "code",
   "execution_count": 58,
   "metadata": {},
   "outputs": [
    {
     "data": {
      "image/png": "[encoded data removed]",
      "text/plain": [
       "<Figure size 432x288 with 1 Axes>"
      ]
     },
     "metadata": {
      "needs_background": "light"
     },
     "output_type": "display_data"
    }
   ],
   "source": [
    "plt.title('распределение: цена квартир')\n",
    "plt.ylabel(\"количество объявлений\")\n",
    "plt.xlabel(\"цена\")\n",
    "data['last_price'].hist(bins=30);"
   ]
  },
  {
   "cell_type": "markdown",
   "metadata": {},
   "source": [
    "В графике цен на квартиры 1-2-3-4 комнатные квартиры свалены в кучу - это не очень хорошо. Лучше посмотрим на распределение цен за м2."
   ]
  },
  {
   "cell_type": "code",
   "execution_count": 59,
   "metadata": {},
   "outputs": [
    {
     "data": {
      "text/plain": [
       "count    1.701700e+04\n",
       "mean     9.817595e+04\n",
       "std      5.022537e+04\n",
       "min      7.962960e+03\n",
       "25%      7.441860e+04\n",
       "50%      9.266667e+04\n",
       "75%      1.131725e+05\n",
       "max      1.736842e+06\n",
       "Name: last_price_m2, dtype: float64"
      ]
     },
     "metadata": {},
     "output_type": "display_data"
    },
    {
     "data": {
      "image/png": "[encoded data removed]",
      "text/plain": [
       "<Figure size 432x288 with 1 Axes>"
      ]
     },
     "metadata": {
      "needs_background": "light"
     },
     "output_type": "display_data"
    }
   ],
   "source": [
    "display(data['last_price_m2'].describe())\n",
    "plt.title('распределение: цена м2')\n",
    "plt.ylabel(\"количество объявлений\")\n",
    "plt.xlabel(\"цена\")\n",
    "data['last_price_m2'].hist(bins=30);"
   ]
  },
  {
   "cell_type": "markdown",
   "metadata": {},
   "source": [
    "\n",
    "- комментарий: посмотрим на цену за м2\n",
    "- вид распределения данных: похоже на распределение Пуассона\n",
    "- основной диапазон, описательные статистики: сжато влево, 0-1.75*10^6\n",
    "- наличие аномалий: посмотрим на следующих графиках"
   ]
  },
  {
   "cell_type": "code",
   "execution_count": 60,
   "metadata": {},
   "outputs": [
    {
     "data": {
      "image/png": "[encoded data removed]",
      "text/plain": [
       "<Figure size 432x288 with 1 Axes>"
      ]
     },
     "metadata": {
      "needs_background": "light"
     },
     "output_type": "display_data"
    },
    {
     "data": {
      "image/png": "[encoded data removed]",
      "text/plain": [
       "<Figure size 432x288 with 1 Axes>"
      ]
     },
     "metadata": {
      "needs_background": "light"
     },
     "output_type": "display_data"
    }
   ],
   "source": [
    "plt.title('распределение: цена м2')\n",
    "plt.ylabel(\"количество объявлений\")\n",
    "plt.xlabel(\"цена\")\n",
    "data['last_price_m2'].hist(bins=30, range=(5000, 50000))\n",
    "plt.show()\n",
    "\n",
    "plt.title('распределение: цена м2')\n",
    "plt.ylabel(\"количество объявлений\")\n",
    "plt.xlabel(\"цена\")\n",
    "data['last_price_m2'].hist(bins=30, range=(500000, 1.736842e+06));"
   ]
  },
  {
   "cell_type": "markdown",
   "metadata": {},
   "source": [
    "- комментарий: посмотрим на цену за м2 по краям\n",
    "- вид распределения данных: на краях этого не понять\n",
    "- наличие аномалий: Оставим от 0 до 0.8e+06, остальное удалим."
   ]
  },
  {
   "cell_type": "code",
   "execution_count": 61,
   "metadata": {},
   "outputs": [
    {
     "data": {
      "image/png": "[encoded data removed]",
      "text/plain": [
       "<Figure size 432x288 with 1 Axes>"
      ]
     },
     "metadata": {
      "needs_background": "light"
     },
     "output_type": "display_data"
    }
   ],
   "source": [
    "plt.title('распределение: цена м2')\n",
    "plt.ylabel(\"количество объявлений\")\n",
    "plt.xlabel(\"цена\")\n",
    "data = data.drop( data[data['last_price_m2'] > 0.8e+06].index )\n",
    "data['last_price_m2'].hist(bins=30);"
   ]
  },
  {
   "cell_type": "markdown",
   "metadata": {},
   "source": [
    "Ещё подкорректируем до 400000:"
   ]
  },
  {
   "cell_type": "code",
   "execution_count": 62,
   "metadata": {},
   "outputs": [
    {
     "data": {
      "image/png": "[encoded data removed]",
      "text/plain": [
       "<Figure size 432x288 with 1 Axes>"
      ]
     },
     "metadata": {
      "needs_background": "light"
     },
     "output_type": "display_data"
    }
   ],
   "source": [
    "plt.title('распределение: цена')\n",
    "plt.ylabel(\"количество объявлений\")\n",
    "plt.xlabel(\"цена\")\n",
    "data = data.drop( data[data['last_price_m2'] > 400000].index )\n",
    "data['last_price_m2'].hist(bins=30);"
   ]
  },
  {
   "cell_type": "markdown",
   "metadata": {},
   "source": [
    "- комментарий: график после отсечений\n",
    "- вид распределения данных: больше похоже на нормальное распределение, чем на Пуассона\n",
    "- основной диапазон, описательные статистики: 10000-400000\n",
    "- наличие аномалий: не заметно"
   ]
  },
  {
   "cell_type": "markdown",
   "metadata": {},
   "source": [
    "количество комнат"
   ]
  },
  {
   "cell_type": "code",
   "execution_count": 63,
   "metadata": {},
   "outputs": [
    {
     "data": {
      "text/plain": [
       "count    16966.000000\n",
       "mean         2.454379\n",
       "std          0.935472\n",
       "min          0.000000\n",
       "25%          2.000000\n",
       "50%          2.000000\n",
       "75%          3.000000\n",
       "max         16.000000\n",
       "Name: rooms, dtype: float64"
      ]
     },
     "metadata": {},
     "output_type": "display_data"
    },
    {
     "data": {
      "image/png": "[encoded data removed]",
      "text/plain": [
       "<Figure size 432x288 with 1 Axes>"
      ]
     },
     "metadata": {
      "needs_background": "light"
     },
     "output_type": "display_data"
    }
   ],
   "source": [
    "display(data['rooms'].describe())\n",
    "plt.title('распределение: количество комнат')\n",
    "plt.ylabel(\"количество объявлений\")\n",
    "plt.xlabel('количество комнат')\n",
    "data['rooms'].hist(bins=10);"
   ]
  },
  {
   "cell_type": "markdown",
   "metadata": {},
   "source": [
    "- комментарий: посмотрим на комнаты\n",
    "- вид распределения данных: не понятно, отдалённо похоже на Пуассона\n",
    "- основной диапазон, описательные статистики: сжато влево, 1-8\n",
    "- наличие аномалий: аномалий не заметно, ничего отрезать не будем"
   ]
  },
  {
   "cell_type": "code",
   "execution_count": 64,
   "metadata": {},
   "outputs": [
    {
     "data": {
      "image/png": "[encoded data removed]",
      "text/plain": [
       "<Figure size 432x288 with 1 Axes>"
      ]
     },
     "metadata": {
      "needs_background": "light"
     },
     "output_type": "display_data"
    }
   ],
   "source": [
    "plt.title('распределение: количество комнат')\n",
    "plt.ylabel(\"количество объявлений\")\n",
    "plt.xlabel('количество комнат')\n",
    "data = data.drop( data[(data['rooms'] < 1) | (data['rooms'] > 8)].index )\n",
    "data['rooms'].hist();"
   ]
  },
  {
   "cell_type": "markdown",
   "metadata": {},
   "source": [
    "- наличие аномалий: аномалий не заметно, ничего отрезать не будем"
   ]
  },
  {
   "cell_type": "markdown",
   "metadata": {},
   "source": [
    "высота потолков"
   ]
  },
  {
   "cell_type": "code",
   "execution_count": 65,
   "metadata": {},
   "outputs": [
    {
     "data": {
      "text/plain": [
       "count    16911.000000\n",
       "mean         2.737348\n",
       "std          0.834333\n",
       "min          1.000000\n",
       "25%          2.600000\n",
       "50%          2.650000\n",
       "75%          2.700000\n",
       "max         32.000000\n",
       "Name: ceiling_height, dtype: float64"
      ]
     },
     "metadata": {},
     "output_type": "display_data"
    },
    {
     "data": {
      "image/png": "[encoded data removed]",
      "text/plain": [
       "<Figure size 432x288 with 1 Axes>"
      ]
     },
     "metadata": {
      "needs_background": "light"
     },
     "output_type": "display_data"
    }
   ],
   "source": [
    "display(data['ceiling_height'].describe())\n",
    "plt.title('распределение: высота потолков')\n",
    "plt.ylabel(\"количество объявлений\")\n",
    "plt.xlabel('высота потолков')\n",
    "data['ceiling_height'].hist(bins=30);"
   ]
  },
  {
   "cell_type": "markdown",
   "metadata": {},
   "source": [
    "- комментарий: посмотрим на потолки\n",
    "- вид распределения данных: сложно скадать\n",
    "- основной диапазон, описательные статистики: сжато влево, 0-5\n",
    "- наличие аномалий: посмотрим на следующих графиках"
   ]
  },
  {
   "cell_type": "code",
   "execution_count": 66,
   "metadata": {},
   "outputs": [
    {
     "data": {
      "image/png": "[encoded data removed]",
      "text/plain": [
       "<Figure size 432x288 with 1 Axes>"
      ]
     },
     "metadata": {
      "needs_background": "light"
     },
     "output_type": "display_data"
    }
   ],
   "source": [
    "plt.title('распределение: высота потолков')\n",
    "plt.ylabel(\"количество объявлений\")\n",
    "plt.xlabel('высота потолков')\n",
    "data['ceiling_height'].hist(bins=10, range=(0,5));"
   ]
  },
  {
   "cell_type": "markdown",
   "metadata": {},
   "source": [
    "- комментарий: посмотрим на потолки прицельно слева\n",
    "- вид распределения данных: похоже на Пуассона\n",
    "- наличие аномалий: Оставим от 2 до 5, остальное удалим."
   ]
  },
  {
   "cell_type": "code",
   "execution_count": 67,
   "metadata": {},
   "outputs": [
    {
     "data": {
      "image/png": "[encoded data removed]",
      "text/plain": [
       "<Figure size 432x288 with 1 Axes>"
      ]
     },
     "metadata": {
      "needs_background": "light"
     },
     "output_type": "display_data"
    }
   ],
   "source": [
    "data = data.drop( data[(data['ceiling_height'] < 2) | (data['ceiling_height'] > 5)].index )\n",
    "plt.title('распределение: высота потолков')\n",
    "plt.ylabel(\"количество объявлений\")\n",
    "plt.xlabel('высота потолков')\n",
    "data['ceiling_height'].hist(bins=10);"
   ]
  },
  {
   "cell_type": "markdown",
   "metadata": {},
   "source": [
    "- комментарий: график после отсечений\n",
    "- вид распределения данных: похоже на распределение Пуассона\n",
    "- основной диапазон, описательные статистики: 2-4\n",
    "- наличие аномалий: не заметно"
   ]
  },
  {
   "cell_type": "markdown",
   "metadata": {},
   "source": [
    "тип этажа квартиры "
   ]
  },
  {
   "cell_type": "code",
   "execution_count": 68,
   "metadata": {},
   "outputs": [
    {
     "data": {
      "image/png": "[encoded data removed]",
      "text/plain": [
       "<Figure size 432x288 with 1 Axes>"
      ]
     },
     "metadata": {
      "needs_background": "light"
     },
     "output_type": "display_data"
    }
   ],
   "source": [
    "plt.title('распределение: тип этажа квартиры ')\n",
    "plt.ylabel(\"количество объявлений\")\n",
    "plt.xlabel('тип этажа квартиры')\n",
    "data['floor_type'].hist();"
   ]
  },
  {
   "cell_type": "markdown",
   "metadata": {},
   "source": [
    "- комментарий: посмотрим на тип этажа квартиры\n",
    "- вид распределения данных: похоже на распределение Пуассона\n",
    "- наличие аномалий: аномалий не видно, оставляем как есть"
   ]
  },
  {
   "cell_type": "code",
   "execution_count": 69,
   "metadata": {},
   "outputs": [
    {
     "data": {
      "text/plain": [
       "count    16884.000000\n",
       "mean         9.936686\n",
       "std          6.217872\n",
       "min          1.000000\n",
       "25%          5.000000\n",
       "50%          9.000000\n",
       "75%         13.000000\n",
       "max         60.000000\n",
       "Name: floors_total, dtype: float64"
      ]
     },
     "metadata": {},
     "output_type": "display_data"
    },
    {
     "data": {
      "image/png": "[encoded data removed]",
      "text/plain": [
       "<Figure size 432x288 with 1 Axes>"
      ]
     },
     "metadata": {
      "needs_background": "light"
     },
     "output_type": "display_data"
    }
   ],
   "source": [
    "display(data['floors_total'].describe())\n",
    "plt.title('распределение: всего этажей')\n",
    "plt.ylabel(\"количество объявлений\")\n",
    "plt.xlabel('всего этажей')\n",
    "data['floors_total'].hist();"
   ]
  },
  {
   "cell_type": "markdown",
   "metadata": {},
   "source": [
    "\n",
    "- комментарий: посмотрим на этажи\n",
    "- вид распределения данных: похоже на распределение Пуассона\n",
    "- основной диапазон, описательные статистики: сжато влево, 0-30\n",
    "- наличие аномалий: посмотрим на следующих графиках"
   ]
  },
  {
   "cell_type": "code",
   "execution_count": 70,
   "metadata": {},
   "outputs": [
    {
     "data": {
      "image/png": "[encoded data removed]",
      "text/plain": [
       "<Figure size 432x288 with 1 Axes>"
      ]
     },
     "metadata": {
      "needs_background": "light"
     },
     "output_type": "display_data"
    }
   ],
   "source": [
    "data = data.drop( data[data['floors_total'] > 40].index )\n",
    "plt.title('распределение: всего этажей')\n",
    "plt.ylabel(\"количество объявлений\")\n",
    "plt.xlabel('всего этажей')\n",
    "data['floors_total'].hist(bins=10);"
   ]
  },
  {
   "cell_type": "markdown",
   "metadata": {},
   "source": [
    "ещё скорректируем:"
   ]
  },
  {
   "cell_type": "code",
   "execution_count": 71,
   "metadata": {},
   "outputs": [
    {
     "data": {
      "image/png": "[encoded data removed]",
      "text/plain": [
       "<Figure size 432x288 with 1 Axes>"
      ]
     },
     "metadata": {
      "needs_background": "light"
     },
     "output_type": "display_data"
    }
   ],
   "source": [
    "data = data.drop( data[data['floors_total'] > 30].index )\n",
    "plt.title('распределение: всего этажей')\n",
    "plt.ylabel(\"количество объявлений\")\n",
    "plt.xlabel('всего этажей')\n",
    "data['floors_total'].hist(bins=10);"
   ]
  },
  {
   "cell_type": "markdown",
   "metadata": {},
   "source": [
    "- комментарий: график после отсечений\n",
    "- вид распределения данных: похоже на распределение Пуассона\n",
    "- основной диапазон, описательные статистики: 0-25\n",
    "- наличие аномалий: не заметно"
   ]
  },
  {
   "cell_type": "markdown",
   "metadata": {},
   "source": [
    "расстояние до центра города в метрах"
   ]
  },
  {
   "cell_type": "code",
   "execution_count": 72,
   "metadata": {},
   "outputs": [
    {
     "data": {
      "text/plain": [
       "count    13266.000000\n",
       "mean     13683.148801\n",
       "std       8724.781277\n",
       "min        181.000000\n",
       "25%       8297.000000\n",
       "50%      12658.000000\n",
       "75%      15983.750000\n",
       "max      65968.000000\n",
       "Name: cityCenters_nearest, dtype: float64"
      ]
     },
     "metadata": {},
     "output_type": "display_data"
    },
    {
     "data": {
      "image/png": "[encoded data removed]",
      "text/plain": [
       "<Figure size 432x288 with 1 Axes>"
      ]
     },
     "metadata": {
      "needs_background": "light"
     },
     "output_type": "display_data"
    }
   ],
   "source": [
    "display(data['cityCenters_nearest'].describe())\n",
    "plt.title('распределение: расстояние до центра города в метрах')\n",
    "plt.ylabel(\"количество объявлений\")\n",
    "plt.xlabel('расстояние до центра города в метрах')\n",
    "\n",
    "data['cityCenters_nearest'].hist(bins=50);"
   ]
  },
  {
   "cell_type": "markdown",
   "metadata": {},
   "source": [
    "- комментарий: посмотрим на расстояние до центра города в метрах\n",
    "- вид распределения данных: похоже на распределение Пуассона, либо на смесь нескольких распределений\n",
    "- основной диапазон, описательные статистики: сжато влево, 0-60км\n",
    "- наличие аномалий: аномалий не видно, резать ничего не будем"
   ]
  },
  {
   "cell_type": "markdown",
   "metadata": {},
   "source": [
    "проще проанализировать в км"
   ]
  },
  {
   "cell_type": "code",
   "execution_count": 73,
   "metadata": {},
   "outputs": [
    {
     "data": {
      "text/plain": [
       "count    13266.000000\n",
       "mean        13.676918\n",
       "std          8.732863\n",
       "min          0.000000\n",
       "25%          8.000000\n",
       "50%         13.000000\n",
       "75%         16.000000\n",
       "max         66.000000\n",
       "Name: cityCenters_nearest_km, dtype: float64"
      ]
     },
     "metadata": {},
     "output_type": "display_data"
    },
    {
     "data": {
      "image/png": "[encoded data removed]",
      "text/plain": [
       "<Figure size 432x288 with 1 Axes>"
      ]
     },
     "metadata": {
      "needs_background": "light"
     },
     "output_type": "display_data"
    }
   ],
   "source": [
    "display(data['cityCenters_nearest_km'].describe())\n",
    "plt.title('распределение: расстояние от центра')\n",
    "plt.ylabel(\"количество объявлений\")\n",
    "plt.xlabel('км')\n",
    "data['cityCenters_nearest_km'].hist(bins=50);"
   ]
  },
  {
   "cell_type": "markdown",
   "metadata": {},
   "source": [
    "- комментарий: И 0 км от центра, и 66 (для Ленобласти) выглядит нормально: \"с севера на юг в пределах КАД — 32 км (за пределами КАД — 52 км), с северо-запада на юго-восток за пределами КАД,— около 90 км\". Даже те, кто живёт в области могут интерпретировать \"расстояние до центра города (м)\" как от центра Питера. Можно было бы предложить продакт-менеджеру явно уточнить/добавить поля \"от центра Питера\" и \"от центра населённого пункта\".\n",
    "- вид распределения данных: похоже на распределение Пуассона\n",
    "- основной диапазон, описательные статистики: 0-55\n",
    "- наличие аномалий: не заметно\n"
   ]
  },
  {
   "cell_type": "markdown",
   "metadata": {},
   "source": [
    "Расстояние до ближайшего парка"
   ]
  },
  {
   "cell_type": "code",
   "execution_count": 74,
   "metadata": {},
   "outputs": [
    {
     "data": {
      "text/plain": [
       "count    16861.000000\n",
       "mean     19181.491489\n",
       "std      14222.682373\n",
       "min          1.000000\n",
       "25%        560.000000\n",
       "50%      30000.000000\n",
       "75%      30000.000000\n",
       "max      30000.000000\n",
       "Name: parks_nearest, dtype: float64"
      ]
     },
     "metadata": {},
     "output_type": "display_data"
    },
    {
     "data": {
      "image/png": "[encoded data removed]",
      "text/plain": [
       "<Figure size 432x288 with 1 Axes>"
      ]
     },
     "metadata": {
      "needs_background": "light"
     },
     "output_type": "display_data"
    }
   ],
   "source": [
    "display(data['parks_nearest'].describe())\n",
    "plt.title('распределение: расстояние до парка')\n",
    "plt.ylabel(\"количество объявлений\")\n",
    "plt.xlabel('км')\n",
    "data['parks_nearest'].hist(bins=30, range=(0,5000));"
   ]
  },
  {
   "cell_type": "markdown",
   "metadata": {},
   "source": [
    "Тут не знаю, как лучше поступить. NaN были заменены на 30000. Хорошо ли это для рассчётов - не факт. Но и просто выбрасывать так много данных нельзя. Можно впоследствии дать минимальный вес этой фиче."
   ]
  },
  {
   "cell_type": "code",
   "execution_count": 75,
   "metadata": {},
   "outputs": [
    {
     "data": {
      "image/png": "[encoded data removed]",
      "text/plain": [
       "<Figure size 432x288 with 1 Axes>"
      ]
     },
     "metadata": {
      "needs_background": "light"
     },
     "output_type": "display_data"
    }
   ],
   "source": [
    "plt.title('распределение: расстояние от центра')\n",
    "plt.ylabel(\"количество объявлений\")\n",
    "plt.xlabel('км')\n",
    "data['parks_nearest'].hist(bins=30, range=(0,4000));"
   ]
  },
  {
   "cell_type": "markdown",
   "metadata": {},
   "source": [
    "- комментарий: график после приближения\n",
    "- вид распределения данных: похоже на распределение Пуассона\n",
    "- основной диапазон, описательные статистики: 0-2500\n",
    "- наличие аномалий: не заметно, резать ничего не будем\n"
   ]
  },
  {
   "cell_type": "markdown",
   "metadata": {},
   "source": [
    "#### Изучим, как быстро продавались квартиры (столбец days_exposition). Этот параметр показывает, сколько дней было размещено каждое объявление. "
   ]
  },
  {
   "cell_type": "code",
   "execution_count": 76,
   "metadata": {},
   "outputs": [
    {
     "data": {
      "text/plain": [
       "count    14361.000000\n",
       "mean       188.554697\n",
       "std        226.552532\n",
       "min          1.000000\n",
       "25%         45.000000\n",
       "50%        101.000000\n",
       "75%        242.000000\n",
       "max       1580.000000\n",
       "Name: days_exposition, dtype: float64"
      ]
     },
     "execution_count": 76,
     "metadata": {},
     "output_type": "execute_result"
    }
   ],
   "source": [
    "data['days_exposition'].describe()"
   ]
  },
  {
   "cell_type": "code",
   "execution_count": 77,
   "metadata": {},
   "outputs": [
    {
     "data": {
      "image/png": "[encoded data removed]",
      "text/plain": [
       "<Figure size 432x288 with 1 Axes>"
      ]
     },
     "metadata": {
      "needs_background": "light"
     },
     "output_type": "display_data"
    }
   ],
   "source": [
    "plt.title('распределение: срока продажи')\n",
    "plt.ylabel(\"количество объявлений\")\n",
    "plt.xlabel('срок продажи')\n",
    "data['days_exposition'].hist(bins=50);"
   ]
  },
  {
   "cell_type": "markdown",
   "metadata": {},
   "source": [
    "Согласно медиане, обычно продажа занимает около 95 дней. От 52 до 203 дней, согласно 1 и 3 квартилям.\n",
    "\n",
    "Рекордно быстрая продажа была совершена за 1 день, а рекордно долгая длилась 1580 дней.\n",
    "\n",
    "Можно сказать, что продажа быстрая если она совершена быстрее чем за 52 дня (1й квартиль). Необычно долгой можно назвать продажу выше 3го квартиля в 203 дня. Надеюсь, в задании имелись в виду не аномалии? Если аномалии - то надо будет пересчитать."
   ]
  },
  {
   "cell_type": "code",
   "execution_count": 78,
   "metadata": {},
   "outputs": [
    {
     "data": {
      "image/png": "[encoded data removed]",
      "text/plain": [
       "<Figure size 432x288 with 1 Axes>"
      ]
     },
     "metadata": {
      "needs_background": "light"
     },
     "output_type": "display_data"
    }
   ],
   "source": [
    "plt.title('распределение: срока продажи')\n",
    "plt.ylabel(\"количество объявлений\")\n",
    "plt.xlabel('срок продажи')\n",
    "data['days_exposition'].hist(bins=500, range=(0,200));"
   ]
  },
  {
   "cell_type": "markdown",
   "metadata": {},
   "source": [
    "посмотрим, что это за дни:"
   ]
  },
  {
   "cell_type": "code",
   "execution_count": 79,
   "metadata": {},
   "outputs": [
    {
     "data": {
      "text/plain": [
       "days_exposition\n",
       "4.0     112\n",
       "5.0     101\n",
       "7.0     149\n",
       "30.0    143\n",
       "45.0    571\n",
       "60.0    460\n",
       "90.0    178\n",
       "Name: last_price, dtype: int64"
      ]
     },
     "execution_count": 79,
     "metadata": {},
     "output_type": "execute_result"
    }
   ],
   "source": [
    "d = data.groupby(by='days_exposition')['last_price'].count()\n",
    "d = d [d>100]\n",
    "d"
   ]
  },
  {
   "cell_type": "markdown",
   "metadata": {},
   "source": [
    "Выявилась интересная закономерность: на 30й, 45й, 60й и 90й день продажи резко возрастают. \n",
    "Вероятно, это связано с периодами оплаты объявлений или с периодами их автоматического закрытия системой.\n",
    "Давайте посмотрим на такие данные детальнее."
   ]
  },
  {
   "cell_type": "code",
   "execution_count": 80,
   "metadata": {},
   "outputs": [
    {
     "data": {
      "text/plain": [
       "2    218\n",
       "3    163\n",
       "1     53\n",
       "4     23\n",
       "5      2\n",
       "Name: rooms, dtype: int64"
      ]
     },
     "execution_count": 80,
     "metadata": {},
     "output_type": "execute_result"
    }
   ],
   "source": [
    "d = data.query('days_exposition == 45 or days_exposition == 60')\n",
    "d['rooms'].value_counts().head()"
   ]
  },
  {
   "cell_type": "markdown",
   "metadata": {},
   "source": [
    "<- преимущественно это касается двушек и трёшек"
   ]
  },
  {
   "cell_type": "code",
   "execution_count": 81,
   "metadata": {},
   "outputs": [
    {
     "data": {
      "image/png": "[encoded data removed]",
      "text/plain": [
       "<Figure size 432x288 with 1 Axes>"
      ]
     },
     "metadata": {
      "needs_background": "light"
     },
     "output_type": "display_data"
    }
   ],
   "source": [
    "plt.title('цены - все VS продажи на 45й и 60й день')\n",
    "plt.ylabel(\"количество объявлений\")\n",
    "plt.xlabel('цена')\n",
    "data['last_price'].hist();\n",
    "d['last_price'].hist();\n"
   ]
  },
  {
   "cell_type": "markdown",
   "metadata": {},
   "source": [
    "Видно, что данная аномалия касается очень малой части ближе к самому массовому сегменту квартир. Перепроверим на м2:"
   ]
  },
  {
   "cell_type": "code",
   "execution_count": 82,
   "metadata": {},
   "outputs": [
    {
     "data": {
      "image/png": "[encoded data removed]",
      "text/plain": [
       "<Figure size 432x288 with 1 Axes>"
      ]
     },
     "metadata": {
      "needs_background": "light"
     },
     "output_type": "display_data"
    }
   ],
   "source": [
    "plt.title('цены - все VS продажи на 45й и 60й день')\n",
    "plt.ylabel(\"количество объявлений\")\n",
    "plt.xlabel('цена')\n",
    "data['last_price_m2'].hist();\n",
    "d['last_price_m2'].hist();"
   ]
  },
  {
   "cell_type": "markdown",
   "metadata": {},
   "source": [
    "- на м2 то - же самое"
   ]
  },
  {
   "cell_type": "code",
   "execution_count": 83,
   "metadata": {},
   "outputs": [
    {
     "data": {
      "text/plain": [
       "Санкт-Петербург      346\n",
       "поселок Парголово     11\n",
       "поселок Шушары        10\n",
       "поселок Кудрово       10\n",
       "Сестрорецк             9\n",
       "Name: locality_name, dtype: Int64"
      ]
     },
     "execution_count": 83,
     "metadata": {},
     "output_type": "execute_result"
    }
   ],
   "source": [
    "d['locality_name'].value_counts().head()"
   ]
  },
  {
   "cell_type": "markdown",
   "metadata": {},
   "source": [
    "<- видно, что в основном эти аномалии происходят в Питере.\n",
    "\n",
    "Остальные фичи проанализированы подобным же образом и никаких подозртиельных аномалий выявить пока не удалось."
   ]
  },
  {
   "cell_type": "markdown",
   "metadata": {},
   "source": [
    "#### Определим факторы, которые больше всего влияют на общую (полную) стоимость объекта."
   ]
  },
  {
   "cell_type": "code",
   "execution_count": 84,
   "metadata": {},
   "outputs": [
    {
     "data": {
      "image/png": "[encoded data removed]",
      "text/plain": [
       "<Figure size 648x648 with 16 Axes>"
      ]
     },
     "metadata": {
      "needs_background": "light"
     },
     "output_type": "display_data"
    }
   ],
   "source": [
    "key_features = data [['last_price', 'total_area', 'living_area', 'kitchen_area']]\n",
    "\n",
    "pd.plotting.scatter_matrix(key_features, figsize=(9,9))\n",
    "plt.suptitle('влияние факторов на общую (полную) стоимость объекта.')\n",
    "plt.show()"
   ]
  },
  {
   "cell_type": "code",
   "execution_count": 85,
   "metadata": {},
   "outputs": [
    {
     "data": {
      "text/html": [
       "<div>\n",
       "<style scoped>\n",
       "    .dataframe tbody tr th:only-of-type {\n",
       "        vertical-align: middle;\n",
       "    }\n",
       "\n",
       "    .dataframe tbody tr th {\n",
       "        vertical-align: top;\n",
       "    }\n",
       "\n",
       "    .dataframe thead th {\n",
       "        text-align: right;\n",
       "    }\n",
       "</style>\n",
       "<table border=\"1\" class=\"dataframe\">\n",
       "  <thead>\n",
       "    <tr style=\"text-align: right;\">\n",
       "      <th></th>\n",
       "      <th>last_price</th>\n",
       "      <th>total_area</th>\n",
       "      <th>living_area</th>\n",
       "      <th>kitchen_area</th>\n",
       "    </tr>\n",
       "  </thead>\n",
       "  <tbody>\n",
       "    <tr>\n",
       "      <th>last_price</th>\n",
       "      <td>1.000000</td>\n",
       "      <td>0.770179</td>\n",
       "      <td>0.683420</td>\n",
       "      <td>0.588693</td>\n",
       "    </tr>\n",
       "    <tr>\n",
       "      <th>total_area</th>\n",
       "      <td>0.770179</td>\n",
       "      <td>1.000000</td>\n",
       "      <td>0.929888</td>\n",
       "      <td>0.640725</td>\n",
       "    </tr>\n",
       "    <tr>\n",
       "      <th>living_area</th>\n",
       "      <td>0.683420</td>\n",
       "      <td>0.929888</td>\n",
       "      <td>1.000000</td>\n",
       "      <td>0.452956</td>\n",
       "    </tr>\n",
       "    <tr>\n",
       "      <th>kitchen_area</th>\n",
       "      <td>0.588693</td>\n",
       "      <td>0.640725</td>\n",
       "      <td>0.452956</td>\n",
       "      <td>1.000000</td>\n",
       "    </tr>\n",
       "  </tbody>\n",
       "</table>\n",
       "</div>"
      ],
      "text/plain": [
       "              last_price  total_area  living_area  kitchen_area\n",
       "last_price      1.000000    0.770179     0.683420      0.588693\n",
       "total_area      0.770179    1.000000     0.929888      0.640725\n",
       "living_area     0.683420    0.929888     1.000000      0.452956\n",
       "kitchen_area    0.588693    0.640725     0.452956      1.000000"
      ]
     },
     "execution_count": 85,
     "metadata": {},
     "output_type": "execute_result"
    }
   ],
   "source": [
    "key_features.corr()"
   ]
  },
  {
   "cell_type": "markdown",
   "metadata": {},
   "source": [
    "Из построенных графиков и из таблицы видно (максимальная корреляция 0.77), что цена в наибольшей степени зависит от общей площади."
   ]
  },
  {
   "cell_type": "code",
   "execution_count": 86,
   "metadata": {},
   "outputs": [
    {
     "data": {
      "image/png": "[encoded data removed]",
      "text/plain": [
       "<Figure size 216x216 with 1 Axes>"
      ]
     },
     "metadata": {
      "needs_background": "light"
     },
     "output_type": "display_data"
    }
   ],
   "source": [
    "(data\n",
    " .groupby(by='rooms')['last_price']\n",
    " .median()\n",
    " .plot( y='last_price', kind='bar', figsize=(3,3), title='цены по количеству комнат', xlabel='количество комнат', ylabel='цена')\n",
    ")\n",
    "plt.show()"
   ]
  },
  {
   "cell_type": "markdown",
   "metadata": {},
   "source": [
    "<- количество комнат также напрямую связано с площадью, поэтому можно в итоге ориентироваться на площадь. Чем больше комнат, тем выше цена."
   ]
  },
  {
   "cell_type": "code",
   "execution_count": 87,
   "metadata": {},
   "outputs": [
    {
     "data": {
      "image/png": "[encoded data removed]",
      "text/plain": [
       "<Figure size 216x216 with 1 Axes>"
      ]
     },
     "metadata": {
      "needs_background": "light"
     },
     "output_type": "display_data"
    }
   ],
   "source": [
    "(data\n",
    " .groupby(by='floor_type')['last_price']\n",
    " .median()\n",
    " .plot( y='last_price', kind='bar', figsize=(3,3), title='цены категории этажа', xlabel='категории этажа', ylabel='цена')\n",
    " )\n",
    "plt.show()"
   ]
  },
  {
   "cell_type": "markdown",
   "metadata": {},
   "source": [
    "Из графика видно, что дороже стоят квартиры не на певом и не на последнем этаже. Меньше остальных стоят квартиры на первом этаже."
   ]
  },
  {
   "cell_type": "code",
   "execution_count": 88,
   "metadata": {},
   "outputs": [
    {
     "data": {
      "image/png": "[encoded data removed]",
      "text/plain": [
       "<Figure size 720x216 with 1 Axes>"
      ]
     },
     "metadata": {
      "needs_background": "light"
     },
     "output_type": "display_data"
    }
   ],
   "source": [
    "(data\n",
    " .groupby(by='first_day_exposition_day')['last_price']\n",
    " .median()\n",
    " .plot( y='last_price', kind='bar', figsize=(10,3), title='цены по дням', xlabel='день месяца', ylabel='цена')\n",
    ")\n",
    "plt.show()"
   ]
  },
  {
   "cell_type": "markdown",
   "metadata": {},
   "source": [
    "Видно, что от дня месяца цена не зависит."
   ]
  },
  {
   "cell_type": "code",
   "execution_count": 89,
   "metadata": {},
   "outputs": [
    {
     "data": {
      "image/png": "[encoded data removed]",
      "text/plain": [
       "<Figure size 720x216 with 1 Axes>"
      ]
     },
     "metadata": {
      "needs_background": "light"
     },
     "output_type": "display_data"
    }
   ],
   "source": [
    "(data\n",
    " .groupby(by='first_day_exposition_month')['last_price']\n",
    " .median()\n",
    " .plot( y='last_price', kind='bar', figsize=(10,3), title='цены по месяцам', xlabel='месяц', ylabel='цена')\n",
    ")\n",
    "plt.show()"
   ]
  },
  {
   "cell_type": "markdown",
   "metadata": {},
   "source": [
    "Видно, что от месяца цена не зависит."
   ]
  },
  {
   "cell_type": "code",
   "execution_count": 109,
   "metadata": {},
   "outputs": [
    {
     "data": {
      "image/png": "[encoded data removed]",
      "text/plain": [
       "<Figure size 864x360 with 1 Axes>"
      ]
     },
     "metadata": {
      "needs_background": "light"
     },
     "output_type": "display_data"
    }
   ],
   "source": [
    "# Код ревбьюера\n",
    "ax = data.groupby('first_day_exposition_month')['last_price'].median()\\\n",
    "    .plot(kind = 'bar', rot = 0, xlabel = 'Месяц', ylabel = 'Медианная цена',\n",
    "         figsize = (12, 5))\n",
    "ax.axhline(data['last_price'].median(), color = \"red\", linestyle = 'dashed')\n",
    "plt.title('Медианная цена по месяцам')\n",
    "plt.ylim(4000000, 6000000)\n",
    "plt.show()"
   ]
  },
  {
   "cell_type": "code",
   "execution_count": 90,
   "metadata": {},
   "outputs": [
    {
     "data": {
      "image/png": "[encoded data removed]",
      "text/plain": [
       "<Figure size 360x216 with 1 Axes>"
      ]
     },
     "metadata": {
      "needs_background": "light"
     },
     "output_type": "display_data"
    }
   ],
   "source": [
    "(data\n",
    " .groupby(by='first_day_exposition_year')['last_price']\n",
    " .median()\n",
    " .plot( y='last_price', kind='bar', figsize=(5,3), title='цены по годам', xlabel='год', ylabel='цена')\n",
    ")\n",
    "plt.show()"
   ]
  },
  {
   "cell_type": "markdown",
   "metadata": {},
   "source": [
    "В 2014 цена была максимальной на отрезке времени 2014-2019."
   ]
  },
  {
   "cell_type": "markdown",
   "metadata": {},
   "source": [
    "#### Посчитайте среднюю цену одного квадратного метра"
   ]
  },
  {
   "cell_type": "code",
   "execution_count": 91,
   "metadata": {},
   "outputs": [
    {
     "data": {
      "text/html": [
       "<div>\n",
       "<style scoped>\n",
       "    .dataframe tbody tr th:only-of-type {\n",
       "        vertical-align: middle;\n",
       "    }\n",
       "\n",
       "    .dataframe tbody tr th {\n",
       "        vertical-align: top;\n",
       "    }\n",
       "\n",
       "    .dataframe thead th {\n",
       "        text-align: right;\n",
       "    }\n",
       "</style>\n",
       "<table border=\"1\" class=\"dataframe\">\n",
       "  <thead>\n",
       "    <tr style=\"text-align: right;\">\n",
       "      <th></th>\n",
       "      <th>count</th>\n",
       "      <th>mean</th>\n",
       "    </tr>\n",
       "    <tr>\n",
       "      <th>locality_name</th>\n",
       "      <th></th>\n",
       "      <th></th>\n",
       "    </tr>\n",
       "  </thead>\n",
       "  <tbody>\n",
       "    <tr>\n",
       "      <th>Санкт-Петербург</th>\n",
       "      <td>11614</td>\n",
       "      <td>111226.314338</td>\n",
       "    </tr>\n",
       "    <tr>\n",
       "      <th>поселок Шушары</th>\n",
       "      <td>280</td>\n",
       "      <td>74184.335786</td>\n",
       "    </tr>\n",
       "    <tr>\n",
       "      <th>Всеволожск</th>\n",
       "      <td>274</td>\n",
       "      <td>66191.538139</td>\n",
       "    </tr>\n",
       "    <tr>\n",
       "      <th>Пушкин</th>\n",
       "      <td>266</td>\n",
       "      <td>102851.417895</td>\n",
       "    </tr>\n",
       "    <tr>\n",
       "      <th>Колпино</th>\n",
       "      <td>253</td>\n",
       "      <td>72331.048261</td>\n",
       "    </tr>\n",
       "    <tr>\n",
       "      <th>Гатчина</th>\n",
       "      <td>221</td>\n",
       "      <td>67357.710136</td>\n",
       "    </tr>\n",
       "    <tr>\n",
       "      <th>поселок Мурино</th>\n",
       "      <td>210</td>\n",
       "      <td>78151.652667</td>\n",
       "    </tr>\n",
       "    <tr>\n",
       "      <th>Выборг</th>\n",
       "      <td>188</td>\n",
       "      <td>56913.116277</td>\n",
       "    </tr>\n",
       "    <tr>\n",
       "      <th>поселок Парголово</th>\n",
       "      <td>157</td>\n",
       "      <td>84118.258599</td>\n",
       "    </tr>\n",
       "    <tr>\n",
       "      <th>Петергоф</th>\n",
       "      <td>142</td>\n",
       "      <td>84205.424930</td>\n",
       "    </tr>\n",
       "  </tbody>\n",
       "</table>\n",
       "</div>"
      ],
      "text/plain": [
       "                   count           mean\n",
       "locality_name                          \n",
       "Санкт-Петербург    11614  111226.314338\n",
       "поселок Шушары       280   74184.335786\n",
       "Всеволожск           274   66191.538139\n",
       "Пушкин               266  102851.417895\n",
       "Колпино              253   72331.048261\n",
       "Гатчина              221   67357.710136\n",
       "поселок Мурино       210   78151.652667\n",
       "Выборг               188   56913.116277\n",
       "поселок Парголово    157   84118.258599\n",
       "Петергоф             142   84205.424930"
      ]
     },
     "metadata": {},
     "output_type": "display_data"
    },
    {
     "data": {
      "text/plain": [
       "'Самая высокая цена:'"
      ]
     },
     "metadata": {},
     "output_type": "display_data"
    },
    {
     "data": {
      "text/html": [
       "<div>\n",
       "<style scoped>\n",
       "    .dataframe tbody tr th:only-of-type {\n",
       "        vertical-align: middle;\n",
       "    }\n",
       "\n",
       "    .dataframe tbody tr th {\n",
       "        vertical-align: top;\n",
       "    }\n",
       "\n",
       "    .dataframe thead th {\n",
       "        text-align: right;\n",
       "    }\n",
       "</style>\n",
       "<table border=\"1\" class=\"dataframe\">\n",
       "  <thead>\n",
       "    <tr style=\"text-align: right;\">\n",
       "      <th></th>\n",
       "      <th>count</th>\n",
       "      <th>mean</th>\n",
       "    </tr>\n",
       "    <tr>\n",
       "      <th>locality_name</th>\n",
       "      <th></th>\n",
       "      <th></th>\n",
       "    </tr>\n",
       "  </thead>\n",
       "  <tbody>\n",
       "    <tr>\n",
       "      <th>Санкт-Петербург</th>\n",
       "      <td>11614</td>\n",
       "      <td>111226.314338</td>\n",
       "    </tr>\n",
       "  </tbody>\n",
       "</table>\n",
       "</div>"
      ],
      "text/plain": [
       "                 count           mean\n",
       "locality_name                        \n",
       "Санкт-Петербург  11614  111226.314338"
      ]
     },
     "metadata": {},
     "output_type": "display_data"
    },
    {
     "data": {
      "text/plain": [
       "'Самая низкая цена:'"
      ]
     },
     "metadata": {},
     "output_type": "display_data"
    },
    {
     "data": {
      "text/html": [
       "<div>\n",
       "<style scoped>\n",
       "    .dataframe tbody tr th:only-of-type {\n",
       "        vertical-align: middle;\n",
       "    }\n",
       "\n",
       "    .dataframe tbody tr th {\n",
       "        vertical-align: top;\n",
       "    }\n",
       "\n",
       "    .dataframe thead th {\n",
       "        text-align: right;\n",
       "    }\n",
       "</style>\n",
       "<table border=\"1\" class=\"dataframe\">\n",
       "  <thead>\n",
       "    <tr style=\"text-align: right;\">\n",
       "      <th></th>\n",
       "      <th>count</th>\n",
       "      <th>mean</th>\n",
       "    </tr>\n",
       "    <tr>\n",
       "      <th>locality_name</th>\n",
       "      <th></th>\n",
       "      <th></th>\n",
       "    </tr>\n",
       "  </thead>\n",
       "  <tbody>\n",
       "    <tr>\n",
       "      <th>Петергоф</th>\n",
       "      <td>142</td>\n",
       "      <td>84205.42493</td>\n",
       "    </tr>\n",
       "  </tbody>\n",
       "</table>\n",
       "</div>"
      ],
      "text/plain": [
       "               count         mean\n",
       "locality_name                    \n",
       "Петергоф         142  84205.42493"
      ]
     },
     "metadata": {},
     "output_type": "display_data"
    }
   ],
   "source": [
    "pivot = data.pivot_table(index='locality_name', values='last_price_m2', aggfunc={'count', 'mean'}).sort_values(by='count', ascending=0)\n",
    "display (pivot.head(10))\n",
    "display(\"Самая высокая цена:\")\n",
    "display (pivot.head(1))\n",
    "display(\"Самая низкая цена:\")\n",
    "display (pivot.head(10).tail(1))"
   ]
  },
  {
   "cell_type": "markdown",
   "metadata": {},
   "source": [
    "#### Выделим квартиры в Санкт-Петербурге с помощью столбца locality_name и вычислим их среднюю стоимость на разном удалении от центра"
   ]
  },
  {
   "cell_type": "code",
   "execution_count": 92,
   "metadata": {},
   "outputs": [
    {
     "data": {
      "image/png": "[encoded data removed]",
      "text/plain": [
       "<Figure size 432x288 with 1 Axes>"
      ]
     },
     "metadata": {
      "needs_background": "light"
     },
     "output_type": "display_data"
    }
   ],
   "source": [
    "spb_price_per_km = data.query('locality_name == \"Санкт-Петербург\"').pivot_table (index='cityCenters_nearest_km', values=['last_price'])\n",
    "spb_price_per_km.plot(title='цена в зависимости от расстояния до центра', kind='bar', xlabel='км', ylabel=\"цена\");"
   ]
  },
  {
   "cell_type": "markdown",
   "metadata": {},
   "source": [
    "Чем ближе квартира к центру, тем выше цена, за исключением двух пиков:\n",
    "* в 3-4  км. от центра стоимость снижается \n",
    "* на 28 км. "
   ]
  },
  {
   "cell_type": "code",
   "execution_count": 93,
   "metadata": {},
   "outputs": [
    {
     "data": {
      "text/html": [
       "<div>\n",
       "<style scoped>\n",
       "    .dataframe tbody tr th:only-of-type {\n",
       "        vertical-align: middle;\n",
       "    }\n",
       "\n",
       "    .dataframe tbody tr th {\n",
       "        vertical-align: top;\n",
       "    }\n",
       "\n",
       "    .dataframe thead th {\n",
       "        text-align: right;\n",
       "    }\n",
       "</style>\n",
       "<table border=\"1\" class=\"dataframe\">\n",
       "  <thead>\n",
       "    <tr style=\"text-align: right;\">\n",
       "      <th></th>\n",
       "      <th>total_images</th>\n",
       "      <th>last_price</th>\n",
       "      <th>total_area</th>\n",
       "      <th>first_day_exposition</th>\n",
       "      <th>rooms</th>\n",
       "      <th>ceiling_height</th>\n",
       "      <th>floors_total</th>\n",
       "      <th>living_area</th>\n",
       "      <th>floor</th>\n",
       "      <th>is_apartment</th>\n",
       "      <th>...</th>\n",
       "      <th>ponds_around3000</th>\n",
       "      <th>ponds_nearest</th>\n",
       "      <th>days_exposition</th>\n",
       "      <th>last_price_m2</th>\n",
       "      <th>first_day_exposition_weekday</th>\n",
       "      <th>first_day_exposition_day</th>\n",
       "      <th>first_day_exposition_month</th>\n",
       "      <th>first_day_exposition_year</th>\n",
       "      <th>floor_type</th>\n",
       "      <th>cityCenters_nearest_km</th>\n",
       "    </tr>\n",
       "  </thead>\n",
       "  <tbody>\n",
       "    <tr>\n",
       "      <th>748</th>\n",
       "      <td>13</td>\n",
       "      <td>14350000.0</td>\n",
       "      <td>74.0</td>\n",
       "      <td>2017-11-28</td>\n",
       "      <td>2</td>\n",
       "      <td>3.13</td>\n",
       "      <td>5</td>\n",
       "      <td>30.0</td>\n",
       "      <td>3</td>\n",
       "      <td>False</td>\n",
       "      <td>...</td>\n",
       "      <td>0</td>\n",
       "      <td>30000.0</td>\n",
       "      <td>128.0</td>\n",
       "      <td>193918.92</td>\n",
       "      <td>1</td>\n",
       "      <td>28</td>\n",
       "      <td>11</td>\n",
       "      <td>2017</td>\n",
       "      <td>другой</td>\n",
       "      <td>27.0</td>\n",
       "    </tr>\n",
       "  </tbody>\n",
       "</table>\n",
       "<p>1 rows × 29 columns</p>\n",
       "</div>"
      ],
      "text/plain": [
       "     total_images  last_price  total_area first_day_exposition  rooms  \\\n",
       "748            13  14350000.0        74.0           2017-11-28      2   \n",
       "\n",
       "     ceiling_height  floors_total  living_area  floor  is_apartment  ...  \\\n",
       "748            3.13             5         30.0      3         False  ...   \n",
       "\n",
       "     ponds_around3000  ponds_nearest  days_exposition  last_price_m2  \\\n",
       "748                 0        30000.0            128.0      193918.92   \n",
       "\n",
       "    first_day_exposition_weekday  first_day_exposition_day  \\\n",
       "748                            1                        28   \n",
       "\n",
       "     first_day_exposition_month  first_day_exposition_year  floor_type  \\\n",
       "748                          11                       2017      другой   \n",
       "\n",
       "     cityCenters_nearest_km  \n",
       "748                    27.0  \n",
       "\n",
       "[1 rows x 29 columns]"
      ]
     },
     "execution_count": 93,
     "metadata": {},
     "output_type": "execute_result"
    }
   ],
   "source": [
    "data.query('(locality_name == \"Санкт-Петербург\") and (cityCenters_nearest_km==27)')"
   ]
  },
  {
   "cell_type": "markdown",
   "metadata": {},
   "source": [
    "На 27 км. одна квартира за 14 млн. Тип диаграммы изменён на столбчатый - он более оказался показателен."
   ]
  },
  {
   "cell_type": "markdown",
   "metadata": {
    "id": "h7VpzkIDAwb-"
   },
   "source": [
    "### Напишите общий вывод"
   ]
  },
  {
   "cell_type": "markdown",
   "metadata": {},
   "source": [
    "Цель данной проектной работы: \"научиться определять рыночную стоимость объектов недвижимости, установив параметры, влияющие на цену объектов\".\n",
    "#### Главные параметры, влияющие на цену объектов\n",
    "В наибольшей степени на цену влияет общая площадь и удаление от центра. Это следует из таблицы корреляции (значение 0.77):"
   ]
  },
  {
   "cell_type": "code",
   "execution_count": 94,
   "metadata": {},
   "outputs": [
    {
     "data": {
      "text/html": [
       "<div>\n",
       "<style scoped>\n",
       "    .dataframe tbody tr th:only-of-type {\n",
       "        vertical-align: middle;\n",
       "    }\n",
       "\n",
       "    .dataframe tbody tr th {\n",
       "        vertical-align: top;\n",
       "    }\n",
       "\n",
       "    .dataframe thead th {\n",
       "        text-align: right;\n",
       "    }\n",
       "</style>\n",
       "<table border=\"1\" class=\"dataframe\">\n",
       "  <thead>\n",
       "    <tr style=\"text-align: right;\">\n",
       "      <th></th>\n",
       "      <th>last_price</th>\n",
       "      <th>total_area</th>\n",
       "      <th>living_area</th>\n",
       "      <th>kitchen_area</th>\n",
       "    </tr>\n",
       "  </thead>\n",
       "  <tbody>\n",
       "    <tr>\n",
       "      <th>last_price</th>\n",
       "      <td>1.000000</td>\n",
       "      <td>0.770179</td>\n",
       "      <td>0.683420</td>\n",
       "      <td>0.588693</td>\n",
       "    </tr>\n",
       "    <tr>\n",
       "      <th>total_area</th>\n",
       "      <td>0.770179</td>\n",
       "      <td>1.000000</td>\n",
       "      <td>0.929888</td>\n",
       "      <td>0.640725</td>\n",
       "    </tr>\n",
       "    <tr>\n",
       "      <th>living_area</th>\n",
       "      <td>0.683420</td>\n",
       "      <td>0.929888</td>\n",
       "      <td>1.000000</td>\n",
       "      <td>0.452956</td>\n",
       "    </tr>\n",
       "    <tr>\n",
       "      <th>kitchen_area</th>\n",
       "      <td>0.588693</td>\n",
       "      <td>0.640725</td>\n",
       "      <td>0.452956</td>\n",
       "      <td>1.000000</td>\n",
       "    </tr>\n",
       "  </tbody>\n",
       "</table>\n",
       "</div>"
      ],
      "text/plain": [
       "              last_price  total_area  living_area  kitchen_area\n",
       "last_price      1.000000    0.770179     0.683420      0.588693\n",
       "total_area      0.770179    1.000000     0.929888      0.640725\n",
       "living_area     0.683420    0.929888     1.000000      0.452956\n",
       "kitchen_area    0.588693    0.640725     0.452956      1.000000"
      ]
     },
     "execution_count": 94,
     "metadata": {},
     "output_type": "execute_result"
    }
   ],
   "source": [
    "key_features.corr()"
   ]
  },
  {
   "cell_type": "markdown",
   "metadata": {},
   "source": [
    "Также с ценой коррелирует удалённость от центра. Чем ближе к центру - тем выше цена."
   ]
  },
  {
   "cell_type": "code",
   "execution_count": 95,
   "metadata": {},
   "outputs": [
    {
     "data": {
      "image/png": "[encoded data removed]",
      "text/plain": [
       "<Figure size 432x288 with 1 Axes>"
      ]
     },
     "metadata": {
      "needs_background": "light"
     },
     "output_type": "display_data"
    }
   ],
   "source": [
    "spb_price_per_km = data.query('locality_name == \"Санкт-Петербург\"').pivot_table (index='cityCenters_nearest_km', values=['last_price'])\n",
    "spb_price_per_km.plot(title='цена в зависимости от расстояния до центра', kind='bar', xlabel='км', ylabel=\"цена\");"
   ]
  },
  {
   "cell_type": "markdown",
   "metadata": {},
   "source": [
    "Помимо этого цена коррелирует с количеством комнат (в то же время, количество комнат связано с общей площадью):"
   ]
  },
  {
   "cell_type": "code",
   "execution_count": 96,
   "metadata": {},
   "outputs": [
    {
     "data": {
      "image/png": "[encoded data removed]",
      "text/plain": [
       "<Figure size 216x216 with 1 Axes>"
      ]
     },
     "metadata": {
      "needs_background": "light"
     },
     "output_type": "display_data"
    }
   ],
   "source": [
    "(data\n",
    " .groupby(by='rooms')['last_price']\n",
    " .median()\n",
    " .plot( y='last_price', kind='bar', figsize=(3,3), title='цены по количеству комнат', xlabel='количество комнат', ylabel='цена')\n",
    ")\n",
    "plt.show()"
   ]
  },
  {
   "cell_type": "markdown",
   "metadata": {},
   "source": [
    "#### Рекомендации для сервиса\n",
    "1. Инетрфейс сервиса дложен объяснять пользователю разницу между апартаментами и квартирами и требовать явное указание этого поля. Т. к. апартаменты это или квартира - важный признак в плане налогов и последующей возможной перепродажи, это поле - довольно \"чувствительное\" по значению. А сейчас доля неопределённости слишком велика (20924/23699=88%).\n",
    "1. Параметр cityCenters_nearest, ponds_around3000, parks_around3000 должны заполняться автоматически. Почему в данных были пропуски? Разработчикам стоит разобраться и исправить это.\n",
    "1. Почему сейчас в данных нет расстояния до ближайшего метро? Это также может быть важным фактором цены.\n",
    "1. жилая площадь и площадь кухни бывает не указана (NaN). Её пришлось вычислить пропорционально средним значений в соседних данных. Хорошо бы, чтобы в этих полях не было пропусков.\n",
    "1. Нужно иметь в данных этажность зданий (не должно быть пропусков, как сейчас). Это важный параметр для того, чтобы понять - последний ли этаж (такие квартиры стоят меньше). Не нужно заставлять пользователя заполнять это поле, эти поля уже должны быть в данны яндекс-карт.\n",
    "1. Следующие поля сейчас имеют неверные типы - их прошлось исправлять, хотелось бы, чтобы в будущих отгрузках эти поля уже имели правильные типы:\n",
    "    1. Поле first_day_exposition должно стать полем даты.\n",
    "    1. floors_total ->int64\n",
    "    1. is_apartment -> bool\n",
    "    1. parks_around3000, ponds_around3000  -> int64\n",
    "    1. days_exposition -> int64\n",
    "1. В названиях типов насёлённых пунктов много неоднозначности, нужно обновить их следующим образом:\n",
    "    1. садоводческое некоммерческое товарищество' -> 'садовое товарищество'\n",
    "    1. 'поселок станции' -> 'поселок при железнодорожной станции'\n",
    "    1. ['городской поселок', 'деревня', 'коттеджный поселок', 'поселок городского типа', 'поселок городского типа имени', 'поселок при железнодорожной станции', 'поселок станции'] -> поселок"
   ]
  },
  {
   "cell_type": "markdown",
   "metadata": {},
   "source": [
    "#### Другие итоги проведённого исследования\n",
    "1. Обработаны (заполнены) пропуски в следующих полях:\n",
    "    1. is_apartment\n",
    "    1. parks_nearest\n",
    "    1. ponds_nearest\n",
    "    1. balcony\n",
    "    1. ceiling_height\n",
    "    1. airports_nearest\n",
    "    1. kitchen_area (вычислено из общей площади, по типичной пропорции)\n",
    "    1. living_area (вычислено из общей площади, по типичной пропорции)\n",
    "    1. floors_total\n",
    "    1. locality_name\n",
    "    1. ponds_around3000\n",
    "    1. parks_around3000\n",
    "1. для удобства рассчётов добавлены поля:\n",
    "    1. стоимость m2\n",
    "    1. день недели\n",
    "    1. день месяца\n",
    "    1. месяц\n",
    "    1. год\n",
    "    1. тип этажа (первый/последний/другое)\n",
    "    1. расстояние до города в км\n",
    "1. Удалены данные, аномально выделяющиеся из общего распределения:\n",
    "    1.  с общей площадью <20 м2 и > более 300 м2\n",
    "    1.  с жилой площадью <20 м2 и > более 200 м2\n",
    "    1.  с площадью кухни > 40 м2\n",
    "    1.  с ценой м2 > 400000\n",
    "    1.  с комнатами <1 и > 8\n",
    "    1.  с высотой потолков < 2 и > 5\n",
    "    1.  с этажами > 30\n",
    "1. Сроки продажи\n",
    "    1. Согласно медиане, обычно продажа занимает около 95 дней. От 52 до 203 дней, согласно 1 и 3 квартилям.\n",
    "    1. Рекордно быстрая продажа была совершена за 1 день, а рекордно долгая длилась 1580 дней.\n",
    "    1. Можно сказать, что продажа быстрая если она совершена быстрее чем за 52 дня (1й квартиль). Необычно долгой можно назвать продажу выше 3го квартиля в 203 дня.\n",
    "1. Выявилась интересная закономерность: на 30й, 45й, 60й и 90й день продажи резко возрастают.  Вероятно, это связано с периодами оплаты объявлений или с периодами их автоматического закрытия системой.\n",
    "1. В 2014 цена была максимальной на отрезке времени 2014-2019."
   ]
  }
 ],
 "metadata": {
  "ExecuteTimeLog": [
   {
    "duration": 2739,
    "start_time": "2024-08-28T10:56:40.271Z"
   },
   {
    "duration": 10,
    "start_time": "2024-08-28T10:56:43.012Z"
   },
   {
    "duration": 35,
    "start_time": "2024-08-28T10:56:43.024Z"
   },
   {
    "duration": 7,
    "start_time": "2024-08-28T10:56:43.061Z"
   },
   {
    "duration": 13,
    "start_time": "2024-08-28T10:56:43.069Z"
   },
   {
    "duration": 3,
    "start_time": "2024-08-28T10:56:43.084Z"
   },
   {
    "duration": 9,
    "start_time": "2024-08-28T10:56:43.089Z"
   },
   {
    "duration": 8,
    "start_time": "2024-08-28T10:56:43.099Z"
   },
   {
    "duration": 4,
    "start_time": "2024-08-28T10:56:43.108Z"
   },
   {
    "duration": 19,
    "start_time": "2024-08-28T10:56:43.115Z"
   },
   {
    "duration": 14,
    "start_time": "2024-08-28T10:56:43.136Z"
   },
   {
    "duration": 20,
    "start_time": "2024-08-28T10:56:43.152Z"
   },
   {
    "duration": 23,
    "start_time": "2024-08-28T10:56:43.173Z"
   },
   {
    "duration": 15,
    "start_time": "2024-08-28T10:56:43.197Z"
   },
   {
    "duration": 15,
    "start_time": "2024-08-28T10:56:43.214Z"
   },
   {
    "duration": 6,
    "start_time": "2024-08-28T10:56:43.230Z"
   },
   {
    "duration": 26,
    "start_time": "2024-08-28T10:56:43.238Z"
   },
   {
    "duration": 15,
    "start_time": "2024-08-28T10:56:43.265Z"
   },
   {
    "duration": 22,
    "start_time": "2024-08-28T10:56:43.282Z"
   },
   {
    "duration": 5,
    "start_time": "2024-08-28T10:56:43.305Z"
   },
   {
    "duration": 24,
    "start_time": "2024-08-28T10:56:43.311Z"
   },
   {
    "duration": 16,
    "start_time": "2024-08-28T10:56:43.336Z"
   },
   {
    "duration": 14,
    "start_time": "2024-08-28T10:56:43.353Z"
   },
   {
    "duration": 24,
    "start_time": "2024-08-28T10:56:43.368Z"
   },
   {
    "duration": 6,
    "start_time": "2024-08-28T10:56:43.394Z"
   },
   {
    "duration": 82,
    "start_time": "2024-08-28T10:56:43.401Z"
   },
   {
    "duration": 16,
    "start_time": "2024-08-28T10:56:43.485Z"
   },
   {
    "duration": 52,
    "start_time": "2024-08-28T10:56:43.504Z"
   },
   {
    "duration": 23,
    "start_time": "2024-08-28T10:56:43.557Z"
   },
   {
    "duration": 53,
    "start_time": "2024-08-28T10:56:43.582Z"
   },
   {
    "duration": 53,
    "start_time": "2024-08-28T10:56:43.637Z"
   },
   {
    "duration": 12,
    "start_time": "2024-08-28T10:56:43.708Z"
   },
   {
    "duration": 35,
    "start_time": "2024-08-28T10:56:43.722Z"
   },
   {
    "duration": 12,
    "start_time": "2024-08-28T10:56:43.759Z"
   },
   {
    "duration": 10,
    "start_time": "2024-08-28T10:56:43.773Z"
   },
   {
    "duration": 5,
    "start_time": "2024-08-28T10:56:43.784Z"
   },
   {
    "duration": 341,
    "start_time": "2024-08-28T10:56:43.791Z"
   },
   {
    "duration": 8,
    "start_time": "2024-08-28T10:56:44.134Z"
   },
   {
    "duration": 184,
    "start_time": "2024-08-28T10:56:44.143Z"
   },
   {
    "duration": 364,
    "start_time": "2024-08-28T10:56:44.328Z"
   },
   {
    "duration": 242,
    "start_time": "2024-08-28T10:56:44.694Z"
   },
   {
    "duration": 9,
    "start_time": "2024-08-28T10:56:44.938Z"
   },
   {
    "duration": 179,
    "start_time": "2024-08-28T10:56:44.949Z"
   },
   {
    "duration": 392,
    "start_time": "2024-08-28T10:56:45.130Z"
   },
   {
    "duration": 175,
    "start_time": "2024-08-28T10:56:45.524Z"
   },
   {
    "duration": 11,
    "start_time": "2024-08-28T10:56:45.701Z"
   },
   {
    "duration": 203,
    "start_time": "2024-08-28T10:56:45.714Z"
   },
   {
    "duration": 171,
    "start_time": "2024-08-28T10:56:45.919Z"
   },
   {
    "duration": 16,
    "start_time": "2024-08-28T10:56:46.092Z"
   },
   {
    "duration": 171,
    "start_time": "2024-08-28T10:56:46.110Z"
   },
   {
    "duration": 181,
    "start_time": "2024-08-28T10:56:46.283Z"
   },
   {
    "duration": 378,
    "start_time": "2024-08-28T10:56:46.465Z"
   },
   {
    "duration": 167,
    "start_time": "2024-08-28T10:56:46.845Z"
   },
   {
    "duration": 169,
    "start_time": "2024-08-28T10:56:47.014Z"
   },
   {
    "duration": 182,
    "start_time": "2024-08-28T10:56:47.185Z"
   },
   {
    "duration": 275,
    "start_time": "2024-08-28T10:56:47.369Z"
   },
   {
    "duration": 179,
    "start_time": "2024-08-28T10:56:47.646Z"
   },
   {
    "duration": 178,
    "start_time": "2024-08-28T10:56:47.826Z"
   },
   {
    "duration": 135,
    "start_time": "2024-08-28T10:56:48.006Z"
   },
   {
    "duration": 130,
    "start_time": "2024-08-28T10:56:48.143Z"
   },
   {
    "duration": 136,
    "start_time": "2024-08-28T10:56:48.275Z"
   },
   {
    "duration": 151,
    "start_time": "2024-08-28T10:56:48.413Z"
   },
   {
    "duration": 130,
    "start_time": "2024-08-28T10:56:48.566Z"
   },
   {
    "duration": 245,
    "start_time": "2024-08-28T10:56:48.698Z"
   },
   {
    "duration": 201,
    "start_time": "2024-08-28T10:56:48.945Z"
   },
   {
    "duration": 196,
    "start_time": "2024-08-28T10:56:49.148Z"
   },
   {
    "duration": 175,
    "start_time": "2024-08-28T10:56:49.346Z"
   },
   {
    "duration": 8,
    "start_time": "2024-08-28T10:56:49.523Z"
   },
   {
    "duration": 240,
    "start_time": "2024-08-28T10:56:49.532Z"
   },
   {
    "duration": 4659,
    "start_time": "2024-08-28T10:56:49.773Z"
   },
   {
    "duration": 14,
    "start_time": "2024-08-28T10:56:54.433Z"
   },
   {
    "duration": 176,
    "start_time": "2024-08-28T10:56:54.449Z"
   },
   {
    "duration": 157,
    "start_time": "2024-08-28T10:56:54.626Z"
   },
   {
    "duration": 171,
    "start_time": "2024-08-28T10:56:54.784Z"
   },
   {
    "duration": 37,
    "start_time": "2024-08-28T10:56:54.957Z"
   },
   {
    "duration": 37,
    "start_time": "2024-08-28T10:56:55.006Z"
   },
   {
    "duration": 27,
    "start_time": "2024-08-28T10:56:55.045Z"
   },
   {
    "duration": 13,
    "start_time": "2024-08-28T11:07:05.579Z"
   },
   {
    "duration": 840,
    "start_time": "2024-09-01T07:49:12.841Z"
   },
   {
    "duration": 1754,
    "start_time": "2024-09-01T07:49:13.683Z"
   },
   {
    "duration": 16,
    "start_time": "2024-09-01T07:49:15.438Z"
   },
   {
    "duration": 16,
    "start_time": "2024-09-01T07:49:15.456Z"
   },
   {
    "duration": 45,
    "start_time": "2024-09-01T07:49:15.473Z"
   },
   {
    "duration": 33,
    "start_time": "2024-09-01T07:49:15.519Z"
   },
   {
    "duration": 15,
    "start_time": "2024-09-01T07:49:15.553Z"
   },
   {
    "duration": 6,
    "start_time": "2024-09-01T07:49:15.569Z"
   },
   {
    "duration": 21,
    "start_time": "2024-09-01T07:49:15.576Z"
   },
   {
    "duration": 3,
    "start_time": "2024-09-01T07:49:15.600Z"
   },
   {
    "duration": 8,
    "start_time": "2024-09-01T07:49:15.604Z"
   },
   {
    "duration": 34,
    "start_time": "2024-09-01T07:49:15.613Z"
   },
   {
    "duration": 5,
    "start_time": "2024-09-01T07:49:15.648Z"
   },
   {
    "duration": 35,
    "start_time": "2024-09-01T07:49:15.654Z"
   },
   {
    "duration": 3,
    "start_time": "2024-09-01T07:49:15.691Z"
   },
   {
    "duration": 19,
    "start_time": "2024-09-01T07:49:15.695Z"
   },
   {
    "duration": 23,
    "start_time": "2024-09-01T07:49:15.715Z"
   },
   {
    "duration": 2,
    "start_time": "2024-09-01T07:49:15.746Z"
   },
   {
    "duration": 30,
    "start_time": "2024-09-01T07:49:15.749Z"
   },
   {
    "duration": 12,
    "start_time": "2024-09-01T07:49:15.781Z"
   },
   {
    "duration": 24,
    "start_time": "2024-09-01T07:49:15.794Z"
   },
   {
    "duration": 21,
    "start_time": "2024-09-01T07:49:15.819Z"
   },
   {
    "duration": 20,
    "start_time": "2024-09-01T07:49:15.841Z"
   },
   {
    "duration": 12,
    "start_time": "2024-09-01T07:49:15.863Z"
   },
   {
    "duration": 58,
    "start_time": "2024-09-01T07:49:15.876Z"
   },
   {
    "duration": 22,
    "start_time": "2024-09-01T07:49:15.936Z"
   },
   {
    "duration": 20,
    "start_time": "2024-09-01T07:49:15.959Z"
   },
   {
    "duration": 22,
    "start_time": "2024-09-01T07:49:15.983Z"
   },
   {
    "duration": 6,
    "start_time": "2024-09-01T07:49:16.007Z"
   },
   {
    "duration": 14,
    "start_time": "2024-09-01T07:49:16.014Z"
   },
   {
    "duration": 5,
    "start_time": "2024-09-01T07:49:16.032Z"
   },
   {
    "duration": 47,
    "start_time": "2024-09-01T07:49:16.038Z"
   },
   {
    "duration": 16,
    "start_time": "2024-09-01T07:49:16.086Z"
   },
   {
    "duration": 47,
    "start_time": "2024-09-01T07:49:16.104Z"
   },
   {
    "duration": 25,
    "start_time": "2024-09-01T07:49:16.152Z"
   },
   {
    "duration": 51,
    "start_time": "2024-09-01T07:49:16.178Z"
   },
   {
    "duration": 50,
    "start_time": "2024-09-01T07:49:16.246Z"
   },
   {
    "duration": 10,
    "start_time": "2024-09-01T07:49:16.298Z"
   },
   {
    "duration": 50,
    "start_time": "2024-09-01T07:49:16.310Z"
   },
   {
    "duration": 28,
    "start_time": "2024-09-01T07:49:16.362Z"
   },
   {
    "duration": 97,
    "start_time": "2024-09-01T07:49:16.392Z"
   },
   {
    "duration": 6,
    "start_time": "2024-09-01T07:49:16.490Z"
   },
   {
    "duration": 17,
    "start_time": "2024-09-01T07:49:16.498Z"
   },
   {
    "duration": 67,
    "start_time": "2024-09-01T07:49:16.516Z"
   },
   {
    "duration": 400,
    "start_time": "2024-09-01T07:49:16.585Z"
   },
   {
    "duration": 8,
    "start_time": "2024-09-01T07:49:16.987Z"
   },
   {
    "duration": 175,
    "start_time": "2024-09-01T07:49:16.996Z"
   },
   {
    "duration": 406,
    "start_time": "2024-09-01T07:49:17.173Z"
   },
   {
    "duration": 276,
    "start_time": "2024-09-01T07:49:17.581Z"
   },
   {
    "duration": 9,
    "start_time": "2024-09-01T07:49:17.859Z"
   },
   {
    "duration": 183,
    "start_time": "2024-09-01T07:49:17.869Z"
   },
   {
    "duration": 386,
    "start_time": "2024-09-01T07:49:18.054Z"
   },
   {
    "duration": 202,
    "start_time": "2024-09-01T07:49:18.445Z"
   },
   {
    "duration": 9,
    "start_time": "2024-09-01T07:49:18.649Z"
   },
   {
    "duration": 169,
    "start_time": "2024-09-01T07:49:18.660Z"
   },
   {
    "duration": 183,
    "start_time": "2024-09-01T07:49:18.831Z"
   },
   {
    "duration": 8,
    "start_time": "2024-09-01T07:49:19.015Z"
   },
   {
    "duration": 186,
    "start_time": "2024-09-01T07:49:19.025Z"
   },
   {
    "duration": 190,
    "start_time": "2024-09-01T07:49:19.212Z"
   },
   {
    "duration": 414,
    "start_time": "2024-09-01T07:49:19.404Z"
   },
   {
    "duration": 182,
    "start_time": "2024-09-01T07:49:19.820Z"
   },
   {
    "duration": 183,
    "start_time": "2024-09-01T07:49:20.004Z"
   },
   {
    "duration": 165,
    "start_time": "2024-09-01T07:49:20.188Z"
   },
   {
    "duration": 178,
    "start_time": "2024-09-01T07:49:20.355Z"
   },
   {
    "duration": 218,
    "start_time": "2024-09-01T07:49:20.535Z"
   },
   {
    "duration": 149,
    "start_time": "2024-09-01T07:49:20.755Z"
   },
   {
    "duration": 152,
    "start_time": "2024-09-01T07:49:20.906Z"
   },
   {
    "duration": 131,
    "start_time": "2024-09-01T07:49:21.060Z"
   },
   {
    "duration": 168,
    "start_time": "2024-09-01T07:49:21.193Z"
   },
   {
    "duration": 169,
    "start_time": "2024-09-01T07:49:21.363Z"
   },
   {
    "duration": 221,
    "start_time": "2024-09-01T07:49:21.533Z"
   },
   {
    "duration": 217,
    "start_time": "2024-09-01T07:49:21.756Z"
   },
   {
    "duration": 193,
    "start_time": "2024-09-01T07:49:21.975Z"
   },
   {
    "duration": 178,
    "start_time": "2024-09-01T07:49:22.169Z"
   },
   {
    "duration": 213,
    "start_time": "2024-09-01T07:49:22.349Z"
   },
   {
    "duration": 11,
    "start_time": "2024-09-01T07:49:22.564Z"
   },
   {
    "duration": 230,
    "start_time": "2024-09-01T07:49:22.577Z"
   },
   {
    "duration": 856,
    "start_time": "2024-09-01T07:49:22.809Z"
   },
   {
    "duration": 7,
    "start_time": "2024-09-01T07:49:23.666Z"
   },
   {
    "duration": 10,
    "start_time": "2024-09-01T07:49:23.675Z"
   },
   {
    "duration": 171,
    "start_time": "2024-09-01T07:49:23.686Z"
   },
   {
    "duration": 180,
    "start_time": "2024-09-01T07:49:23.862Z"
   },
   {
    "duration": 7,
    "start_time": "2024-09-01T07:49:24.043Z"
   },
   {
    "duration": 1578,
    "start_time": "2024-09-01T07:49:24.051Z"
   },
   {
    "duration": 10,
    "start_time": "2024-09-01T07:49:25.630Z"
   },
   {
    "duration": 135,
    "start_time": "2024-09-01T07:49:25.641Z"
   },
   {
    "duration": 202,
    "start_time": "2024-09-01T07:49:25.777Z"
   },
   {
    "duration": 256,
    "start_time": "2024-09-01T07:49:25.981Z"
   },
   {
    "duration": 158,
    "start_time": "2024-09-01T07:49:26.238Z"
   },
   {
    "duration": 124,
    "start_time": "2024-09-01T07:49:26.398Z"
   },
   {
    "duration": 39,
    "start_time": "2024-09-01T07:49:26.524Z"
   },
   {
    "duration": 323,
    "start_time": "2024-09-01T07:49:26.564Z"
   },
   {
    "duration": 31,
    "start_time": "2024-09-01T07:49:26.889Z"
   },
   {
    "duration": 10,
    "start_time": "2024-09-01T07:49:26.921Z"
   },
   {
    "duration": 292,
    "start_time": "2024-09-01T07:49:26.947Z"
   },
   {
    "duration": 138,
    "start_time": "2024-09-01T07:49:27.246Z"
   },
   {
    "duration": 5,
    "start_time": "2024-09-01T07:58:35.738Z"
   },
   {
    "duration": 78,
    "start_time": "2024-09-01T07:58:43.199Z"
   },
   {
    "duration": 16,
    "start_time": "2024-09-01T07:58:50.832Z"
   },
   {
    "duration": 12,
    "start_time": "2024-09-01T07:59:13.265Z"
   },
   {
    "duration": 15,
    "start_time": "2024-09-01T07:59:16.848Z"
   },
   {
    "duration": 17,
    "start_time": "2024-09-01T07:59:22.467Z"
   },
   {
    "duration": 8,
    "start_time": "2024-09-01T08:01:49.333Z"
   },
   {
    "duration": 8,
    "start_time": "2024-09-01T08:01:55.024Z"
   },
   {
    "duration": 16,
    "start_time": "2024-09-01T08:02:38.323Z"
   },
   {
    "duration": 67,
    "start_time": "2024-09-01T08:08:28.533Z"
   },
   {
    "duration": 18,
    "start_time": "2024-09-01T08:15:04.949Z"
   },
   {
    "duration": 380,
    "start_time": "2024-09-01T08:15:19.488Z"
   },
   {
    "duration": 361,
    "start_time": "2024-09-01T08:16:45.521Z"
   },
   {
    "duration": 73,
    "start_time": "2024-09-01T08:18:08.091Z"
   }
  ],
  "colab": {
   "provenance": []
  },
  "kernelspec": {
   "display_name": "Python 3 (ipykernel)",
   "language": "python",
   "name": "python3"
  },
  "language_info": {
   "codemirror_mode": {
    "name": "ipython",
    "version": 3
   },
   "file_extension": ".py",
   "mimetype": "text/x-python",
   "name": "python",
   "nbconvert_exporter": "python",
   "pygments_lexer": "ipython3",
   "version": "3.9.5"
  },
  "toc": {
   "base_numbering": 1,
   "nav_menu": {},
   "number_sections": true,
   "sideBar": true,
   "skip_h1_title": true,
   "title_cell": "Table of Contents",
   "title_sidebar": "Contents",
   "toc_cell": false,
   "toc_position": {},
   "toc_section_display": true,
   "toc_window_display": true
  }
 },
 "nbformat": 4,
 "nbformat_minor": 1
}
